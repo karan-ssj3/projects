{
 "cells": [
  {
   "cell_type": "code",
   "execution_count": 1,
   "id": "eb0a076f",
   "metadata": {},
   "outputs": [],
   "source": [
    "import pandas as pd \n",
    "import numpy as np\n",
    "import matplotlib.pyplot as plt\n",
    "import seaborn as sns\n",
    "import warnings\n",
    "%matplotlib inline\n",
    "warnings.filterwarnings(\"ignore\")"
   ]
  },
  {
   "cell_type": "code",
   "execution_count": 2,
   "id": "d308be9e",
   "metadata": {},
   "outputs": [],
   "source": [
    "pd.set_option(\"display.max_columns\",500)"
   ]
  },
  {
   "cell_type": "code",
   "execution_count": 3,
   "id": "7794dd7c",
   "metadata": {},
   "outputs": [],
   "source": [
    "df = pd.read_csv(\"/Users/karanbhutani/Downloads/Apps_data+(1).csv\")"
   ]
  },
  {
   "cell_type": "code",
   "execution_count": 4,
   "id": "178b9073",
   "metadata": {},
   "outputs": [
    {
     "data": {
      "text/html": [
       "<div>\n",
       "<style scoped>\n",
       "    .dataframe tbody tr th:only-of-type {\n",
       "        vertical-align: middle;\n",
       "    }\n",
       "\n",
       "    .dataframe tbody tr th {\n",
       "        vertical-align: top;\n",
       "    }\n",
       "\n",
       "    .dataframe thead th {\n",
       "        text-align: right;\n",
       "    }\n",
       "</style>\n",
       "<table border=\"1\" class=\"dataframe\">\n",
       "  <thead>\n",
       "    <tr style=\"text-align: right;\">\n",
       "      <th></th>\n",
       "      <th>App</th>\n",
       "      <th>Category</th>\n",
       "      <th>Rating</th>\n",
       "      <th>Reviews</th>\n",
       "      <th>Size</th>\n",
       "      <th>Installs</th>\n",
       "      <th>Type</th>\n",
       "      <th>Price</th>\n",
       "      <th>Content Rating</th>\n",
       "      <th>Genres</th>\n",
       "      <th>Last Updated</th>\n",
       "      <th>Current Ver</th>\n",
       "      <th>Android Ver</th>\n",
       "    </tr>\n",
       "  </thead>\n",
       "  <tbody>\n",
       "    <tr>\n",
       "      <th>0</th>\n",
       "      <td>Photo Editor &amp; Candy Camera &amp; Grid &amp; ScrapBook</td>\n",
       "      <td>ART_AND_DESIGN</td>\n",
       "      <td>4.1</td>\n",
       "      <td>159</td>\n",
       "      <td>19M</td>\n",
       "      <td>10,000+</td>\n",
       "      <td>Free</td>\n",
       "      <td>0</td>\n",
       "      <td>Everyone</td>\n",
       "      <td>Art &amp; Design</td>\n",
       "      <td>January 7, 2018</td>\n",
       "      <td>1.0.0</td>\n",
       "      <td>4.0.3 and up</td>\n",
       "    </tr>\n",
       "    <tr>\n",
       "      <th>1</th>\n",
       "      <td>Coloring book moana</td>\n",
       "      <td>ART_AND_DESIGN</td>\n",
       "      <td>3.9</td>\n",
       "      <td>967</td>\n",
       "      <td>14M</td>\n",
       "      <td>500,000+</td>\n",
       "      <td>Free</td>\n",
       "      <td>0</td>\n",
       "      <td>Everyone</td>\n",
       "      <td>Art &amp; Design;Pretend Play</td>\n",
       "      <td>January 15, 2018</td>\n",
       "      <td>2.0.0</td>\n",
       "      <td>4.0.3 and up</td>\n",
       "    </tr>\n",
       "    <tr>\n",
       "      <th>2</th>\n",
       "      <td>U Launcher Lite – FREE Live Cool Themes, Hide ...</td>\n",
       "      <td>ART_AND_DESIGN</td>\n",
       "      <td>4.7</td>\n",
       "      <td>87510</td>\n",
       "      <td>8.7M</td>\n",
       "      <td>5,000,000+</td>\n",
       "      <td>Free</td>\n",
       "      <td>0</td>\n",
       "      <td>Everyone</td>\n",
       "      <td>Art &amp; Design</td>\n",
       "      <td>August 1, 2018</td>\n",
       "      <td>1.2.4</td>\n",
       "      <td>4.0.3 and up</td>\n",
       "    </tr>\n",
       "    <tr>\n",
       "      <th>3</th>\n",
       "      <td>Sketch - Draw &amp; Paint</td>\n",
       "      <td>ART_AND_DESIGN</td>\n",
       "      <td>4.5</td>\n",
       "      <td>215644</td>\n",
       "      <td>25M</td>\n",
       "      <td>50,000,000+</td>\n",
       "      <td>Free</td>\n",
       "      <td>0</td>\n",
       "      <td>Teen</td>\n",
       "      <td>Art &amp; Design</td>\n",
       "      <td>June 8, 2018</td>\n",
       "      <td>Varies with device</td>\n",
       "      <td>4.2 and up</td>\n",
       "    </tr>\n",
       "    <tr>\n",
       "      <th>4</th>\n",
       "      <td>Pixel Draw - Number Art Coloring Book</td>\n",
       "      <td>ART_AND_DESIGN</td>\n",
       "      <td>4.3</td>\n",
       "      <td>967</td>\n",
       "      <td>2.8M</td>\n",
       "      <td>100,000+</td>\n",
       "      <td>Free</td>\n",
       "      <td>0</td>\n",
       "      <td>Everyone</td>\n",
       "      <td>Art &amp; Design;Creativity</td>\n",
       "      <td>June 20, 2018</td>\n",
       "      <td>1.1</td>\n",
       "      <td>4.4 and up</td>\n",
       "    </tr>\n",
       "  </tbody>\n",
       "</table>\n",
       "</div>"
      ],
      "text/plain": [
       "                                                 App        Category  Rating  \\\n",
       "0     Photo Editor & Candy Camera & Grid & ScrapBook  ART_AND_DESIGN     4.1   \n",
       "1                                Coloring book moana  ART_AND_DESIGN     3.9   \n",
       "2  U Launcher Lite – FREE Live Cool Themes, Hide ...  ART_AND_DESIGN     4.7   \n",
       "3                              Sketch - Draw & Paint  ART_AND_DESIGN     4.5   \n",
       "4              Pixel Draw - Number Art Coloring Book  ART_AND_DESIGN     4.3   \n",
       "\n",
       "  Reviews  Size     Installs  Type Price Content Rating  \\\n",
       "0     159   19M      10,000+  Free     0       Everyone   \n",
       "1     967   14M     500,000+  Free     0       Everyone   \n",
       "2   87510  8.7M   5,000,000+  Free     0       Everyone   \n",
       "3  215644   25M  50,000,000+  Free     0           Teen   \n",
       "4     967  2.8M     100,000+  Free     0       Everyone   \n",
       "\n",
       "                      Genres      Last Updated         Current Ver  \\\n",
       "0               Art & Design   January 7, 2018               1.0.0   \n",
       "1  Art & Design;Pretend Play  January 15, 2018               2.0.0   \n",
       "2               Art & Design    August 1, 2018               1.2.4   \n",
       "3               Art & Design      June 8, 2018  Varies with device   \n",
       "4    Art & Design;Creativity     June 20, 2018                 1.1   \n",
       "\n",
       "    Android Ver  \n",
       "0  4.0.3 and up  \n",
       "1  4.0.3 and up  \n",
       "2  4.0.3 and up  \n",
       "3    4.2 and up  \n",
       "4    4.4 and up  "
      ]
     },
     "execution_count": 4,
     "metadata": {},
     "output_type": "execute_result"
    }
   ],
   "source": [
    "df.head()"
   ]
  },
  {
   "cell_type": "markdown",
   "id": "bc9f90a6",
   "metadata": {},
   "source": [
    "## Becoming one with the data, Getting to know the data "
   ]
  },
  {
   "cell_type": "code",
   "execution_count": 5,
   "id": "cd8b5d31",
   "metadata": {},
   "outputs": [
    {
     "data": {
      "text/plain": [
       "(10841, 13)"
      ]
     },
     "execution_count": 5,
     "metadata": {},
     "output_type": "execute_result"
    }
   ],
   "source": [
    "df.shape"
   ]
  },
  {
   "cell_type": "code",
   "execution_count": 6,
   "id": "1abc34ea",
   "metadata": {},
   "outputs": [
    {
     "name": "stdout",
     "output_type": "stream",
     "text": [
      "<class 'pandas.core.frame.DataFrame'>\n",
      "RangeIndex: 10841 entries, 0 to 10840\n",
      "Data columns (total 13 columns):\n",
      " #   Column          Non-Null Count  Dtype  \n",
      "---  ------          --------------  -----  \n",
      " 0   App             10841 non-null  object \n",
      " 1   Category        10841 non-null  object \n",
      " 2   Rating          9367 non-null   float64\n",
      " 3   Reviews         10841 non-null  object \n",
      " 4   Size            10841 non-null  object \n",
      " 5   Installs        10841 non-null  object \n",
      " 6   Type            10840 non-null  object \n",
      " 7   Price           10841 non-null  object \n",
      " 8   Content Rating  10840 non-null  object \n",
      " 9   Genres          10841 non-null  object \n",
      " 10  Last Updated    10841 non-null  object \n",
      " 11  Current Ver     10833 non-null  object \n",
      " 12  Android Ver     10838 non-null  object \n",
      "dtypes: float64(1), object(12)\n",
      "memory usage: 1.1+ MB\n"
     ]
    }
   ],
   "source": [
    "df.info()"
   ]
  },
  {
   "cell_type": "markdown",
   "id": "b9d26b94",
   "metadata": {},
   "source": [
    "We have a data set with about 11,000 instance with 13 features. Rating is the only numerical feature out of al."
   ]
  },
  {
   "cell_type": "code",
   "execution_count": 7,
   "id": "92f3f6a2",
   "metadata": {},
   "outputs": [
    {
     "data": {
      "text/plain": [
       "Index(['App', 'Category', 'Rating', 'Reviews', 'Size', 'Installs', 'Type',\n",
       "       'Price', 'Content Rating', 'Genres', 'Last Updated', 'Current Ver',\n",
       "       'Android Ver'],\n",
       "      dtype='object')"
      ]
     },
     "execution_count": 7,
     "metadata": {},
     "output_type": "execute_result"
    }
   ],
   "source": [
    "df.columns"
   ]
  },
  {
   "cell_type": "code",
   "execution_count": 8,
   "id": "0e7c1664",
   "metadata": {},
   "outputs": [
    {
     "data": {
      "text/html": [
       "<div>\n",
       "<style scoped>\n",
       "    .dataframe tbody tr th:only-of-type {\n",
       "        vertical-align: middle;\n",
       "    }\n",
       "\n",
       "    .dataframe tbody tr th {\n",
       "        vertical-align: top;\n",
       "    }\n",
       "\n",
       "    .dataframe thead th {\n",
       "        text-align: right;\n",
       "    }\n",
       "</style>\n",
       "<table border=\"1\" class=\"dataframe\">\n",
       "  <thead>\n",
       "    <tr style=\"text-align: right;\">\n",
       "      <th></th>\n",
       "      <th>App</th>\n",
       "      <th>Category</th>\n",
       "      <th>Rating</th>\n",
       "      <th>Reviews</th>\n",
       "      <th>Size</th>\n",
       "      <th>Installs</th>\n",
       "      <th>Type</th>\n",
       "      <th>Price</th>\n",
       "      <th>Content Rating</th>\n",
       "      <th>Genres</th>\n",
       "      <th>Last Updated</th>\n",
       "      <th>Current Ver</th>\n",
       "      <th>Android Ver</th>\n",
       "    </tr>\n",
       "  </thead>\n",
       "  <tbody>\n",
       "    <tr>\n",
       "      <th>0</th>\n",
       "      <td>Photo Editor &amp; Candy Camera &amp; Grid &amp; ScrapBook</td>\n",
       "      <td>ART_AND_DESIGN</td>\n",
       "      <td>4.1</td>\n",
       "      <td>159</td>\n",
       "      <td>19M</td>\n",
       "      <td>10,000+</td>\n",
       "      <td>Free</td>\n",
       "      <td>0</td>\n",
       "      <td>Everyone</td>\n",
       "      <td>Art &amp; Design</td>\n",
       "      <td>January 7, 2018</td>\n",
       "      <td>1.0.0</td>\n",
       "      <td>4.0.3 and up</td>\n",
       "    </tr>\n",
       "    <tr>\n",
       "      <th>1</th>\n",
       "      <td>Coloring book moana</td>\n",
       "      <td>ART_AND_DESIGN</td>\n",
       "      <td>3.9</td>\n",
       "      <td>967</td>\n",
       "      <td>14M</td>\n",
       "      <td>500,000+</td>\n",
       "      <td>Free</td>\n",
       "      <td>0</td>\n",
       "      <td>Everyone</td>\n",
       "      <td>Art &amp; Design;Pretend Play</td>\n",
       "      <td>January 15, 2018</td>\n",
       "      <td>2.0.0</td>\n",
       "      <td>4.0.3 and up</td>\n",
       "    </tr>\n",
       "    <tr>\n",
       "      <th>2</th>\n",
       "      <td>U Launcher Lite – FREE Live Cool Themes, Hide ...</td>\n",
       "      <td>ART_AND_DESIGN</td>\n",
       "      <td>4.7</td>\n",
       "      <td>87510</td>\n",
       "      <td>8.7M</td>\n",
       "      <td>5,000,000+</td>\n",
       "      <td>Free</td>\n",
       "      <td>0</td>\n",
       "      <td>Everyone</td>\n",
       "      <td>Art &amp; Design</td>\n",
       "      <td>August 1, 2018</td>\n",
       "      <td>1.2.4</td>\n",
       "      <td>4.0.3 and up</td>\n",
       "    </tr>\n",
       "    <tr>\n",
       "      <th>3</th>\n",
       "      <td>Sketch - Draw &amp; Paint</td>\n",
       "      <td>ART_AND_DESIGN</td>\n",
       "      <td>4.5</td>\n",
       "      <td>215644</td>\n",
       "      <td>25M</td>\n",
       "      <td>50,000,000+</td>\n",
       "      <td>Free</td>\n",
       "      <td>0</td>\n",
       "      <td>Teen</td>\n",
       "      <td>Art &amp; Design</td>\n",
       "      <td>June 8, 2018</td>\n",
       "      <td>Varies with device</td>\n",
       "      <td>4.2 and up</td>\n",
       "    </tr>\n",
       "    <tr>\n",
       "      <th>4</th>\n",
       "      <td>Pixel Draw - Number Art Coloring Book</td>\n",
       "      <td>ART_AND_DESIGN</td>\n",
       "      <td>4.3</td>\n",
       "      <td>967</td>\n",
       "      <td>2.8M</td>\n",
       "      <td>100,000+</td>\n",
       "      <td>Free</td>\n",
       "      <td>0</td>\n",
       "      <td>Everyone</td>\n",
       "      <td>Art &amp; Design;Creativity</td>\n",
       "      <td>June 20, 2018</td>\n",
       "      <td>1.1</td>\n",
       "      <td>4.4 and up</td>\n",
       "    </tr>\n",
       "    <tr>\n",
       "      <th>5</th>\n",
       "      <td>Paper flowers instructions</td>\n",
       "      <td>ART_AND_DESIGN</td>\n",
       "      <td>4.4</td>\n",
       "      <td>167</td>\n",
       "      <td>5.6M</td>\n",
       "      <td>50,000+</td>\n",
       "      <td>Free</td>\n",
       "      <td>0</td>\n",
       "      <td>Everyone</td>\n",
       "      <td>Art &amp; Design</td>\n",
       "      <td>March 26, 2017</td>\n",
       "      <td>1.0</td>\n",
       "      <td>2.3 and up</td>\n",
       "    </tr>\n",
       "    <tr>\n",
       "      <th>6</th>\n",
       "      <td>Smoke Effect Photo Maker - Smoke Editor</td>\n",
       "      <td>ART_AND_DESIGN</td>\n",
       "      <td>3.8</td>\n",
       "      <td>178</td>\n",
       "      <td>19M</td>\n",
       "      <td>50,000+</td>\n",
       "      <td>Free</td>\n",
       "      <td>0</td>\n",
       "      <td>Everyone</td>\n",
       "      <td>Art &amp; Design</td>\n",
       "      <td>April 26, 2018</td>\n",
       "      <td>1.1</td>\n",
       "      <td>4.0.3 and up</td>\n",
       "    </tr>\n",
       "    <tr>\n",
       "      <th>7</th>\n",
       "      <td>Infinite Painter</td>\n",
       "      <td>ART_AND_DESIGN</td>\n",
       "      <td>4.1</td>\n",
       "      <td>36815</td>\n",
       "      <td>29M</td>\n",
       "      <td>1,000,000+</td>\n",
       "      <td>Free</td>\n",
       "      <td>0</td>\n",
       "      <td>Everyone</td>\n",
       "      <td>Art &amp; Design</td>\n",
       "      <td>June 14, 2018</td>\n",
       "      <td>6.1.61.1</td>\n",
       "      <td>4.2 and up</td>\n",
       "    </tr>\n",
       "    <tr>\n",
       "      <th>8</th>\n",
       "      <td>Garden Coloring Book</td>\n",
       "      <td>ART_AND_DESIGN</td>\n",
       "      <td>4.4</td>\n",
       "      <td>13791</td>\n",
       "      <td>33M</td>\n",
       "      <td>1,000,000+</td>\n",
       "      <td>Free</td>\n",
       "      <td>0</td>\n",
       "      <td>Everyone</td>\n",
       "      <td>Art &amp; Design</td>\n",
       "      <td>September 20, 2017</td>\n",
       "      <td>2.9.2</td>\n",
       "      <td>3.0 and up</td>\n",
       "    </tr>\n",
       "    <tr>\n",
       "      <th>9</th>\n",
       "      <td>Kids Paint Free - Drawing Fun</td>\n",
       "      <td>ART_AND_DESIGN</td>\n",
       "      <td>4.7</td>\n",
       "      <td>121</td>\n",
       "      <td>3.1M</td>\n",
       "      <td>10,000+</td>\n",
       "      <td>Free</td>\n",
       "      <td>0</td>\n",
       "      <td>Everyone</td>\n",
       "      <td>Art &amp; Design;Creativity</td>\n",
       "      <td>July 3, 2018</td>\n",
       "      <td>2.8</td>\n",
       "      <td>4.0.3 and up</td>\n",
       "    </tr>\n",
       "    <tr>\n",
       "      <th>10</th>\n",
       "      <td>Text on Photo - Fonteee</td>\n",
       "      <td>ART_AND_DESIGN</td>\n",
       "      <td>4.4</td>\n",
       "      <td>13880</td>\n",
       "      <td>28M</td>\n",
       "      <td>1,000,000+</td>\n",
       "      <td>Free</td>\n",
       "      <td>0</td>\n",
       "      <td>Everyone</td>\n",
       "      <td>Art &amp; Design</td>\n",
       "      <td>October 27, 2017</td>\n",
       "      <td>1.0.4</td>\n",
       "      <td>4.1 and up</td>\n",
       "    </tr>\n",
       "    <tr>\n",
       "      <th>11</th>\n",
       "      <td>Name Art Photo Editor - Focus n Filters</td>\n",
       "      <td>ART_AND_DESIGN</td>\n",
       "      <td>4.4</td>\n",
       "      <td>8788</td>\n",
       "      <td>12M</td>\n",
       "      <td>1,000,000+</td>\n",
       "      <td>Free</td>\n",
       "      <td>0</td>\n",
       "      <td>Everyone</td>\n",
       "      <td>Art &amp; Design</td>\n",
       "      <td>July 31, 2018</td>\n",
       "      <td>1.0.15</td>\n",
       "      <td>4.0 and up</td>\n",
       "    </tr>\n",
       "    <tr>\n",
       "      <th>12</th>\n",
       "      <td>Tattoo Name On My Photo Editor</td>\n",
       "      <td>ART_AND_DESIGN</td>\n",
       "      <td>4.2</td>\n",
       "      <td>44829</td>\n",
       "      <td>20M</td>\n",
       "      <td>10,000,000+</td>\n",
       "      <td>Free</td>\n",
       "      <td>0</td>\n",
       "      <td>Teen</td>\n",
       "      <td>Art &amp; Design</td>\n",
       "      <td>April 2, 2018</td>\n",
       "      <td>3.8</td>\n",
       "      <td>4.1 and up</td>\n",
       "    </tr>\n",
       "    <tr>\n",
       "      <th>13</th>\n",
       "      <td>Mandala Coloring Book</td>\n",
       "      <td>ART_AND_DESIGN</td>\n",
       "      <td>4.6</td>\n",
       "      <td>4326</td>\n",
       "      <td>21M</td>\n",
       "      <td>100,000+</td>\n",
       "      <td>Free</td>\n",
       "      <td>0</td>\n",
       "      <td>Everyone</td>\n",
       "      <td>Art &amp; Design</td>\n",
       "      <td>June 26, 2018</td>\n",
       "      <td>1.0.4</td>\n",
       "      <td>4.4 and up</td>\n",
       "    </tr>\n",
       "    <tr>\n",
       "      <th>14</th>\n",
       "      <td>3D Color Pixel by Number - Sandbox Art Coloring</td>\n",
       "      <td>ART_AND_DESIGN</td>\n",
       "      <td>4.4</td>\n",
       "      <td>1518</td>\n",
       "      <td>37M</td>\n",
       "      <td>100,000+</td>\n",
       "      <td>Free</td>\n",
       "      <td>0</td>\n",
       "      <td>Everyone</td>\n",
       "      <td>Art &amp; Design</td>\n",
       "      <td>August 3, 2018</td>\n",
       "      <td>1.2.3</td>\n",
       "      <td>2.3 and up</td>\n",
       "    </tr>\n",
       "    <tr>\n",
       "      <th>15</th>\n",
       "      <td>Learn To Draw Kawaii Characters</td>\n",
       "      <td>ART_AND_DESIGN</td>\n",
       "      <td>3.2</td>\n",
       "      <td>55</td>\n",
       "      <td>2.7M</td>\n",
       "      <td>5,000+</td>\n",
       "      <td>Free</td>\n",
       "      <td>0</td>\n",
       "      <td>Everyone</td>\n",
       "      <td>Art &amp; Design</td>\n",
       "      <td>June 6, 2018</td>\n",
       "      <td>NaN</td>\n",
       "      <td>4.2 and up</td>\n",
       "    </tr>\n",
       "    <tr>\n",
       "      <th>16</th>\n",
       "      <td>Photo Designer - Write your name with shapes</td>\n",
       "      <td>ART_AND_DESIGN</td>\n",
       "      <td>4.7</td>\n",
       "      <td>3632</td>\n",
       "      <td>5.5M</td>\n",
       "      <td>500,000+</td>\n",
       "      <td>Free</td>\n",
       "      <td>0</td>\n",
       "      <td>Everyone</td>\n",
       "      <td>Art &amp; Design</td>\n",
       "      <td>July 31, 2018</td>\n",
       "      <td>3.1</td>\n",
       "      <td>4.1 and up</td>\n",
       "    </tr>\n",
       "    <tr>\n",
       "      <th>17</th>\n",
       "      <td>350 Diy Room Decor Ideas</td>\n",
       "      <td>ART_AND_DESIGN</td>\n",
       "      <td>4.5</td>\n",
       "      <td>27</td>\n",
       "      <td>17M</td>\n",
       "      <td>10,000+</td>\n",
       "      <td>Free</td>\n",
       "      <td>0</td>\n",
       "      <td>Everyone</td>\n",
       "      <td>Art &amp; Design</td>\n",
       "      <td>November 7, 2017</td>\n",
       "      <td>1.0</td>\n",
       "      <td>2.3 and up</td>\n",
       "    </tr>\n",
       "    <tr>\n",
       "      <th>18</th>\n",
       "      <td>FlipaClip - Cartoon animation</td>\n",
       "      <td>ART_AND_DESIGN</td>\n",
       "      <td>4.3</td>\n",
       "      <td>194216</td>\n",
       "      <td>39M</td>\n",
       "      <td>5,000,000+</td>\n",
       "      <td>Free</td>\n",
       "      <td>0</td>\n",
       "      <td>Everyone</td>\n",
       "      <td>Art &amp; Design</td>\n",
       "      <td>August 3, 2018</td>\n",
       "      <td>2.2.5</td>\n",
       "      <td>4.0.3 and up</td>\n",
       "    </tr>\n",
       "    <tr>\n",
       "      <th>19</th>\n",
       "      <td>ibis Paint X</td>\n",
       "      <td>ART_AND_DESIGN</td>\n",
       "      <td>4.6</td>\n",
       "      <td>224399</td>\n",
       "      <td>31M</td>\n",
       "      <td>10,000,000+</td>\n",
       "      <td>Free</td>\n",
       "      <td>0</td>\n",
       "      <td>Everyone</td>\n",
       "      <td>Art &amp; Design</td>\n",
       "      <td>July 30, 2018</td>\n",
       "      <td>5.5.4</td>\n",
       "      <td>4.1 and up</td>\n",
       "    </tr>\n",
       "  </tbody>\n",
       "</table>\n",
       "</div>"
      ],
      "text/plain": [
       "                                                  App        Category  Rating  \\\n",
       "0      Photo Editor & Candy Camera & Grid & ScrapBook  ART_AND_DESIGN     4.1   \n",
       "1                                 Coloring book moana  ART_AND_DESIGN     3.9   \n",
       "2   U Launcher Lite – FREE Live Cool Themes, Hide ...  ART_AND_DESIGN     4.7   \n",
       "3                               Sketch - Draw & Paint  ART_AND_DESIGN     4.5   \n",
       "4               Pixel Draw - Number Art Coloring Book  ART_AND_DESIGN     4.3   \n",
       "5                          Paper flowers instructions  ART_AND_DESIGN     4.4   \n",
       "6             Smoke Effect Photo Maker - Smoke Editor  ART_AND_DESIGN     3.8   \n",
       "7                                    Infinite Painter  ART_AND_DESIGN     4.1   \n",
       "8                                Garden Coloring Book  ART_AND_DESIGN     4.4   \n",
       "9                       Kids Paint Free - Drawing Fun  ART_AND_DESIGN     4.7   \n",
       "10                            Text on Photo - Fonteee  ART_AND_DESIGN     4.4   \n",
       "11            Name Art Photo Editor - Focus n Filters  ART_AND_DESIGN     4.4   \n",
       "12                     Tattoo Name On My Photo Editor  ART_AND_DESIGN     4.2   \n",
       "13                              Mandala Coloring Book  ART_AND_DESIGN     4.6   \n",
       "14    3D Color Pixel by Number - Sandbox Art Coloring  ART_AND_DESIGN     4.4   \n",
       "15                    Learn To Draw Kawaii Characters  ART_AND_DESIGN     3.2   \n",
       "16       Photo Designer - Write your name with shapes  ART_AND_DESIGN     4.7   \n",
       "17                           350 Diy Room Decor Ideas  ART_AND_DESIGN     4.5   \n",
       "18                      FlipaClip - Cartoon animation  ART_AND_DESIGN     4.3   \n",
       "19                                       ibis Paint X  ART_AND_DESIGN     4.6   \n",
       "\n",
       "   Reviews  Size     Installs  Type Price Content Rating  \\\n",
       "0      159   19M      10,000+  Free     0       Everyone   \n",
       "1      967   14M     500,000+  Free     0       Everyone   \n",
       "2    87510  8.7M   5,000,000+  Free     0       Everyone   \n",
       "3   215644   25M  50,000,000+  Free     0           Teen   \n",
       "4      967  2.8M     100,000+  Free     0       Everyone   \n",
       "5      167  5.6M      50,000+  Free     0       Everyone   \n",
       "6      178   19M      50,000+  Free     0       Everyone   \n",
       "7    36815   29M   1,000,000+  Free     0       Everyone   \n",
       "8    13791   33M   1,000,000+  Free     0       Everyone   \n",
       "9      121  3.1M      10,000+  Free     0       Everyone   \n",
       "10   13880   28M   1,000,000+  Free     0       Everyone   \n",
       "11    8788   12M   1,000,000+  Free     0       Everyone   \n",
       "12   44829   20M  10,000,000+  Free     0           Teen   \n",
       "13    4326   21M     100,000+  Free     0       Everyone   \n",
       "14    1518   37M     100,000+  Free     0       Everyone   \n",
       "15      55  2.7M       5,000+  Free     0       Everyone   \n",
       "16    3632  5.5M     500,000+  Free     0       Everyone   \n",
       "17      27   17M      10,000+  Free     0       Everyone   \n",
       "18  194216   39M   5,000,000+  Free     0       Everyone   \n",
       "19  224399   31M  10,000,000+  Free     0       Everyone   \n",
       "\n",
       "                       Genres        Last Updated         Current Ver  \\\n",
       "0                Art & Design     January 7, 2018               1.0.0   \n",
       "1   Art & Design;Pretend Play    January 15, 2018               2.0.0   \n",
       "2                Art & Design      August 1, 2018               1.2.4   \n",
       "3                Art & Design        June 8, 2018  Varies with device   \n",
       "4     Art & Design;Creativity       June 20, 2018                 1.1   \n",
       "5                Art & Design      March 26, 2017                 1.0   \n",
       "6                Art & Design      April 26, 2018                 1.1   \n",
       "7                Art & Design       June 14, 2018            6.1.61.1   \n",
       "8                Art & Design  September 20, 2017               2.9.2   \n",
       "9     Art & Design;Creativity        July 3, 2018                 2.8   \n",
       "10               Art & Design    October 27, 2017               1.0.4   \n",
       "11               Art & Design       July 31, 2018              1.0.15   \n",
       "12               Art & Design       April 2, 2018                 3.8   \n",
       "13               Art & Design       June 26, 2018               1.0.4   \n",
       "14               Art & Design      August 3, 2018               1.2.3   \n",
       "15               Art & Design        June 6, 2018                 NaN   \n",
       "16               Art & Design       July 31, 2018                 3.1   \n",
       "17               Art & Design    November 7, 2017                 1.0   \n",
       "18               Art & Design      August 3, 2018               2.2.5   \n",
       "19               Art & Design       July 30, 2018               5.5.4   \n",
       "\n",
       "     Android Ver  \n",
       "0   4.0.3 and up  \n",
       "1   4.0.3 and up  \n",
       "2   4.0.3 and up  \n",
       "3     4.2 and up  \n",
       "4     4.4 and up  \n",
       "5     2.3 and up  \n",
       "6   4.0.3 and up  \n",
       "7     4.2 and up  \n",
       "8     3.0 and up  \n",
       "9   4.0.3 and up  \n",
       "10    4.1 and up  \n",
       "11    4.0 and up  \n",
       "12    4.1 and up  \n",
       "13    4.4 and up  \n",
       "14    2.3 and up  \n",
       "15    4.2 and up  \n",
       "16    4.1 and up  \n",
       "17    2.3 and up  \n",
       "18  4.0.3 and up  \n",
       "19    4.1 and up  "
      ]
     },
     "execution_count": 8,
     "metadata": {},
     "output_type": "execute_result"
    }
   ],
   "source": [
    "df.head(20)"
   ]
  },
  {
   "cell_type": "code",
   "execution_count": 9,
   "id": "40b160c7",
   "metadata": {},
   "outputs": [
    {
     "data": {
      "text/html": [
       "<div>\n",
       "<style scoped>\n",
       "    .dataframe tbody tr th:only-of-type {\n",
       "        vertical-align: middle;\n",
       "    }\n",
       "\n",
       "    .dataframe tbody tr th {\n",
       "        vertical-align: top;\n",
       "    }\n",
       "\n",
       "    .dataframe thead th {\n",
       "        text-align: right;\n",
       "    }\n",
       "</style>\n",
       "<table border=\"1\" class=\"dataframe\">\n",
       "  <thead>\n",
       "    <tr style=\"text-align: right;\">\n",
       "      <th></th>\n",
       "      <th>App</th>\n",
       "      <th>Category</th>\n",
       "      <th>Rating</th>\n",
       "      <th>Reviews</th>\n",
       "      <th>Size</th>\n",
       "      <th>Installs</th>\n",
       "      <th>Type</th>\n",
       "      <th>Price</th>\n",
       "      <th>Content Rating</th>\n",
       "      <th>Genres</th>\n",
       "      <th>Last Updated</th>\n",
       "      <th>Current Ver</th>\n",
       "      <th>Android Ver</th>\n",
       "    </tr>\n",
       "  </thead>\n",
       "  <tbody>\n",
       "    <tr>\n",
       "      <th>10821</th>\n",
       "      <td>Poop FR</td>\n",
       "      <td>FAMILY</td>\n",
       "      <td>NaN</td>\n",
       "      <td>6</td>\n",
       "      <td>2.5M</td>\n",
       "      <td>50+</td>\n",
       "      <td>Free</td>\n",
       "      <td>0</td>\n",
       "      <td>Everyone</td>\n",
       "      <td>Entertainment</td>\n",
       "      <td>May 29, 2018</td>\n",
       "      <td>1.0</td>\n",
       "      <td>4.0.3 and up</td>\n",
       "    </tr>\n",
       "    <tr>\n",
       "      <th>10822</th>\n",
       "      <td>PLMGSS FR</td>\n",
       "      <td>PRODUCTIVITY</td>\n",
       "      <td>NaN</td>\n",
       "      <td>0</td>\n",
       "      <td>3.1M</td>\n",
       "      <td>10+</td>\n",
       "      <td>Free</td>\n",
       "      <td>0</td>\n",
       "      <td>Everyone</td>\n",
       "      <td>Productivity</td>\n",
       "      <td>December 1, 2017</td>\n",
       "      <td>1</td>\n",
       "      <td>4.4 and up</td>\n",
       "    </tr>\n",
       "    <tr>\n",
       "      <th>10823</th>\n",
       "      <td>List iptv FR</td>\n",
       "      <td>VIDEO_PLAYERS</td>\n",
       "      <td>NaN</td>\n",
       "      <td>1</td>\n",
       "      <td>2.9M</td>\n",
       "      <td>100+</td>\n",
       "      <td>Free</td>\n",
       "      <td>0</td>\n",
       "      <td>Everyone</td>\n",
       "      <td>Video Players &amp; Editors</td>\n",
       "      <td>April 22, 2018</td>\n",
       "      <td>1.0</td>\n",
       "      <td>4.0.3 and up</td>\n",
       "    </tr>\n",
       "    <tr>\n",
       "      <th>10824</th>\n",
       "      <td>Cardio-FR</td>\n",
       "      <td>MEDICAL</td>\n",
       "      <td>NaN</td>\n",
       "      <td>67</td>\n",
       "      <td>82M</td>\n",
       "      <td>10,000+</td>\n",
       "      <td>Free</td>\n",
       "      <td>0</td>\n",
       "      <td>Everyone</td>\n",
       "      <td>Medical</td>\n",
       "      <td>July 31, 2018</td>\n",
       "      <td>2.2.2</td>\n",
       "      <td>4.4 and up</td>\n",
       "    </tr>\n",
       "    <tr>\n",
       "      <th>10825</th>\n",
       "      <td>Naruto &amp; Boruto FR</td>\n",
       "      <td>SOCIAL</td>\n",
       "      <td>NaN</td>\n",
       "      <td>7</td>\n",
       "      <td>7.7M</td>\n",
       "      <td>100+</td>\n",
       "      <td>Free</td>\n",
       "      <td>0</td>\n",
       "      <td>Teen</td>\n",
       "      <td>Social</td>\n",
       "      <td>February 2, 2018</td>\n",
       "      <td>1.0</td>\n",
       "      <td>4.0 and up</td>\n",
       "    </tr>\n",
       "    <tr>\n",
       "      <th>10826</th>\n",
       "      <td>Frim: get new friends on local chat rooms</td>\n",
       "      <td>SOCIAL</td>\n",
       "      <td>4.0</td>\n",
       "      <td>88486</td>\n",
       "      <td>Varies with device</td>\n",
       "      <td>5,000,000+</td>\n",
       "      <td>Free</td>\n",
       "      <td>0</td>\n",
       "      <td>Mature 17+</td>\n",
       "      <td>Social</td>\n",
       "      <td>March 23, 2018</td>\n",
       "      <td>Varies with device</td>\n",
       "      <td>Varies with device</td>\n",
       "    </tr>\n",
       "    <tr>\n",
       "      <th>10827</th>\n",
       "      <td>Fr Agnel Ambarnath</td>\n",
       "      <td>FAMILY</td>\n",
       "      <td>4.2</td>\n",
       "      <td>117</td>\n",
       "      <td>13M</td>\n",
       "      <td>5,000+</td>\n",
       "      <td>Free</td>\n",
       "      <td>0</td>\n",
       "      <td>Everyone</td>\n",
       "      <td>Education</td>\n",
       "      <td>June 13, 2018</td>\n",
       "      <td>2.0.20</td>\n",
       "      <td>4.0.3 and up</td>\n",
       "    </tr>\n",
       "    <tr>\n",
       "      <th>10828</th>\n",
       "      <td>Manga-FR - Anime Vostfr</td>\n",
       "      <td>COMICS</td>\n",
       "      <td>3.4</td>\n",
       "      <td>291</td>\n",
       "      <td>13M</td>\n",
       "      <td>10,000+</td>\n",
       "      <td>Free</td>\n",
       "      <td>0</td>\n",
       "      <td>Everyone</td>\n",
       "      <td>Comics</td>\n",
       "      <td>May 15, 2017</td>\n",
       "      <td>2.0.1</td>\n",
       "      <td>4.0 and up</td>\n",
       "    </tr>\n",
       "    <tr>\n",
       "      <th>10829</th>\n",
       "      <td>Bulgarian French Dictionary Fr</td>\n",
       "      <td>BOOKS_AND_REFERENCE</td>\n",
       "      <td>4.6</td>\n",
       "      <td>603</td>\n",
       "      <td>7.4M</td>\n",
       "      <td>10,000+</td>\n",
       "      <td>Free</td>\n",
       "      <td>0</td>\n",
       "      <td>Everyone</td>\n",
       "      <td>Books &amp; Reference</td>\n",
       "      <td>June 19, 2016</td>\n",
       "      <td>2.96</td>\n",
       "      <td>4.1 and up</td>\n",
       "    </tr>\n",
       "    <tr>\n",
       "      <th>10830</th>\n",
       "      <td>News Minecraft.fr</td>\n",
       "      <td>NEWS_AND_MAGAZINES</td>\n",
       "      <td>3.8</td>\n",
       "      <td>881</td>\n",
       "      <td>2.3M</td>\n",
       "      <td>100,000+</td>\n",
       "      <td>Free</td>\n",
       "      <td>0</td>\n",
       "      <td>Everyone</td>\n",
       "      <td>News &amp; Magazines</td>\n",
       "      <td>January 20, 2014</td>\n",
       "      <td>1.5</td>\n",
       "      <td>1.6 and up</td>\n",
       "    </tr>\n",
       "    <tr>\n",
       "      <th>10831</th>\n",
       "      <td>payermonstationnement.fr</td>\n",
       "      <td>MAPS_AND_NAVIGATION</td>\n",
       "      <td>NaN</td>\n",
       "      <td>38</td>\n",
       "      <td>9.8M</td>\n",
       "      <td>5,000+</td>\n",
       "      <td>Free</td>\n",
       "      <td>0</td>\n",
       "      <td>Everyone</td>\n",
       "      <td>Maps &amp; Navigation</td>\n",
       "      <td>June 13, 2018</td>\n",
       "      <td>2.0.148.0</td>\n",
       "      <td>4.0 and up</td>\n",
       "    </tr>\n",
       "    <tr>\n",
       "      <th>10832</th>\n",
       "      <td>FR Tides</td>\n",
       "      <td>WEATHER</td>\n",
       "      <td>3.8</td>\n",
       "      <td>1195</td>\n",
       "      <td>582k</td>\n",
       "      <td>100,000+</td>\n",
       "      <td>Free</td>\n",
       "      <td>0</td>\n",
       "      <td>Everyone</td>\n",
       "      <td>Weather</td>\n",
       "      <td>February 16, 2014</td>\n",
       "      <td>6.0</td>\n",
       "      <td>2.1 and up</td>\n",
       "    </tr>\n",
       "    <tr>\n",
       "      <th>10833</th>\n",
       "      <td>Chemin (fr)</td>\n",
       "      <td>BOOKS_AND_REFERENCE</td>\n",
       "      <td>4.8</td>\n",
       "      <td>44</td>\n",
       "      <td>619k</td>\n",
       "      <td>1,000+</td>\n",
       "      <td>Free</td>\n",
       "      <td>0</td>\n",
       "      <td>Everyone</td>\n",
       "      <td>Books &amp; Reference</td>\n",
       "      <td>March 23, 2014</td>\n",
       "      <td>0.8</td>\n",
       "      <td>2.2 and up</td>\n",
       "    </tr>\n",
       "    <tr>\n",
       "      <th>10834</th>\n",
       "      <td>FR Calculator</td>\n",
       "      <td>FAMILY</td>\n",
       "      <td>4.0</td>\n",
       "      <td>7</td>\n",
       "      <td>2.6M</td>\n",
       "      <td>500+</td>\n",
       "      <td>Free</td>\n",
       "      <td>0</td>\n",
       "      <td>Everyone</td>\n",
       "      <td>Education</td>\n",
       "      <td>June 18, 2017</td>\n",
       "      <td>1.0.0</td>\n",
       "      <td>4.1 and up</td>\n",
       "    </tr>\n",
       "    <tr>\n",
       "      <th>10835</th>\n",
       "      <td>FR Forms</td>\n",
       "      <td>BUSINESS</td>\n",
       "      <td>NaN</td>\n",
       "      <td>0</td>\n",
       "      <td>9.6M</td>\n",
       "      <td>10+</td>\n",
       "      <td>Free</td>\n",
       "      <td>0</td>\n",
       "      <td>Everyone</td>\n",
       "      <td>Business</td>\n",
       "      <td>September 29, 2016</td>\n",
       "      <td>1.1.5</td>\n",
       "      <td>4.0 and up</td>\n",
       "    </tr>\n",
       "    <tr>\n",
       "      <th>10836</th>\n",
       "      <td>Sya9a Maroc - FR</td>\n",
       "      <td>FAMILY</td>\n",
       "      <td>4.5</td>\n",
       "      <td>38</td>\n",
       "      <td>53M</td>\n",
       "      <td>5,000+</td>\n",
       "      <td>Free</td>\n",
       "      <td>0</td>\n",
       "      <td>Everyone</td>\n",
       "      <td>Education</td>\n",
       "      <td>July 25, 2017</td>\n",
       "      <td>1.48</td>\n",
       "      <td>4.1 and up</td>\n",
       "    </tr>\n",
       "    <tr>\n",
       "      <th>10837</th>\n",
       "      <td>Fr. Mike Schmitz Audio Teachings</td>\n",
       "      <td>FAMILY</td>\n",
       "      <td>5.0</td>\n",
       "      <td>4</td>\n",
       "      <td>3.6M</td>\n",
       "      <td>100+</td>\n",
       "      <td>Free</td>\n",
       "      <td>0</td>\n",
       "      <td>Everyone</td>\n",
       "      <td>Education</td>\n",
       "      <td>July 6, 2018</td>\n",
       "      <td>1.0</td>\n",
       "      <td>4.1 and up</td>\n",
       "    </tr>\n",
       "    <tr>\n",
       "      <th>10838</th>\n",
       "      <td>Parkinson Exercices FR</td>\n",
       "      <td>MEDICAL</td>\n",
       "      <td>NaN</td>\n",
       "      <td>3</td>\n",
       "      <td>9.5M</td>\n",
       "      <td>1,000+</td>\n",
       "      <td>Free</td>\n",
       "      <td>0</td>\n",
       "      <td>Everyone</td>\n",
       "      <td>Medical</td>\n",
       "      <td>January 20, 2017</td>\n",
       "      <td>1.0</td>\n",
       "      <td>2.2 and up</td>\n",
       "    </tr>\n",
       "    <tr>\n",
       "      <th>10839</th>\n",
       "      <td>The SCP Foundation DB fr nn5n</td>\n",
       "      <td>BOOKS_AND_REFERENCE</td>\n",
       "      <td>4.5</td>\n",
       "      <td>114</td>\n",
       "      <td>Varies with device</td>\n",
       "      <td>1,000+</td>\n",
       "      <td>Free</td>\n",
       "      <td>0</td>\n",
       "      <td>Mature 17+</td>\n",
       "      <td>Books &amp; Reference</td>\n",
       "      <td>January 19, 2015</td>\n",
       "      <td>Varies with device</td>\n",
       "      <td>Varies with device</td>\n",
       "    </tr>\n",
       "    <tr>\n",
       "      <th>10840</th>\n",
       "      <td>iHoroscope - 2018 Daily Horoscope &amp; Astrology</td>\n",
       "      <td>LIFESTYLE</td>\n",
       "      <td>4.5</td>\n",
       "      <td>398307</td>\n",
       "      <td>19M</td>\n",
       "      <td>10,000,000+</td>\n",
       "      <td>Free</td>\n",
       "      <td>0</td>\n",
       "      <td>Everyone</td>\n",
       "      <td>Lifestyle</td>\n",
       "      <td>July 25, 2018</td>\n",
       "      <td>Varies with device</td>\n",
       "      <td>Varies with device</td>\n",
       "    </tr>\n",
       "  </tbody>\n",
       "</table>\n",
       "</div>"
      ],
      "text/plain": [
       "                                                 App             Category  \\\n",
       "10821                                        Poop FR               FAMILY   \n",
       "10822                                      PLMGSS FR         PRODUCTIVITY   \n",
       "10823                                   List iptv FR        VIDEO_PLAYERS   \n",
       "10824                                      Cardio-FR              MEDICAL   \n",
       "10825                             Naruto & Boruto FR               SOCIAL   \n",
       "10826      Frim: get new friends on local chat rooms               SOCIAL   \n",
       "10827                             Fr Agnel Ambarnath               FAMILY   \n",
       "10828                        Manga-FR - Anime Vostfr               COMICS   \n",
       "10829                 Bulgarian French Dictionary Fr  BOOKS_AND_REFERENCE   \n",
       "10830                              News Minecraft.fr   NEWS_AND_MAGAZINES   \n",
       "10831                       payermonstationnement.fr  MAPS_AND_NAVIGATION   \n",
       "10832                                       FR Tides              WEATHER   \n",
       "10833                                    Chemin (fr)  BOOKS_AND_REFERENCE   \n",
       "10834                                  FR Calculator               FAMILY   \n",
       "10835                                       FR Forms             BUSINESS   \n",
       "10836                               Sya9a Maroc - FR               FAMILY   \n",
       "10837               Fr. Mike Schmitz Audio Teachings               FAMILY   \n",
       "10838                         Parkinson Exercices FR              MEDICAL   \n",
       "10839                  The SCP Foundation DB fr nn5n  BOOKS_AND_REFERENCE   \n",
       "10840  iHoroscope - 2018 Daily Horoscope & Astrology            LIFESTYLE   \n",
       "\n",
       "       Rating Reviews                Size     Installs  Type Price  \\\n",
       "10821     NaN       6                2.5M          50+  Free     0   \n",
       "10822     NaN       0                3.1M          10+  Free     0   \n",
       "10823     NaN       1                2.9M         100+  Free     0   \n",
       "10824     NaN      67                 82M      10,000+  Free     0   \n",
       "10825     NaN       7                7.7M         100+  Free     0   \n",
       "10826     4.0   88486  Varies with device   5,000,000+  Free     0   \n",
       "10827     4.2     117                 13M       5,000+  Free     0   \n",
       "10828     3.4     291                 13M      10,000+  Free     0   \n",
       "10829     4.6     603                7.4M      10,000+  Free     0   \n",
       "10830     3.8     881                2.3M     100,000+  Free     0   \n",
       "10831     NaN      38                9.8M       5,000+  Free     0   \n",
       "10832     3.8    1195                582k     100,000+  Free     0   \n",
       "10833     4.8      44                619k       1,000+  Free     0   \n",
       "10834     4.0       7                2.6M         500+  Free     0   \n",
       "10835     NaN       0                9.6M          10+  Free     0   \n",
       "10836     4.5      38                 53M       5,000+  Free     0   \n",
       "10837     5.0       4                3.6M         100+  Free     0   \n",
       "10838     NaN       3                9.5M       1,000+  Free     0   \n",
       "10839     4.5     114  Varies with device       1,000+  Free     0   \n",
       "10840     4.5  398307                 19M  10,000,000+  Free     0   \n",
       "\n",
       "      Content Rating                   Genres        Last Updated  \\\n",
       "10821       Everyone            Entertainment        May 29, 2018   \n",
       "10822       Everyone             Productivity    December 1, 2017   \n",
       "10823       Everyone  Video Players & Editors      April 22, 2018   \n",
       "10824       Everyone                  Medical       July 31, 2018   \n",
       "10825           Teen                   Social    February 2, 2018   \n",
       "10826     Mature 17+                   Social      March 23, 2018   \n",
       "10827       Everyone                Education       June 13, 2018   \n",
       "10828       Everyone                   Comics        May 15, 2017   \n",
       "10829       Everyone        Books & Reference       June 19, 2016   \n",
       "10830       Everyone         News & Magazines    January 20, 2014   \n",
       "10831       Everyone        Maps & Navigation       June 13, 2018   \n",
       "10832       Everyone                  Weather   February 16, 2014   \n",
       "10833       Everyone        Books & Reference      March 23, 2014   \n",
       "10834       Everyone                Education       June 18, 2017   \n",
       "10835       Everyone                 Business  September 29, 2016   \n",
       "10836       Everyone                Education       July 25, 2017   \n",
       "10837       Everyone                Education        July 6, 2018   \n",
       "10838       Everyone                  Medical    January 20, 2017   \n",
       "10839     Mature 17+        Books & Reference    January 19, 2015   \n",
       "10840       Everyone                Lifestyle       July 25, 2018   \n",
       "\n",
       "              Current Ver         Android Ver  \n",
       "10821                 1.0        4.0.3 and up  \n",
       "10822                   1          4.4 and up  \n",
       "10823                 1.0        4.0.3 and up  \n",
       "10824               2.2.2          4.4 and up  \n",
       "10825                 1.0          4.0 and up  \n",
       "10826  Varies with device  Varies with device  \n",
       "10827              2.0.20        4.0.3 and up  \n",
       "10828               2.0.1          4.0 and up  \n",
       "10829                2.96          4.1 and up  \n",
       "10830                 1.5          1.6 and up  \n",
       "10831           2.0.148.0          4.0 and up  \n",
       "10832                 6.0          2.1 and up  \n",
       "10833                 0.8          2.2 and up  \n",
       "10834               1.0.0          4.1 and up  \n",
       "10835               1.1.5          4.0 and up  \n",
       "10836                1.48          4.1 and up  \n",
       "10837                 1.0          4.1 and up  \n",
       "10838                 1.0          2.2 and up  \n",
       "10839  Varies with device  Varies with device  \n",
       "10840  Varies with device  Varies with device  "
      ]
     },
     "execution_count": 9,
     "metadata": {},
     "output_type": "execute_result"
    }
   ],
   "source": [
    "df.tail(20)"
   ]
  },
  {
   "cell_type": "markdown",
   "id": "2df242f0",
   "metadata": {},
   "source": [
    "## we can clearly see that there are so many underlying patterns in the dataset and we can begin with checking the realtionship amongst the features"
   ]
  },
  {
   "cell_type": "code",
   "execution_count": 10,
   "id": "c768c7eb",
   "metadata": {},
   "outputs": [
    {
     "data": {
      "text/html": [
       "<div>\n",
       "<style scoped>\n",
       "    .dataframe tbody tr th:only-of-type {\n",
       "        vertical-align: middle;\n",
       "    }\n",
       "\n",
       "    .dataframe tbody tr th {\n",
       "        vertical-align: top;\n",
       "    }\n",
       "\n",
       "    .dataframe thead th {\n",
       "        text-align: right;\n",
       "    }\n",
       "</style>\n",
       "<table border=\"1\" class=\"dataframe\">\n",
       "  <thead>\n",
       "    <tr style=\"text-align: right;\">\n",
       "      <th></th>\n",
       "      <th>App</th>\n",
       "      <th>Category</th>\n",
       "      <th>Rating</th>\n",
       "      <th>Reviews</th>\n",
       "      <th>Size</th>\n",
       "      <th>Installs</th>\n",
       "      <th>Type</th>\n",
       "      <th>Price</th>\n",
       "      <th>Content Rating</th>\n",
       "      <th>Genres</th>\n",
       "      <th>Last Updated</th>\n",
       "      <th>Current Ver</th>\n",
       "      <th>Android Ver</th>\n",
       "    </tr>\n",
       "  </thead>\n",
       "  <tbody>\n",
       "    <tr>\n",
       "      <th>0</th>\n",
       "      <td>Photo Editor &amp; Candy Camera &amp; Grid &amp; ScrapBook</td>\n",
       "      <td>ART_AND_DESIGN</td>\n",
       "      <td>4.1</td>\n",
       "      <td>159</td>\n",
       "      <td>19M</td>\n",
       "      <td>10,000+</td>\n",
       "      <td>Free</td>\n",
       "      <td>0</td>\n",
       "      <td>Everyone</td>\n",
       "      <td>Art &amp; Design</td>\n",
       "      <td>January 7, 2018</td>\n",
       "      <td>1.0.0</td>\n",
       "      <td>4.0.3 and up</td>\n",
       "    </tr>\n",
       "    <tr>\n",
       "      <th>1</th>\n",
       "      <td>Coloring book moana</td>\n",
       "      <td>ART_AND_DESIGN</td>\n",
       "      <td>3.9</td>\n",
       "      <td>967</td>\n",
       "      <td>14M</td>\n",
       "      <td>500,000+</td>\n",
       "      <td>Free</td>\n",
       "      <td>0</td>\n",
       "      <td>Everyone</td>\n",
       "      <td>Art &amp; Design;Pretend Play</td>\n",
       "      <td>January 15, 2018</td>\n",
       "      <td>2.0.0</td>\n",
       "      <td>4.0.3 and up</td>\n",
       "    </tr>\n",
       "  </tbody>\n",
       "</table>\n",
       "</div>"
      ],
      "text/plain": [
       "                                              App        Category  Rating  \\\n",
       "0  Photo Editor & Candy Camera & Grid & ScrapBook  ART_AND_DESIGN     4.1   \n",
       "1                             Coloring book moana  ART_AND_DESIGN     3.9   \n",
       "\n",
       "  Reviews Size  Installs  Type Price Content Rating  \\\n",
       "0     159  19M   10,000+  Free     0       Everyone   \n",
       "1     967  14M  500,000+  Free     0       Everyone   \n",
       "\n",
       "                      Genres      Last Updated Current Ver   Android Ver  \n",
       "0               Art & Design   January 7, 2018       1.0.0  4.0.3 and up  \n",
       "1  Art & Design;Pretend Play  January 15, 2018       2.0.0  4.0.3 and up  "
      ]
     },
     "execution_count": 10,
     "metadata": {},
     "output_type": "execute_result"
    }
   ],
   "source": [
    "# Looking the features one at a time\n",
    "df.head(2)"
   ]
  },
  {
   "cell_type": "code",
   "execution_count": 11,
   "id": "d37cd6fd",
   "metadata": {},
   "outputs": [
    {
     "data": {
      "text/plain": [
       "0           Photo Editor & Candy Camera & Grid & ScrapBook\n",
       "1                                      Coloring book moana\n",
       "2        U Launcher Lite – FREE Live Cool Themes, Hide ...\n",
       "3                                    Sketch - Draw & Paint\n",
       "4                    Pixel Draw - Number Art Coloring Book\n",
       "                               ...                        \n",
       "10836                                     Sya9a Maroc - FR\n",
       "10837                     Fr. Mike Schmitz Audio Teachings\n",
       "10838                               Parkinson Exercices FR\n",
       "10839                        The SCP Foundation DB fr nn5n\n",
       "10840        iHoroscope - 2018 Daily Horoscope & Astrology\n",
       "Name: App, Length: 10841, dtype: object"
      ]
     },
     "execution_count": 11,
     "metadata": {},
     "output_type": "execute_result"
    }
   ],
   "source": [
    "df[\"App\"]"
   ]
  },
  {
   "cell_type": "code",
   "execution_count": 12,
   "id": "29db05d1",
   "metadata": {},
   "outputs": [
    {
     "data": {
      "text/plain": [
       "array(['Photo Editor & Candy Camera & Grid & ScrapBook',\n",
       "       'Coloring book moana',\n",
       "       'U Launcher Lite – FREE Live Cool Themes, Hide Apps', ...,\n",
       "       'Parkinson Exercices FR', 'The SCP Foundation DB fr nn5n',\n",
       "       'iHoroscope - 2018 Daily Horoscope & Astrology'], dtype=object)"
      ]
     },
     "execution_count": 12,
     "metadata": {},
     "output_type": "execute_result"
    }
   ],
   "source": [
    "names = df[\"App\"].unique()\n",
    "names"
   ]
  },
  {
   "cell_type": "code",
   "execution_count": 13,
   "id": "085e11f3",
   "metadata": {},
   "outputs": [
    {
     "data": {
      "text/plain": [
       "ROBLOX                                                9\n",
       "CBS Sports App - Scores, News, Stats & Watch Live     8\n",
       "ESPN                                                  7\n",
       "Duolingo: Learn Languages Free                        7\n",
       "Candy Crush Saga                                      7\n",
       "                                                     ..\n",
       "Meet U - Get Friends for Snapchat, Kik & Instagram    1\n",
       "U-Report                                              1\n",
       "U of I Community Credit Union                         1\n",
       "Waiting For U Launcher Theme                          1\n",
       "iHoroscope - 2018 Daily Horoscope & Astrology         1\n",
       "Name: App, Length: 9660, dtype: int64"
      ]
     },
     "execution_count": 13,
     "metadata": {},
     "output_type": "execute_result"
    }
   ],
   "source": [
    "name_counts = df[\"App\"].value_counts()\n",
    "name_counts"
   ]
  },
  {
   "cell_type": "code",
   "execution_count": 14,
   "id": "fc602842",
   "metadata": {},
   "outputs": [
    {
     "data": {
      "text/plain": [
       "ROBLOX                                                9\n",
       "CBS Sports App - Scores, News, Stats & Watch Live     8\n",
       "ESPN                                                  7\n",
       "Duolingo: Learn Languages Free                        7\n",
       "Candy Crush Saga                                      7\n",
       "8 Ball Pool                                           7\n",
       "slither.io                                            6\n",
       "Bubble Shooter                                        6\n",
       "Zombie Catchers                                       6\n",
       "Bleacher Report: sports news, scores, & highlights    6\n",
       "Bowmasters                                            6\n",
       "Subway Surfers                                        6\n",
       "Nick                                                  6\n",
       "Temple Run 2                                          6\n",
       "Helix Jump                                            6\n",
       "Sniper 3D Gun Shooter: Free Shooting Games - FPS      6\n",
       "MLB At Bat                                            5\n",
       "MeetMe: Chat & Meet New People                        5\n",
       "Skyscanner                                            5\n",
       "Granny                                                5\n",
       "Angry Birds Classic                                   5\n",
       "Flow Free                                             5\n",
       "Zombie Tsunami                                        5\n",
       "BeautyPlus - Easy Photo Editor & Selfie Camera        5\n",
       "TripAdvisor Hotels Flights Restaurants Attractions    5\n",
       "Calorie Counter - MyFitnessPal                        5\n",
       "Farm Heroes Saga                                      5\n",
       "theScore: Live Sports Scores, News, Stats & Videos    5\n",
       "Viber Messenger                                       5\n",
       "Plants vs. Zombies FREE                               5\n",
       "Netflix                                               5\n",
       "eBay: Buy & Sell this Summer - Discover Deals Now!    5\n",
       "Yahoo Fantasy Sports - #1 Rated Fantasy App           5\n",
       "Wish - Shopping Made Fun                              5\n",
       "Name: App, dtype: int64"
      ]
     },
     "execution_count": 14,
     "metadata": {},
     "output_type": "execute_result"
    }
   ],
   "source": [
    "filtered_names = name_counts[name_counts > 4]\n",
    "filtered_names"
   ]
  },
  {
   "cell_type": "code",
   "execution_count": 15,
   "id": "f5335681",
   "metadata": {},
   "outputs": [
    {
     "data": {
      "image/png": "[encoded data removed]",
      "text/plain": [
       "<Figure size 720x432 with 1 Axes>"
      ]
     },
     "metadata": {
      "needs_background": "light"
     },
     "output_type": "display_data"
    }
   ],
   "source": [
    "plt.figure(figsize=(10, 6))  # Adjust the figure size if needed\n",
    "filtered_names.plot(kind='bar')\n",
    "plt.xlabel('App Names')\n",
    "plt.ylabel('Frequency')\n",
    "plt.title('Frequency of App Names')\n",
    "plt.show()"
   ]
  },
  {
   "cell_type": "markdown",
   "id": "cac8e78c",
   "metadata": {},
   "source": [
    "We can check the frequency of apps appearing more than 4 times "
   ]
  },
  {
   "cell_type": "code",
   "execution_count": 16,
   "id": "652a3cb6",
   "metadata": {},
   "outputs": [
    {
     "data": {
      "text/html": [
       "<div>\n",
       "<style scoped>\n",
       "    .dataframe tbody tr th:only-of-type {\n",
       "        vertical-align: middle;\n",
       "    }\n",
       "\n",
       "    .dataframe tbody tr th {\n",
       "        vertical-align: top;\n",
       "    }\n",
       "\n",
       "    .dataframe thead th {\n",
       "        text-align: right;\n",
       "    }\n",
       "</style>\n",
       "<table border=\"1\" class=\"dataframe\">\n",
       "  <thead>\n",
       "    <tr style=\"text-align: right;\">\n",
       "      <th></th>\n",
       "      <th>App</th>\n",
       "      <th>Category</th>\n",
       "      <th>Rating</th>\n",
       "      <th>Reviews</th>\n",
       "      <th>Size</th>\n",
       "      <th>Installs</th>\n",
       "      <th>Type</th>\n",
       "      <th>Price</th>\n",
       "      <th>Content Rating</th>\n",
       "      <th>Genres</th>\n",
       "      <th>Last Updated</th>\n",
       "      <th>Current Ver</th>\n",
       "      <th>Android Ver</th>\n",
       "    </tr>\n",
       "  </thead>\n",
       "  <tbody>\n",
       "    <tr>\n",
       "      <th>0</th>\n",
       "      <td>Photo Editor &amp; Candy Camera &amp; Grid &amp; ScrapBook</td>\n",
       "      <td>ART_AND_DESIGN</td>\n",
       "      <td>4.1</td>\n",
       "      <td>159</td>\n",
       "      <td>19M</td>\n",
       "      <td>10,000+</td>\n",
       "      <td>Free</td>\n",
       "      <td>0</td>\n",
       "      <td>Everyone</td>\n",
       "      <td>Art &amp; Design</td>\n",
       "      <td>January 7, 2018</td>\n",
       "      <td>1.0.0</td>\n",
       "      <td>4.0.3 and up</td>\n",
       "    </tr>\n",
       "    <tr>\n",
       "      <th>1</th>\n",
       "      <td>Coloring book moana</td>\n",
       "      <td>ART_AND_DESIGN</td>\n",
       "      <td>3.9</td>\n",
       "      <td>967</td>\n",
       "      <td>14M</td>\n",
       "      <td>500,000+</td>\n",
       "      <td>Free</td>\n",
       "      <td>0</td>\n",
       "      <td>Everyone</td>\n",
       "      <td>Art &amp; Design;Pretend Play</td>\n",
       "      <td>January 15, 2018</td>\n",
       "      <td>2.0.0</td>\n",
       "      <td>4.0.3 and up</td>\n",
       "    </tr>\n",
       "    <tr>\n",
       "      <th>2</th>\n",
       "      <td>U Launcher Lite – FREE Live Cool Themes, Hide ...</td>\n",
       "      <td>ART_AND_DESIGN</td>\n",
       "      <td>4.7</td>\n",
       "      <td>87510</td>\n",
       "      <td>8.7M</td>\n",
       "      <td>5,000,000+</td>\n",
       "      <td>Free</td>\n",
       "      <td>0</td>\n",
       "      <td>Everyone</td>\n",
       "      <td>Art &amp; Design</td>\n",
       "      <td>August 1, 2018</td>\n",
       "      <td>1.2.4</td>\n",
       "      <td>4.0.3 and up</td>\n",
       "    </tr>\n",
       "    <tr>\n",
       "      <th>3</th>\n",
       "      <td>Sketch - Draw &amp; Paint</td>\n",
       "      <td>ART_AND_DESIGN</td>\n",
       "      <td>4.5</td>\n",
       "      <td>215644</td>\n",
       "      <td>25M</td>\n",
       "      <td>50,000,000+</td>\n",
       "      <td>Free</td>\n",
       "      <td>0</td>\n",
       "      <td>Teen</td>\n",
       "      <td>Art &amp; Design</td>\n",
       "      <td>June 8, 2018</td>\n",
       "      <td>Varies with device</td>\n",
       "      <td>4.2 and up</td>\n",
       "    </tr>\n",
       "    <tr>\n",
       "      <th>4</th>\n",
       "      <td>Pixel Draw - Number Art Coloring Book</td>\n",
       "      <td>ART_AND_DESIGN</td>\n",
       "      <td>4.3</td>\n",
       "      <td>967</td>\n",
       "      <td>2.8M</td>\n",
       "      <td>100,000+</td>\n",
       "      <td>Free</td>\n",
       "      <td>0</td>\n",
       "      <td>Everyone</td>\n",
       "      <td>Art &amp; Design;Creativity</td>\n",
       "      <td>June 20, 2018</td>\n",
       "      <td>1.1</td>\n",
       "      <td>4.4 and up</td>\n",
       "    </tr>\n",
       "  </tbody>\n",
       "</table>\n",
       "</div>"
      ],
      "text/plain": [
       "                                                 App        Category  Rating  \\\n",
       "0     Photo Editor & Candy Camera & Grid & ScrapBook  ART_AND_DESIGN     4.1   \n",
       "1                                Coloring book moana  ART_AND_DESIGN     3.9   \n",
       "2  U Launcher Lite – FREE Live Cool Themes, Hide ...  ART_AND_DESIGN     4.7   \n",
       "3                              Sketch - Draw & Paint  ART_AND_DESIGN     4.5   \n",
       "4              Pixel Draw - Number Art Coloring Book  ART_AND_DESIGN     4.3   \n",
       "\n",
       "  Reviews  Size     Installs  Type Price Content Rating  \\\n",
       "0     159   19M      10,000+  Free     0       Everyone   \n",
       "1     967   14M     500,000+  Free     0       Everyone   \n",
       "2   87510  8.7M   5,000,000+  Free     0       Everyone   \n",
       "3  215644   25M  50,000,000+  Free     0           Teen   \n",
       "4     967  2.8M     100,000+  Free     0       Everyone   \n",
       "\n",
       "                      Genres      Last Updated         Current Ver  \\\n",
       "0               Art & Design   January 7, 2018               1.0.0   \n",
       "1  Art & Design;Pretend Play  January 15, 2018               2.0.0   \n",
       "2               Art & Design    August 1, 2018               1.2.4   \n",
       "3               Art & Design      June 8, 2018  Varies with device   \n",
       "4    Art & Design;Creativity     June 20, 2018                 1.1   \n",
       "\n",
       "    Android Ver  \n",
       "0  4.0.3 and up  \n",
       "1  4.0.3 and up  \n",
       "2  4.0.3 and up  \n",
       "3    4.2 and up  \n",
       "4    4.4 and up  "
      ]
     },
     "execution_count": 16,
     "metadata": {},
     "output_type": "execute_result"
    }
   ],
   "source": [
    "df.head()"
   ]
  },
  {
   "cell_type": "code",
   "execution_count": 17,
   "id": "ac74cb81",
   "metadata": {},
   "outputs": [
    {
     "data": {
      "text/plain": [
       "array(['ART_AND_DESIGN', 'AUTO_AND_VEHICLES', 'BEAUTY',\n",
       "       'BOOKS_AND_REFERENCE', 'BUSINESS', 'COMICS', 'COMMUNICATION',\n",
       "       'DATING', 'EDUCATION', 'ENTERTAINMENT', 'EVENTS', 'FINANCE',\n",
       "       'FOOD_AND_DRINK', 'HEALTH_AND_FITNESS', 'HOUSE_AND_HOME',\n",
       "       'LIBRARIES_AND_DEMO', 'LIFESTYLE', 'GAME', 'FAMILY', 'MEDICAL',\n",
       "       'SOCIAL', 'SHOPPING', 'PHOTOGRAPHY', 'SPORTS', 'TRAVEL_AND_LOCAL',\n",
       "       'TOOLS', 'PERSONALIZATION', 'PRODUCTIVITY', 'PARENTING', 'WEATHER',\n",
       "       'VIDEO_PLAYERS', 'NEWS_AND_MAGAZINES', 'MAPS_AND_NAVIGATION',\n",
       "       '1.9'], dtype=object)"
      ]
     },
     "execution_count": 17,
     "metadata": {},
     "output_type": "execute_result"
    }
   ],
   "source": [
    "cat_name = df[\"Category\"].unique()\n",
    "cat_name"
   ]
  },
  {
   "cell_type": "code",
   "execution_count": 18,
   "id": "cb293325",
   "metadata": {},
   "outputs": [
    {
     "data": {
      "text/plain": [
       "34"
      ]
     },
     "execution_count": 18,
     "metadata": {},
     "output_type": "execute_result"
    }
   ],
   "source": [
    "len(cat_name)"
   ]
  },
  {
   "cell_type": "code",
   "execution_count": 19,
   "id": "16cdb18c",
   "metadata": {},
   "outputs": [
    {
     "data": {
      "text/plain": [
       "FAMILY                 1972\n",
       "GAME                   1144\n",
       "TOOLS                   843\n",
       "MEDICAL                 463\n",
       "BUSINESS                460\n",
       "PRODUCTIVITY            424\n",
       "PERSONALIZATION         392\n",
       "COMMUNICATION           387\n",
       "SPORTS                  384\n",
       "LIFESTYLE               382\n",
       "FINANCE                 366\n",
       "HEALTH_AND_FITNESS      341\n",
       "PHOTOGRAPHY             335\n",
       "SOCIAL                  295\n",
       "NEWS_AND_MAGAZINES      283\n",
       "SHOPPING                260\n",
       "TRAVEL_AND_LOCAL        258\n",
       "DATING                  234\n",
       "BOOKS_AND_REFERENCE     231\n",
       "VIDEO_PLAYERS           175\n",
       "EDUCATION               156\n",
       "ENTERTAINMENT           149\n",
       "MAPS_AND_NAVIGATION     137\n",
       "FOOD_AND_DRINK          127\n",
       "HOUSE_AND_HOME           88\n",
       "LIBRARIES_AND_DEMO       85\n",
       "AUTO_AND_VEHICLES        85\n",
       "WEATHER                  82\n",
       "ART_AND_DESIGN           65\n",
       "EVENTS                   64\n",
       "PARENTING                60\n",
       "COMICS                   60\n",
       "BEAUTY                   53\n",
       "1.9                       1\n",
       "Name: Category, dtype: int64"
      ]
     },
     "execution_count": 19,
     "metadata": {},
     "output_type": "execute_result"
    }
   ],
   "source": [
    "## we should see the value counts of the categories\n",
    "cat_value_count = df[\"Category\"].value_counts()\n",
    "cat_value_count"
   ]
  },
  {
   "cell_type": "code",
   "execution_count": 20,
   "id": "fd725e50",
   "metadata": {},
   "outputs": [
    {
     "data": {
      "text/plain": [
       "count      10841\n",
       "unique        34\n",
       "top       FAMILY\n",
       "freq        1972\n",
       "Name: Category, dtype: object"
      ]
     },
     "execution_count": 20,
     "metadata": {},
     "output_type": "execute_result"
    }
   ],
   "source": [
    "df[\"Category\"].describe().transpose()"
   ]
  },
  {
   "cell_type": "code",
   "execution_count": 21,
   "id": "5b97a941",
   "metadata": {},
   "outputs": [
    {
     "data": {
      "image/png": "[encoded data removed]",
      "text/plain": [
       "<Figure size 504x504 with 1 Axes>"
      ]
     },
     "metadata": {
      "needs_background": "light"
     },
     "output_type": "display_data"
    }
   ],
   "source": [
    "plt.figure(figsize = (7,7))\n",
    "cat_value_count.plot(kind = 'bar')\n",
    "plt.xlabel(\"Category of Apps\")\n",
    "plt.ylabel(\"Frequency\")\n",
    "plt.show()"
   ]
  },
  {
   "cell_type": "markdown",
   "id": "86713a87",
   "metadata": {},
   "source": [
    "## Woah! look at that the Family category is leading the frequncy board"
   ]
  },
  {
   "cell_type": "code",
   "execution_count": 22,
   "id": "4b3bd333",
   "metadata": {},
   "outputs": [],
   "source": [
    "#Let's see if we can put app names sorted by categories\n",
    "sorted_apps = df[df['App'].isin(filtered_names.index)].sort_values('Category')"
   ]
  },
  {
   "cell_type": "code",
   "execution_count": 23,
   "id": "8fa459f0",
   "metadata": {},
   "outputs": [
    {
     "data": {
      "text/html": [
       "<div>\n",
       "<style scoped>\n",
       "    .dataframe tbody tr th:only-of-type {\n",
       "        vertical-align: middle;\n",
       "    }\n",
       "\n",
       "    .dataframe tbody tr th {\n",
       "        vertical-align: top;\n",
       "    }\n",
       "\n",
       "    .dataframe thead th {\n",
       "        text-align: right;\n",
       "    }\n",
       "</style>\n",
       "<table border=\"1\" class=\"dataframe\">\n",
       "  <thead>\n",
       "    <tr style=\"text-align: right;\">\n",
       "      <th></th>\n",
       "      <th>App</th>\n",
       "      <th>Category</th>\n",
       "      <th>Rating</th>\n",
       "      <th>Reviews</th>\n",
       "      <th>Size</th>\n",
       "      <th>Installs</th>\n",
       "      <th>Type</th>\n",
       "      <th>Price</th>\n",
       "      <th>Content Rating</th>\n",
       "      <th>Genres</th>\n",
       "      <th>Last Updated</th>\n",
       "      <th>Current Ver</th>\n",
       "      <th>Android Ver</th>\n",
       "    </tr>\n",
       "  </thead>\n",
       "  <tbody>\n",
       "    <tr>\n",
       "      <th>342</th>\n",
       "      <td>Viber Messenger</td>\n",
       "      <td>COMMUNICATION</td>\n",
       "      <td>4.3</td>\n",
       "      <td>11334799</td>\n",
       "      <td>Varies with device</td>\n",
       "      <td>500,000,000+</td>\n",
       "      <td>Free</td>\n",
       "      <td>0</td>\n",
       "      <td>Everyone</td>\n",
       "      <td>Communication</td>\n",
       "      <td>July 18, 2018</td>\n",
       "      <td>Varies with device</td>\n",
       "      <td>Varies with device</td>\n",
       "    </tr>\n",
       "    <tr>\n",
       "      <th>385</th>\n",
       "      <td>Viber Messenger</td>\n",
       "      <td>COMMUNICATION</td>\n",
       "      <td>4.3</td>\n",
       "      <td>11334973</td>\n",
       "      <td>Varies with device</td>\n",
       "      <td>500,000,000+</td>\n",
       "      <td>Free</td>\n",
       "      <td>0</td>\n",
       "      <td>Everyone</td>\n",
       "      <td>Communication</td>\n",
       "      <td>July 18, 2018</td>\n",
       "      <td>Varies with device</td>\n",
       "      <td>Varies with device</td>\n",
       "    </tr>\n",
       "    <tr>\n",
       "      <th>431</th>\n",
       "      <td>Viber Messenger</td>\n",
       "      <td>COMMUNICATION</td>\n",
       "      <td>4.3</td>\n",
       "      <td>11334973</td>\n",
       "      <td>Varies with device</td>\n",
       "      <td>500,000,000+</td>\n",
       "      <td>Free</td>\n",
       "      <td>0</td>\n",
       "      <td>Everyone</td>\n",
       "      <td>Communication</td>\n",
       "      <td>July 18, 2018</td>\n",
       "      <td>Varies with device</td>\n",
       "      <td>Varies with device</td>\n",
       "    </tr>\n",
       "    <tr>\n",
       "      <th>467</th>\n",
       "      <td>Viber Messenger</td>\n",
       "      <td>COMMUNICATION</td>\n",
       "      <td>4.3</td>\n",
       "      <td>11335255</td>\n",
       "      <td>Varies with device</td>\n",
       "      <td>500,000,000+</td>\n",
       "      <td>Free</td>\n",
       "      <td>0</td>\n",
       "      <td>Everyone</td>\n",
       "      <td>Communication</td>\n",
       "      <td>July 18, 2018</td>\n",
       "      <td>Varies with device</td>\n",
       "      <td>Varies with device</td>\n",
       "    </tr>\n",
       "    <tr>\n",
       "      <th>4676</th>\n",
       "      <td>Viber Messenger</td>\n",
       "      <td>COMMUNICATION</td>\n",
       "      <td>4.3</td>\n",
       "      <td>11335481</td>\n",
       "      <td>Varies with device</td>\n",
       "      <td>500,000,000+</td>\n",
       "      <td>Free</td>\n",
       "      <td>0</td>\n",
       "      <td>Everyone</td>\n",
       "      <td>Communication</td>\n",
       "      <td>July 18, 2018</td>\n",
       "      <td>Varies with device</td>\n",
       "      <td>Varies with device</td>\n",
       "    </tr>\n",
       "    <tr>\n",
       "      <th>...</th>\n",
       "      <td>...</td>\n",
       "      <td>...</td>\n",
       "      <td>...</td>\n",
       "      <td>...</td>\n",
       "      <td>...</td>\n",
       "      <td>...</td>\n",
       "      <td>...</td>\n",
       "      <td>...</td>\n",
       "      <td>...</td>\n",
       "      <td>...</td>\n",
       "      <td>...</td>\n",
       "      <td>...</td>\n",
       "      <td>...</td>\n",
       "    </tr>\n",
       "    <tr>\n",
       "      <th>3170</th>\n",
       "      <td>TripAdvisor Hotels Flights Restaurants Attract...</td>\n",
       "      <td>TRAVEL_AND_LOCAL</td>\n",
       "      <td>4.4</td>\n",
       "      <td>1162837</td>\n",
       "      <td>Varies with device</td>\n",
       "      <td>100,000,000+</td>\n",
       "      <td>Free</td>\n",
       "      <td>0</td>\n",
       "      <td>Everyone</td>\n",
       "      <td>Travel &amp; Local</td>\n",
       "      <td>August 4, 2018</td>\n",
       "      <td>Varies with device</td>\n",
       "      <td>Varies with device</td>\n",
       "    </tr>\n",
       "    <tr>\n",
       "      <th>3192</th>\n",
       "      <td>Skyscanner</td>\n",
       "      <td>TRAVEL_AND_LOCAL</td>\n",
       "      <td>4.5</td>\n",
       "      <td>481546</td>\n",
       "      <td>29M</td>\n",
       "      <td>10,000,000+</td>\n",
       "      <td>Free</td>\n",
       "      <td>0</td>\n",
       "      <td>Everyone</td>\n",
       "      <td>Travel &amp; Local</td>\n",
       "      <td>August 6, 2018</td>\n",
       "      <td>5.48</td>\n",
       "      <td>4.4 and up</td>\n",
       "    </tr>\n",
       "    <tr>\n",
       "      <th>3207</th>\n",
       "      <td>Skyscanner</td>\n",
       "      <td>TRAVEL_AND_LOCAL</td>\n",
       "      <td>4.5</td>\n",
       "      <td>481546</td>\n",
       "      <td>29M</td>\n",
       "      <td>10,000,000+</td>\n",
       "      <td>Free</td>\n",
       "      <td>0</td>\n",
       "      <td>Everyone</td>\n",
       "      <td>Travel &amp; Local</td>\n",
       "      <td>August 6, 2018</td>\n",
       "      <td>5.48</td>\n",
       "      <td>4.4 and up</td>\n",
       "    </tr>\n",
       "    <tr>\n",
       "      <th>3214</th>\n",
       "      <td>TripAdvisor Hotels Flights Restaurants Attract...</td>\n",
       "      <td>TRAVEL_AND_LOCAL</td>\n",
       "      <td>4.4</td>\n",
       "      <td>1162837</td>\n",
       "      <td>Varies with device</td>\n",
       "      <td>100,000,000+</td>\n",
       "      <td>Free</td>\n",
       "      <td>0</td>\n",
       "      <td>Everyone</td>\n",
       "      <td>Travel &amp; Local</td>\n",
       "      <td>August 4, 2018</td>\n",
       "      <td>Varies with device</td>\n",
       "      <td>Varies with device</td>\n",
       "    </tr>\n",
       "    <tr>\n",
       "      <th>3221</th>\n",
       "      <td>Skyscanner</td>\n",
       "      <td>TRAVEL_AND_LOCAL</td>\n",
       "      <td>4.5</td>\n",
       "      <td>481546</td>\n",
       "      <td>29M</td>\n",
       "      <td>10,000,000+</td>\n",
       "      <td>Free</td>\n",
       "      <td>0</td>\n",
       "      <td>Everyone</td>\n",
       "      <td>Travel &amp; Local</td>\n",
       "      <td>August 6, 2018</td>\n",
       "      <td>5.48</td>\n",
       "      <td>4.4 and up</td>\n",
       "    </tr>\n",
       "  </tbody>\n",
       "</table>\n",
       "<p>195 rows × 13 columns</p>\n",
       "</div>"
      ],
      "text/plain": [
       "                                                    App          Category  \\\n",
       "342                                     Viber Messenger     COMMUNICATION   \n",
       "385                                     Viber Messenger     COMMUNICATION   \n",
       "431                                     Viber Messenger     COMMUNICATION   \n",
       "467                                     Viber Messenger     COMMUNICATION   \n",
       "4676                                    Viber Messenger     COMMUNICATION   \n",
       "...                                                 ...               ...   \n",
       "3170  TripAdvisor Hotels Flights Restaurants Attract...  TRAVEL_AND_LOCAL   \n",
       "3192                                         Skyscanner  TRAVEL_AND_LOCAL   \n",
       "3207                                         Skyscanner  TRAVEL_AND_LOCAL   \n",
       "3214  TripAdvisor Hotels Flights Restaurants Attract...  TRAVEL_AND_LOCAL   \n",
       "3221                                         Skyscanner  TRAVEL_AND_LOCAL   \n",
       "\n",
       "      Rating   Reviews                Size      Installs  Type Price  \\\n",
       "342      4.3  11334799  Varies with device  500,000,000+  Free     0   \n",
       "385      4.3  11334973  Varies with device  500,000,000+  Free     0   \n",
       "431      4.3  11334973  Varies with device  500,000,000+  Free     0   \n",
       "467      4.3  11335255  Varies with device  500,000,000+  Free     0   \n",
       "4676     4.3  11335481  Varies with device  500,000,000+  Free     0   \n",
       "...      ...       ...                 ...           ...   ...   ...   \n",
       "3170     4.4   1162837  Varies with device  100,000,000+  Free     0   \n",
       "3192     4.5    481546                 29M   10,000,000+  Free     0   \n",
       "3207     4.5    481546                 29M   10,000,000+  Free     0   \n",
       "3214     4.4   1162837  Varies with device  100,000,000+  Free     0   \n",
       "3221     4.5    481546                 29M   10,000,000+  Free     0   \n",
       "\n",
       "     Content Rating          Genres    Last Updated         Current Ver  \\\n",
       "342        Everyone   Communication   July 18, 2018  Varies with device   \n",
       "385        Everyone   Communication   July 18, 2018  Varies with device   \n",
       "431        Everyone   Communication   July 18, 2018  Varies with device   \n",
       "467        Everyone   Communication   July 18, 2018  Varies with device   \n",
       "4676       Everyone   Communication   July 18, 2018  Varies with device   \n",
       "...             ...             ...             ...                 ...   \n",
       "3170       Everyone  Travel & Local  August 4, 2018  Varies with device   \n",
       "3192       Everyone  Travel & Local  August 6, 2018                5.48   \n",
       "3207       Everyone  Travel & Local  August 6, 2018                5.48   \n",
       "3214       Everyone  Travel & Local  August 4, 2018  Varies with device   \n",
       "3221       Everyone  Travel & Local  August 6, 2018                5.48   \n",
       "\n",
       "             Android Ver  \n",
       "342   Varies with device  \n",
       "385   Varies with device  \n",
       "431   Varies with device  \n",
       "467   Varies with device  \n",
       "4676  Varies with device  \n",
       "...                  ...  \n",
       "3170  Varies with device  \n",
       "3192          4.4 and up  \n",
       "3207          4.4 and up  \n",
       "3214  Varies with device  \n",
       "3221          4.4 and up  \n",
       "\n",
       "[195 rows x 13 columns]"
      ]
     },
     "execution_count": 23,
     "metadata": {},
     "output_type": "execute_result"
    }
   ],
   "source": [
    "sorted_apps"
   ]
  },
  {
   "cell_type": "code",
   "execution_count": 24,
   "id": "625cd168",
   "metadata": {},
   "outputs": [
    {
     "data": {
      "text/plain": [
       "195"
      ]
     },
     "execution_count": 24,
     "metadata": {},
     "output_type": "execute_result"
    }
   ],
   "source": [
    "len(sorted_apps)"
   ]
  },
  {
   "cell_type": "code",
   "execution_count": 25,
   "id": "5545022b",
   "metadata": {},
   "outputs": [
    {
     "data": {
      "text/plain": [
       "App                                                 Category          Rating  Reviews  Size                Installs      Type  Price  Content Rating  Genres                       Last Updated      Current Ver         Android Ver       \n",
       "CBS Sports App - Scores, News, Stats & Watch Live   SPORTS            4.3     91031    Varies with device  5,000,000+    Free  0      Everyone        Sports                       August 4, 2018    Varies with device  5.0 and up            4\n",
       "Nick                                                ENTERTAINMENT     4.2     123279   25M                 10,000,000+   Free  0      Everyone 10+    Entertainment;Music & Video  January 24, 2018  2.0.8               4.4 and up            4\n",
       "eBay: Buy & Sell this Summer - Discover Deals Now!  SHOPPING          4.4     2788923  Varies with device  100,000,000+  Free  0      Teen            Shopping                     July 30, 2018     Varies with device  Varies with device    4\n",
       "Skyscanner                                          TRAVEL_AND_LOCAL  4.5     481546   29M                 10,000,000+   Free  0      Everyone        Travel & Local               August 6, 2018    5.48                4.4 and up            4\n",
       "theScore: Live Sports Scores, News, Stats & Videos  SPORTS            4.4     133833   34M                 10,000,000+   Free  0      Everyone 10+    Sports                       July 25, 2018     6.17.2              4.4 and up            3\n",
       "                                                                                                                                                                                                                                              ..\n",
       "Farm Heroes Saga                                    GAME              4.4     7614130  70M                 100,000,000+  Free  0      Everyone        Casual                       July 26, 2018     5.1.8               2.3 and up            1\n",
       "                                                    FAMILY            4.4     7615646  71M                 100,000,000+  Free  0      Everyone        Casual                       August 7, 2018    5.2.6               2.3 and up            1\n",
       "ESPN                                                SPORTS            4.2     521081   Varies with device  10,000,000+   Free  0      Everyone 10+    Sports                       July 19, 2018     Varies with device  5.0 and up            1\n",
       "Duolingo: Learn Languages Free                      FAMILY            4.7     6297590  Varies with device  100,000,000+  Free  0      Everyone        Education;Education          August 6, 2018    Varies with device  Varies with device    1\n",
       "MeetMe: Chat & Meet New People                      SOCIAL            4.2     1259849  76M                 50,000,000+   Free  0      Mature 17+      Social                       August 3, 2018    Varies with device  4.1 and up            1\n",
       "Length: 146, dtype: int64"
      ]
     },
     "execution_count": 25,
     "metadata": {},
     "output_type": "execute_result"
    }
   ],
   "source": [
    "sorted_apps.value_counts()"
   ]
  },
  {
   "cell_type": "code",
   "execution_count": 26,
   "id": "13732373",
   "metadata": {},
   "outputs": [
    {
     "data": {
      "image/png": "[encoded data removed]",
      "text/plain": [
       "<Figure size 720x432 with 1 Axes>"
      ]
     },
     "metadata": {
      "needs_background": "light"
     },
     "output_type": "display_data"
    }
   ],
   "source": [
    "plt.figure(figsize=(10, 6))  # Adjust the figure size if needed\n",
    "sorted_apps['App'].value_counts().plot(kind='barh')\n",
    "plt.xlabel('Frequency')\n",
    "plt.ylabel('App names')\n",
    "plt.title('Frequency of Apps by Category')\n",
    "plt.show()"
   ]
  },
  {
   "cell_type": "markdown",
   "id": "8f6d92e7",
   "metadata": {},
   "source": [
    "## Frequency of apps by Category"
   ]
  },
  {
   "cell_type": "code",
   "execution_count": 27,
   "id": "3e5bfc84",
   "metadata": {},
   "outputs": [
    {
     "data": {
      "text/html": [
       "<div>\n",
       "<style scoped>\n",
       "    .dataframe tbody tr th:only-of-type {\n",
       "        vertical-align: middle;\n",
       "    }\n",
       "\n",
       "    .dataframe tbody tr th {\n",
       "        vertical-align: top;\n",
       "    }\n",
       "\n",
       "    .dataframe thead th {\n",
       "        text-align: right;\n",
       "    }\n",
       "</style>\n",
       "<table border=\"1\" class=\"dataframe\">\n",
       "  <thead>\n",
       "    <tr style=\"text-align: right;\">\n",
       "      <th></th>\n",
       "      <th>App</th>\n",
       "      <th>Category</th>\n",
       "      <th>Rating</th>\n",
       "      <th>Reviews</th>\n",
       "      <th>Size</th>\n",
       "      <th>Installs</th>\n",
       "      <th>Type</th>\n",
       "      <th>Price</th>\n",
       "      <th>Content Rating</th>\n",
       "      <th>Genres</th>\n",
       "      <th>Last Updated</th>\n",
       "      <th>Current Ver</th>\n",
       "      <th>Android Ver</th>\n",
       "    </tr>\n",
       "  </thead>\n",
       "  <tbody>\n",
       "    <tr>\n",
       "      <th>0</th>\n",
       "      <td>Photo Editor &amp; Candy Camera &amp; Grid &amp; ScrapBook</td>\n",
       "      <td>ART_AND_DESIGN</td>\n",
       "      <td>4.1</td>\n",
       "      <td>159</td>\n",
       "      <td>19M</td>\n",
       "      <td>10,000+</td>\n",
       "      <td>Free</td>\n",
       "      <td>0</td>\n",
       "      <td>Everyone</td>\n",
       "      <td>Art &amp; Design</td>\n",
       "      <td>January 7, 2018</td>\n",
       "      <td>1.0.0</td>\n",
       "      <td>4.0.3 and up</td>\n",
       "    </tr>\n",
       "    <tr>\n",
       "      <th>1</th>\n",
       "      <td>Coloring book moana</td>\n",
       "      <td>ART_AND_DESIGN</td>\n",
       "      <td>3.9</td>\n",
       "      <td>967</td>\n",
       "      <td>14M</td>\n",
       "      <td>500,000+</td>\n",
       "      <td>Free</td>\n",
       "      <td>0</td>\n",
       "      <td>Everyone</td>\n",
       "      <td>Art &amp; Design;Pretend Play</td>\n",
       "      <td>January 15, 2018</td>\n",
       "      <td>2.0.0</td>\n",
       "      <td>4.0.3 and up</td>\n",
       "    </tr>\n",
       "    <tr>\n",
       "      <th>2</th>\n",
       "      <td>U Launcher Lite – FREE Live Cool Themes, Hide ...</td>\n",
       "      <td>ART_AND_DESIGN</td>\n",
       "      <td>4.7</td>\n",
       "      <td>87510</td>\n",
       "      <td>8.7M</td>\n",
       "      <td>5,000,000+</td>\n",
       "      <td>Free</td>\n",
       "      <td>0</td>\n",
       "      <td>Everyone</td>\n",
       "      <td>Art &amp; Design</td>\n",
       "      <td>August 1, 2018</td>\n",
       "      <td>1.2.4</td>\n",
       "      <td>4.0.3 and up</td>\n",
       "    </tr>\n",
       "    <tr>\n",
       "      <th>3</th>\n",
       "      <td>Sketch - Draw &amp; Paint</td>\n",
       "      <td>ART_AND_DESIGN</td>\n",
       "      <td>4.5</td>\n",
       "      <td>215644</td>\n",
       "      <td>25M</td>\n",
       "      <td>50,000,000+</td>\n",
       "      <td>Free</td>\n",
       "      <td>0</td>\n",
       "      <td>Teen</td>\n",
       "      <td>Art &amp; Design</td>\n",
       "      <td>June 8, 2018</td>\n",
       "      <td>Varies with device</td>\n",
       "      <td>4.2 and up</td>\n",
       "    </tr>\n",
       "    <tr>\n",
       "      <th>4</th>\n",
       "      <td>Pixel Draw - Number Art Coloring Book</td>\n",
       "      <td>ART_AND_DESIGN</td>\n",
       "      <td>4.3</td>\n",
       "      <td>967</td>\n",
       "      <td>2.8M</td>\n",
       "      <td>100,000+</td>\n",
       "      <td>Free</td>\n",
       "      <td>0</td>\n",
       "      <td>Everyone</td>\n",
       "      <td>Art &amp; Design;Creativity</td>\n",
       "      <td>June 20, 2018</td>\n",
       "      <td>1.1</td>\n",
       "      <td>4.4 and up</td>\n",
       "    </tr>\n",
       "  </tbody>\n",
       "</table>\n",
       "</div>"
      ],
      "text/plain": [
       "                                                 App        Category  Rating  \\\n",
       "0     Photo Editor & Candy Camera & Grid & ScrapBook  ART_AND_DESIGN     4.1   \n",
       "1                                Coloring book moana  ART_AND_DESIGN     3.9   \n",
       "2  U Launcher Lite – FREE Live Cool Themes, Hide ...  ART_AND_DESIGN     4.7   \n",
       "3                              Sketch - Draw & Paint  ART_AND_DESIGN     4.5   \n",
       "4              Pixel Draw - Number Art Coloring Book  ART_AND_DESIGN     4.3   \n",
       "\n",
       "  Reviews  Size     Installs  Type Price Content Rating  \\\n",
       "0     159   19M      10,000+  Free     0       Everyone   \n",
       "1     967   14M     500,000+  Free     0       Everyone   \n",
       "2   87510  8.7M   5,000,000+  Free     0       Everyone   \n",
       "3  215644   25M  50,000,000+  Free     0           Teen   \n",
       "4     967  2.8M     100,000+  Free     0       Everyone   \n",
       "\n",
       "                      Genres      Last Updated         Current Ver  \\\n",
       "0               Art & Design   January 7, 2018               1.0.0   \n",
       "1  Art & Design;Pretend Play  January 15, 2018               2.0.0   \n",
       "2               Art & Design    August 1, 2018               1.2.4   \n",
       "3               Art & Design      June 8, 2018  Varies with device   \n",
       "4    Art & Design;Creativity     June 20, 2018                 1.1   \n",
       "\n",
       "    Android Ver  \n",
       "0  4.0.3 and up  \n",
       "1  4.0.3 and up  \n",
       "2  4.0.3 and up  \n",
       "3    4.2 and up  \n",
       "4    4.4 and up  "
      ]
     },
     "execution_count": 27,
     "metadata": {},
     "output_type": "execute_result"
    }
   ],
   "source": [
    "df.head()"
   ]
  },
  {
   "cell_type": "code",
   "execution_count": 28,
   "id": "a457a0f9",
   "metadata": {},
   "outputs": [
    {
     "data": {
      "text/plain": [
       "Rating\n",
       "4.4     1109\n",
       "4.3     1076\n",
       "4.5     1038\n",
       "4.2      952\n",
       "4.6      823\n",
       "4.1      708\n",
       "4.0      568\n",
       "4.7      499\n",
       "3.9      386\n",
       "3.8      303\n",
       "5.0      274\n",
       "3.7      239\n",
       "4.8      234\n",
       "3.6      174\n",
       "3.5      163\n",
       "3.4      128\n",
       "3.3      102\n",
       "4.9       87\n",
       "3.0       83\n",
       "3.1       69\n",
       "3.2       64\n",
       "2.9       45\n",
       "2.8       42\n",
       "2.7       25\n",
       "2.6       25\n",
       "2.5       21\n",
       "2.3       20\n",
       "2.4       19\n",
       "1.0       16\n",
       "2.2       14\n",
       "1.9       13\n",
       "2.0       12\n",
       "2.1        8\n",
       "1.8        8\n",
       "1.7        8\n",
       "1.6        4\n",
       "1.5        3\n",
       "1.4        3\n",
       "1.2        1\n",
       "19.0       1\n",
       "dtype: int64"
      ]
     },
     "execution_count": 28,
     "metadata": {},
     "output_type": "execute_result"
    }
   ],
   "source": [
    "# lets see the apps with highest rating\n",
    "Rating_num_apps = df.iloc[:,[1,2]].groupby('Rating').size().sort_values(ascending=False)\n",
    "Rating_num_apps"
   ]
  },
  {
   "cell_type": "markdown",
   "id": "deb52594",
   "metadata": {},
   "source": [
    "Majority of the apps are rated above 4"
   ]
  },
  {
   "cell_type": "code",
   "execution_count": 29,
   "id": "1dffe8ed",
   "metadata": {},
   "outputs": [
    {
     "data": {
      "image/png": "[encoded data removed]",
      "text/plain": [
       "<Figure size 720x720 with 1 Axes>"
      ]
     },
     "metadata": {
      "needs_background": "light"
     },
     "output_type": "display_data"
    }
   ],
   "source": [
    "plt.figure(figsize=(10,10))\n",
    "Rating_num_apps.plot(kind='bar')\n",
    "plt.xlabel(\"Rating\")\n",
    "plt.ylabel(\"ylabel\")\n",
    "plt.title(\"Visual of rating by app\")\n",
    "plt.show()"
   ]
  },
  {
   "cell_type": "markdown",
   "id": "1eb4babe",
   "metadata": {},
   "source": [
    "we can probably drop apps below rating 2.0 later"
   ]
  },
  {
   "cell_type": "code",
   "execution_count": 30,
   "id": "caf6a9e1",
   "metadata": {},
   "outputs": [
    {
     "data": {
      "text/html": [
       "<div>\n",
       "<style scoped>\n",
       "    .dataframe tbody tr th:only-of-type {\n",
       "        vertical-align: middle;\n",
       "    }\n",
       "\n",
       "    .dataframe tbody tr th {\n",
       "        vertical-align: top;\n",
       "    }\n",
       "\n",
       "    .dataframe thead th {\n",
       "        text-align: right;\n",
       "    }\n",
       "</style>\n",
       "<table border=\"1\" class=\"dataframe\">\n",
       "  <thead>\n",
       "    <tr style=\"text-align: right;\">\n",
       "      <th></th>\n",
       "      <th>App</th>\n",
       "      <th>Category</th>\n",
       "      <th>Rating</th>\n",
       "      <th>Reviews</th>\n",
       "      <th>Size</th>\n",
       "      <th>Installs</th>\n",
       "      <th>Type</th>\n",
       "      <th>Price</th>\n",
       "      <th>Content Rating</th>\n",
       "      <th>Genres</th>\n",
       "      <th>Last Updated</th>\n",
       "      <th>Current Ver</th>\n",
       "      <th>Android Ver</th>\n",
       "    </tr>\n",
       "  </thead>\n",
       "  <tbody>\n",
       "    <tr>\n",
       "      <th>0</th>\n",
       "      <td>Photo Editor &amp; Candy Camera &amp; Grid &amp; ScrapBook</td>\n",
       "      <td>ART_AND_DESIGN</td>\n",
       "      <td>4.1</td>\n",
       "      <td>159</td>\n",
       "      <td>19M</td>\n",
       "      <td>10,000+</td>\n",
       "      <td>Free</td>\n",
       "      <td>0</td>\n",
       "      <td>Everyone</td>\n",
       "      <td>Art &amp; Design</td>\n",
       "      <td>January 7, 2018</td>\n",
       "      <td>1.0.0</td>\n",
       "      <td>4.0.3 and up</td>\n",
       "    </tr>\n",
       "    <tr>\n",
       "      <th>1</th>\n",
       "      <td>Coloring book moana</td>\n",
       "      <td>ART_AND_DESIGN</td>\n",
       "      <td>3.9</td>\n",
       "      <td>967</td>\n",
       "      <td>14M</td>\n",
       "      <td>500,000+</td>\n",
       "      <td>Free</td>\n",
       "      <td>0</td>\n",
       "      <td>Everyone</td>\n",
       "      <td>Art &amp; Design;Pretend Play</td>\n",
       "      <td>January 15, 2018</td>\n",
       "      <td>2.0.0</td>\n",
       "      <td>4.0.3 and up</td>\n",
       "    </tr>\n",
       "    <tr>\n",
       "      <th>2</th>\n",
       "      <td>U Launcher Lite – FREE Live Cool Themes, Hide ...</td>\n",
       "      <td>ART_AND_DESIGN</td>\n",
       "      <td>4.7</td>\n",
       "      <td>87510</td>\n",
       "      <td>8.7M</td>\n",
       "      <td>5,000,000+</td>\n",
       "      <td>Free</td>\n",
       "      <td>0</td>\n",
       "      <td>Everyone</td>\n",
       "      <td>Art &amp; Design</td>\n",
       "      <td>August 1, 2018</td>\n",
       "      <td>1.2.4</td>\n",
       "      <td>4.0.3 and up</td>\n",
       "    </tr>\n",
       "    <tr>\n",
       "      <th>3</th>\n",
       "      <td>Sketch - Draw &amp; Paint</td>\n",
       "      <td>ART_AND_DESIGN</td>\n",
       "      <td>4.5</td>\n",
       "      <td>215644</td>\n",
       "      <td>25M</td>\n",
       "      <td>50,000,000+</td>\n",
       "      <td>Free</td>\n",
       "      <td>0</td>\n",
       "      <td>Teen</td>\n",
       "      <td>Art &amp; Design</td>\n",
       "      <td>June 8, 2018</td>\n",
       "      <td>Varies with device</td>\n",
       "      <td>4.2 and up</td>\n",
       "    </tr>\n",
       "    <tr>\n",
       "      <th>4</th>\n",
       "      <td>Pixel Draw - Number Art Coloring Book</td>\n",
       "      <td>ART_AND_DESIGN</td>\n",
       "      <td>4.3</td>\n",
       "      <td>967</td>\n",
       "      <td>2.8M</td>\n",
       "      <td>100,000+</td>\n",
       "      <td>Free</td>\n",
       "      <td>0</td>\n",
       "      <td>Everyone</td>\n",
       "      <td>Art &amp; Design;Creativity</td>\n",
       "      <td>June 20, 2018</td>\n",
       "      <td>1.1</td>\n",
       "      <td>4.4 and up</td>\n",
       "    </tr>\n",
       "  </tbody>\n",
       "</table>\n",
       "</div>"
      ],
      "text/plain": [
       "                                                 App        Category  Rating  \\\n",
       "0     Photo Editor & Candy Camera & Grid & ScrapBook  ART_AND_DESIGN     4.1   \n",
       "1                                Coloring book moana  ART_AND_DESIGN     3.9   \n",
       "2  U Launcher Lite – FREE Live Cool Themes, Hide ...  ART_AND_DESIGN     4.7   \n",
       "3                              Sketch - Draw & Paint  ART_AND_DESIGN     4.5   \n",
       "4              Pixel Draw - Number Art Coloring Book  ART_AND_DESIGN     4.3   \n",
       "\n",
       "  Reviews  Size     Installs  Type Price Content Rating  \\\n",
       "0     159   19M      10,000+  Free     0       Everyone   \n",
       "1     967   14M     500,000+  Free     0       Everyone   \n",
       "2   87510  8.7M   5,000,000+  Free     0       Everyone   \n",
       "3  215644   25M  50,000,000+  Free     0           Teen   \n",
       "4     967  2.8M     100,000+  Free     0       Everyone   \n",
       "\n",
       "                      Genres      Last Updated         Current Ver  \\\n",
       "0               Art & Design   January 7, 2018               1.0.0   \n",
       "1  Art & Design;Pretend Play  January 15, 2018               2.0.0   \n",
       "2               Art & Design    August 1, 2018               1.2.4   \n",
       "3               Art & Design      June 8, 2018  Varies with device   \n",
       "4    Art & Design;Creativity     June 20, 2018                 1.1   \n",
       "\n",
       "    Android Ver  \n",
       "0  4.0.3 and up  \n",
       "1  4.0.3 and up  \n",
       "2  4.0.3 and up  \n",
       "3    4.2 and up  \n",
       "4    4.4 and up  "
      ]
     },
     "execution_count": 30,
     "metadata": {},
     "output_type": "execute_result"
    }
   ],
   "source": [
    "df.head(5)"
   ]
  },
  {
   "cell_type": "code",
   "execution_count": 31,
   "id": "973055bc",
   "metadata": {},
   "outputs": [
    {
     "data": {
      "text/plain": [
       "count     10841\n",
       "unique     6002\n",
       "top           0\n",
       "freq        596\n",
       "Name: Reviews, dtype: object"
      ]
     },
     "execution_count": 31,
     "metadata": {},
     "output_type": "execute_result"
    }
   ],
   "source": [
    "df[\"Reviews\"].describe()"
   ]
  },
  {
   "cell_type": "markdown",
   "id": "31e584cc",
   "metadata": {},
   "source": [
    "Intresting! The the hghest number of reviews are 0, lets check the apps that have 0 rating. "
   ]
  },
  {
   "cell_type": "code",
   "execution_count": 32,
   "id": "ee670d51",
   "metadata": {},
   "outputs": [
    {
     "data": {
      "text/plain": [
       "array(['Free', 'Paid', nan, '0'], dtype=object)"
      ]
     },
     "execution_count": 32,
     "metadata": {},
     "output_type": "execute_result"
    }
   ],
   "source": [
    "df[\"Type\"].unique()"
   ]
  },
  {
   "cell_type": "code",
   "execution_count": 33,
   "id": "a446227c",
   "metadata": {},
   "outputs": [
    {
     "data": {
      "text/plain": [
       "Free    10039\n",
       "Paid      800\n",
       "0           1\n",
       "Name: Type, dtype: int64"
      ]
     },
     "execution_count": 33,
     "metadata": {},
     "output_type": "execute_result"
    }
   ],
   "source": [
    "df[\"Type\"].value_counts()"
   ]
  },
  {
   "cell_type": "markdown",
   "id": "c2a67a83",
   "metadata": {},
   "source": [
    "The majority of the apps in the data set are free apps"
   ]
  },
  {
   "cell_type": "code",
   "execution_count": 34,
   "id": "43fb9871",
   "metadata": {},
   "outputs": [
    {
     "data": {
      "image/png": "[encoded data removed]",
      "text/plain": [
       "<Figure size 360x360 with 1 Axes>"
      ]
     },
     "metadata": {
      "needs_background": "light"
     },
     "output_type": "display_data"
    }
   ],
   "source": [
    "#checking the relationship between app rating and app type\n",
    "plt.figure(figsize = (5,5))\n",
    "sns.scatterplot(data=df, x='Rating', y='Type', hue='Type')\n",
    "plt.xlabel('Rating')\n",
    "plt.ylabel('Type')\n",
    "plt.title('Rating with Hue based on Type')\n",
    "plt.show()"
   ]
  },
  {
   "cell_type": "code",
   "execution_count": 35,
   "id": "0e437216",
   "metadata": {},
   "outputs": [
    {
     "data": {
      "text/html": [
       "<div>\n",
       "<style scoped>\n",
       "    .dataframe tbody tr th:only-of-type {\n",
       "        vertical-align: middle;\n",
       "    }\n",
       "\n",
       "    .dataframe tbody tr th {\n",
       "        vertical-align: top;\n",
       "    }\n",
       "\n",
       "    .dataframe thead th {\n",
       "        text-align: right;\n",
       "    }\n",
       "</style>\n",
       "<table border=\"1\" class=\"dataframe\">\n",
       "  <thead>\n",
       "    <tr style=\"text-align: right;\">\n",
       "      <th></th>\n",
       "      <th>App</th>\n",
       "      <th>Category</th>\n",
       "      <th>Rating</th>\n",
       "      <th>Reviews</th>\n",
       "      <th>Size</th>\n",
       "      <th>Installs</th>\n",
       "      <th>Type</th>\n",
       "      <th>Price</th>\n",
       "      <th>Content Rating</th>\n",
       "      <th>Genres</th>\n",
       "      <th>Last Updated</th>\n",
       "      <th>Current Ver</th>\n",
       "      <th>Android Ver</th>\n",
       "    </tr>\n",
       "  </thead>\n",
       "  <tbody>\n",
       "    <tr>\n",
       "      <th>0</th>\n",
       "      <td>Photo Editor &amp; Candy Camera &amp; Grid &amp; ScrapBook</td>\n",
       "      <td>ART_AND_DESIGN</td>\n",
       "      <td>4.1</td>\n",
       "      <td>159</td>\n",
       "      <td>19M</td>\n",
       "      <td>10,000+</td>\n",
       "      <td>Free</td>\n",
       "      <td>0</td>\n",
       "      <td>Everyone</td>\n",
       "      <td>Art &amp; Design</td>\n",
       "      <td>January 7, 2018</td>\n",
       "      <td>1.0.0</td>\n",
       "      <td>4.0.3 and up</td>\n",
       "    </tr>\n",
       "    <tr>\n",
       "      <th>1</th>\n",
       "      <td>Coloring book moana</td>\n",
       "      <td>ART_AND_DESIGN</td>\n",
       "      <td>3.9</td>\n",
       "      <td>967</td>\n",
       "      <td>14M</td>\n",
       "      <td>500,000+</td>\n",
       "      <td>Free</td>\n",
       "      <td>0</td>\n",
       "      <td>Everyone</td>\n",
       "      <td>Art &amp; Design;Pretend Play</td>\n",
       "      <td>January 15, 2018</td>\n",
       "      <td>2.0.0</td>\n",
       "      <td>4.0.3 and up</td>\n",
       "    </tr>\n",
       "    <tr>\n",
       "      <th>2</th>\n",
       "      <td>U Launcher Lite – FREE Live Cool Themes, Hide ...</td>\n",
       "      <td>ART_AND_DESIGN</td>\n",
       "      <td>4.7</td>\n",
       "      <td>87510</td>\n",
       "      <td>8.7M</td>\n",
       "      <td>5,000,000+</td>\n",
       "      <td>Free</td>\n",
       "      <td>0</td>\n",
       "      <td>Everyone</td>\n",
       "      <td>Art &amp; Design</td>\n",
       "      <td>August 1, 2018</td>\n",
       "      <td>1.2.4</td>\n",
       "      <td>4.0.3 and up</td>\n",
       "    </tr>\n",
       "  </tbody>\n",
       "</table>\n",
       "</div>"
      ],
      "text/plain": [
       "                                                 App        Category  Rating  \\\n",
       "0     Photo Editor & Candy Camera & Grid & ScrapBook  ART_AND_DESIGN     4.1   \n",
       "1                                Coloring book moana  ART_AND_DESIGN     3.9   \n",
       "2  U Launcher Lite – FREE Live Cool Themes, Hide ...  ART_AND_DESIGN     4.7   \n",
       "\n",
       "  Reviews  Size    Installs  Type Price Content Rating  \\\n",
       "0     159   19M     10,000+  Free     0       Everyone   \n",
       "1     967   14M    500,000+  Free     0       Everyone   \n",
       "2   87510  8.7M  5,000,000+  Free     0       Everyone   \n",
       "\n",
       "                      Genres      Last Updated Current Ver   Android Ver  \n",
       "0               Art & Design   January 7, 2018       1.0.0  4.0.3 and up  \n",
       "1  Art & Design;Pretend Play  January 15, 2018       2.0.0  4.0.3 and up  \n",
       "2               Art & Design    August 1, 2018       1.2.4  4.0.3 and up  "
      ]
     },
     "execution_count": 35,
     "metadata": {},
     "output_type": "execute_result"
    }
   ],
   "source": [
    "df.head(3)"
   ]
  },
  {
   "cell_type": "code",
   "execution_count": 36,
   "id": "d7d665cd",
   "metadata": {},
   "outputs": [
    {
     "data": {
      "text/plain": [
       "'Content Rating'"
      ]
     },
     "execution_count": 36,
     "metadata": {},
     "output_type": "execute_result"
    }
   ],
   "source": [
    "df.columns.values[8].strip()"
   ]
  },
  {
   "cell_type": "code",
   "execution_count": 37,
   "id": "c744df23",
   "metadata": {},
   "outputs": [
    {
     "data": {
      "text/html": [
       "<div>\n",
       "<style scoped>\n",
       "    .dataframe tbody tr th:only-of-type {\n",
       "        vertical-align: middle;\n",
       "    }\n",
       "\n",
       "    .dataframe tbody tr th {\n",
       "        vertical-align: top;\n",
       "    }\n",
       "\n",
       "    .dataframe thead th {\n",
       "        text-align: right;\n",
       "    }\n",
       "</style>\n",
       "<table border=\"1\" class=\"dataframe\">\n",
       "  <thead>\n",
       "    <tr style=\"text-align: right;\">\n",
       "      <th></th>\n",
       "      <th>App</th>\n",
       "      <th>Category</th>\n",
       "      <th>Rating</th>\n",
       "      <th>Reviews</th>\n",
       "      <th>Size</th>\n",
       "      <th>Installs</th>\n",
       "      <th>Type</th>\n",
       "      <th>Price</th>\n",
       "      <th>Content Rating</th>\n",
       "      <th>Genres</th>\n",
       "      <th>Last Updated</th>\n",
       "      <th>Current Ver</th>\n",
       "      <th>Android Ver</th>\n",
       "    </tr>\n",
       "  </thead>\n",
       "  <tbody>\n",
       "    <tr>\n",
       "      <th>0</th>\n",
       "      <td>Photo Editor &amp; Candy Camera &amp; Grid &amp; ScrapBook</td>\n",
       "      <td>ART_AND_DESIGN</td>\n",
       "      <td>4.1</td>\n",
       "      <td>159</td>\n",
       "      <td>19M</td>\n",
       "      <td>10,000+</td>\n",
       "      <td>Free</td>\n",
       "      <td>0</td>\n",
       "      <td>Everyone</td>\n",
       "      <td>Art &amp; Design</td>\n",
       "      <td>January 7, 2018</td>\n",
       "      <td>1.0.0</td>\n",
       "      <td>4.0.3 and up</td>\n",
       "    </tr>\n",
       "    <tr>\n",
       "      <th>1</th>\n",
       "      <td>Coloring book moana</td>\n",
       "      <td>ART_AND_DESIGN</td>\n",
       "      <td>3.9</td>\n",
       "      <td>967</td>\n",
       "      <td>14M</td>\n",
       "      <td>500,000+</td>\n",
       "      <td>Free</td>\n",
       "      <td>0</td>\n",
       "      <td>Everyone</td>\n",
       "      <td>Art &amp; Design;Pretend Play</td>\n",
       "      <td>January 15, 2018</td>\n",
       "      <td>2.0.0</td>\n",
       "      <td>4.0.3 and up</td>\n",
       "    </tr>\n",
       "    <tr>\n",
       "      <th>2</th>\n",
       "      <td>U Launcher Lite – FREE Live Cool Themes, Hide ...</td>\n",
       "      <td>ART_AND_DESIGN</td>\n",
       "      <td>4.7</td>\n",
       "      <td>87510</td>\n",
       "      <td>8.7M</td>\n",
       "      <td>5,000,000+</td>\n",
       "      <td>Free</td>\n",
       "      <td>0</td>\n",
       "      <td>Everyone</td>\n",
       "      <td>Art &amp; Design</td>\n",
       "      <td>August 1, 2018</td>\n",
       "      <td>1.2.4</td>\n",
       "      <td>4.0.3 and up</td>\n",
       "    </tr>\n",
       "    <tr>\n",
       "      <th>3</th>\n",
       "      <td>Sketch - Draw &amp; Paint</td>\n",
       "      <td>ART_AND_DESIGN</td>\n",
       "      <td>4.5</td>\n",
       "      <td>215644</td>\n",
       "      <td>25M</td>\n",
       "      <td>50,000,000+</td>\n",
       "      <td>Free</td>\n",
       "      <td>0</td>\n",
       "      <td>Teen</td>\n",
       "      <td>Art &amp; Design</td>\n",
       "      <td>June 8, 2018</td>\n",
       "      <td>Varies with device</td>\n",
       "      <td>4.2 and up</td>\n",
       "    </tr>\n",
       "    <tr>\n",
       "      <th>4</th>\n",
       "      <td>Pixel Draw - Number Art Coloring Book</td>\n",
       "      <td>ART_AND_DESIGN</td>\n",
       "      <td>4.3</td>\n",
       "      <td>967</td>\n",
       "      <td>2.8M</td>\n",
       "      <td>100,000+</td>\n",
       "      <td>Free</td>\n",
       "      <td>0</td>\n",
       "      <td>Everyone</td>\n",
       "      <td>Art &amp; Design;Creativity</td>\n",
       "      <td>June 20, 2018</td>\n",
       "      <td>1.1</td>\n",
       "      <td>4.4 and up</td>\n",
       "    </tr>\n",
       "  </tbody>\n",
       "</table>\n",
       "</div>"
      ],
      "text/plain": [
       "                                                 App        Category  Rating  \\\n",
       "0     Photo Editor & Candy Camera & Grid & ScrapBook  ART_AND_DESIGN     4.1   \n",
       "1                                Coloring book moana  ART_AND_DESIGN     3.9   \n",
       "2  U Launcher Lite – FREE Live Cool Themes, Hide ...  ART_AND_DESIGN     4.7   \n",
       "3                              Sketch - Draw & Paint  ART_AND_DESIGN     4.5   \n",
       "4              Pixel Draw - Number Art Coloring Book  ART_AND_DESIGN     4.3   \n",
       "\n",
       "  Reviews  Size     Installs  Type Price Content Rating  \\\n",
       "0     159   19M      10,000+  Free     0       Everyone   \n",
       "1     967   14M     500,000+  Free     0       Everyone   \n",
       "2   87510  8.7M   5,000,000+  Free     0       Everyone   \n",
       "3  215644   25M  50,000,000+  Free     0           Teen   \n",
       "4     967  2.8M     100,000+  Free     0       Everyone   \n",
       "\n",
       "                      Genres      Last Updated         Current Ver  \\\n",
       "0               Art & Design   January 7, 2018               1.0.0   \n",
       "1  Art & Design;Pretend Play  January 15, 2018               2.0.0   \n",
       "2               Art & Design    August 1, 2018               1.2.4   \n",
       "3               Art & Design      June 8, 2018  Varies with device   \n",
       "4    Art & Design;Creativity     June 20, 2018                 1.1   \n",
       "\n",
       "    Android Ver  \n",
       "0  4.0.3 and up  \n",
       "1  4.0.3 and up  \n",
       "2  4.0.3 and up  \n",
       "3    4.2 and up  \n",
       "4    4.4 and up  "
      ]
     },
     "execution_count": 37,
     "metadata": {},
     "output_type": "execute_result"
    }
   ],
   "source": [
    "df.head()"
   ]
  },
  {
   "cell_type": "code",
   "execution_count": 38,
   "id": "34a208c1",
   "metadata": {},
   "outputs": [
    {
     "data": {
      "text/plain": [
       "array(['Everyone', 'Teen', 'Everyone 10+', 'Mature 17+',\n",
       "       'Adults only 18+', 'Unrated', nan], dtype=object)"
      ]
     },
     "execution_count": 38,
     "metadata": {},
     "output_type": "execute_result"
    }
   ],
   "source": [
    "df[\"Content Rating\"].unique()"
   ]
  },
  {
   "cell_type": "code",
   "execution_count": 39,
   "id": "1b30a519",
   "metadata": {},
   "outputs": [
    {
     "data": {
      "text/plain": [
       "Everyone           8714\n",
       "Teen               1208\n",
       "Mature 17+          499\n",
       "Everyone 10+        414\n",
       "Adults only 18+       3\n",
       "Unrated               2\n",
       "Name: Content Rating, dtype: int64"
      ]
     },
     "execution_count": 39,
     "metadata": {},
     "output_type": "execute_result"
    }
   ],
   "source": [
    "content_rating = df[\"Content Rating\"].value_counts()\n",
    "content_rating"
   ]
  },
  {
   "cell_type": "code",
   "execution_count": 40,
   "id": "be97cf21",
   "metadata": {},
   "outputs": [
    {
     "data": {
      "image/png": "[encoded data removed]",
      "text/plain": [
       "<Figure size 720x720 with 1 Axes>"
      ]
     },
     "metadata": {
      "needs_background": "light"
     },
     "output_type": "display_data"
    }
   ],
   "source": [
    "# lets check the distribution of content rating \n",
    "plt.figure(figsize=(10,10))\n",
    "content_rating.plot(kind = 'bar')\n",
    "plt.show()\n"
   ]
  },
  {
   "cell_type": "markdown",
   "id": "fef37a53",
   "metadata": {},
   "source": [
    "## We can pbserve that Majority of the apps have been made for Everyone."
   ]
  },
  {
   "cell_type": "code",
   "execution_count": 41,
   "id": "2b38e25e",
   "metadata": {},
   "outputs": [
    {
     "data": {
      "text/html": [
       "<div>\n",
       "<style scoped>\n",
       "    .dataframe tbody tr th:only-of-type {\n",
       "        vertical-align: middle;\n",
       "    }\n",
       "\n",
       "    .dataframe tbody tr th {\n",
       "        vertical-align: top;\n",
       "    }\n",
       "\n",
       "    .dataframe thead th {\n",
       "        text-align: right;\n",
       "    }\n",
       "</style>\n",
       "<table border=\"1\" class=\"dataframe\">\n",
       "  <thead>\n",
       "    <tr style=\"text-align: right;\">\n",
       "      <th></th>\n",
       "      <th>App</th>\n",
       "      <th>Category</th>\n",
       "      <th>Rating</th>\n",
       "      <th>Reviews</th>\n",
       "      <th>Size</th>\n",
       "      <th>Installs</th>\n",
       "      <th>Type</th>\n",
       "      <th>Price</th>\n",
       "      <th>Content Rating</th>\n",
       "      <th>Genres</th>\n",
       "      <th>Last Updated</th>\n",
       "      <th>Current Ver</th>\n",
       "      <th>Android Ver</th>\n",
       "    </tr>\n",
       "  </thead>\n",
       "  <tbody>\n",
       "    <tr>\n",
       "      <th>0</th>\n",
       "      <td>Photo Editor &amp; Candy Camera &amp; Grid &amp; ScrapBook</td>\n",
       "      <td>ART_AND_DESIGN</td>\n",
       "      <td>4.1</td>\n",
       "      <td>159</td>\n",
       "      <td>19M</td>\n",
       "      <td>10,000+</td>\n",
       "      <td>Free</td>\n",
       "      <td>0</td>\n",
       "      <td>Everyone</td>\n",
       "      <td>Art &amp; Design</td>\n",
       "      <td>January 7, 2018</td>\n",
       "      <td>1.0.0</td>\n",
       "      <td>4.0.3 and up</td>\n",
       "    </tr>\n",
       "    <tr>\n",
       "      <th>1</th>\n",
       "      <td>Coloring book moana</td>\n",
       "      <td>ART_AND_DESIGN</td>\n",
       "      <td>3.9</td>\n",
       "      <td>967</td>\n",
       "      <td>14M</td>\n",
       "      <td>500,000+</td>\n",
       "      <td>Free</td>\n",
       "      <td>0</td>\n",
       "      <td>Everyone</td>\n",
       "      <td>Art &amp; Design;Pretend Play</td>\n",
       "      <td>January 15, 2018</td>\n",
       "      <td>2.0.0</td>\n",
       "      <td>4.0.3 and up</td>\n",
       "    </tr>\n",
       "    <tr>\n",
       "      <th>2</th>\n",
       "      <td>U Launcher Lite – FREE Live Cool Themes, Hide ...</td>\n",
       "      <td>ART_AND_DESIGN</td>\n",
       "      <td>4.7</td>\n",
       "      <td>87510</td>\n",
       "      <td>8.7M</td>\n",
       "      <td>5,000,000+</td>\n",
       "      <td>Free</td>\n",
       "      <td>0</td>\n",
       "      <td>Everyone</td>\n",
       "      <td>Art &amp; Design</td>\n",
       "      <td>August 1, 2018</td>\n",
       "      <td>1.2.4</td>\n",
       "      <td>4.0.3 and up</td>\n",
       "    </tr>\n",
       "    <tr>\n",
       "      <th>3</th>\n",
       "      <td>Sketch - Draw &amp; Paint</td>\n",
       "      <td>ART_AND_DESIGN</td>\n",
       "      <td>4.5</td>\n",
       "      <td>215644</td>\n",
       "      <td>25M</td>\n",
       "      <td>50,000,000+</td>\n",
       "      <td>Free</td>\n",
       "      <td>0</td>\n",
       "      <td>Teen</td>\n",
       "      <td>Art &amp; Design</td>\n",
       "      <td>June 8, 2018</td>\n",
       "      <td>Varies with device</td>\n",
       "      <td>4.2 and up</td>\n",
       "    </tr>\n",
       "    <tr>\n",
       "      <th>4</th>\n",
       "      <td>Pixel Draw - Number Art Coloring Book</td>\n",
       "      <td>ART_AND_DESIGN</td>\n",
       "      <td>4.3</td>\n",
       "      <td>967</td>\n",
       "      <td>2.8M</td>\n",
       "      <td>100,000+</td>\n",
       "      <td>Free</td>\n",
       "      <td>0</td>\n",
       "      <td>Everyone</td>\n",
       "      <td>Art &amp; Design;Creativity</td>\n",
       "      <td>June 20, 2018</td>\n",
       "      <td>1.1</td>\n",
       "      <td>4.4 and up</td>\n",
       "    </tr>\n",
       "  </tbody>\n",
       "</table>\n",
       "</div>"
      ],
      "text/plain": [
       "                                                 App        Category  Rating  \\\n",
       "0     Photo Editor & Candy Camera & Grid & ScrapBook  ART_AND_DESIGN     4.1   \n",
       "1                                Coloring book moana  ART_AND_DESIGN     3.9   \n",
       "2  U Launcher Lite – FREE Live Cool Themes, Hide ...  ART_AND_DESIGN     4.7   \n",
       "3                              Sketch - Draw & Paint  ART_AND_DESIGN     4.5   \n",
       "4              Pixel Draw - Number Art Coloring Book  ART_AND_DESIGN     4.3   \n",
       "\n",
       "  Reviews  Size     Installs  Type Price Content Rating  \\\n",
       "0     159   19M      10,000+  Free     0       Everyone   \n",
       "1     967   14M     500,000+  Free     0       Everyone   \n",
       "2   87510  8.7M   5,000,000+  Free     0       Everyone   \n",
       "3  215644   25M  50,000,000+  Free     0           Teen   \n",
       "4     967  2.8M     100,000+  Free     0       Everyone   \n",
       "\n",
       "                      Genres      Last Updated         Current Ver  \\\n",
       "0               Art & Design   January 7, 2018               1.0.0   \n",
       "1  Art & Design;Pretend Play  January 15, 2018               2.0.0   \n",
       "2               Art & Design    August 1, 2018               1.2.4   \n",
       "3               Art & Design      June 8, 2018  Varies with device   \n",
       "4    Art & Design;Creativity     June 20, 2018                 1.1   \n",
       "\n",
       "    Android Ver  \n",
       "0  4.0.3 and up  \n",
       "1  4.0.3 and up  \n",
       "2  4.0.3 and up  \n",
       "3    4.2 and up  \n",
       "4    4.4 and up  "
      ]
     },
     "execution_count": 41,
     "metadata": {},
     "output_type": "execute_result"
    }
   ],
   "source": [
    "df.head()"
   ]
  },
  {
   "cell_type": "code",
   "execution_count": 42,
   "id": "3f8537c6",
   "metadata": {},
   "outputs": [
    {
     "data": {
      "text/plain": [
       "array(['Art & Design', 'Art & Design;Pretend Play',\n",
       "       'Art & Design;Creativity', 'Art & Design;Action & Adventure',\n",
       "       'Auto & Vehicles', 'Beauty', 'Books & Reference', 'Business',\n",
       "       'Comics', 'Comics;Creativity', 'Communication', 'Dating',\n",
       "       'Education;Education', 'Education', 'Education;Creativity',\n",
       "       'Education;Music & Video', 'Education;Action & Adventure',\n",
       "       'Education;Pretend Play', 'Education;Brain Games', 'Entertainment',\n",
       "       'Entertainment;Music & Video', 'Entertainment;Brain Games',\n",
       "       'Entertainment;Creativity', 'Events', 'Finance', 'Food & Drink',\n",
       "       'Health & Fitness', 'House & Home', 'Libraries & Demo',\n",
       "       'Lifestyle', 'Lifestyle;Pretend Play',\n",
       "       'Adventure;Action & Adventure', 'Arcade', 'Casual', 'Card',\n",
       "       'Casual;Pretend Play', 'Action', 'Strategy', 'Puzzle', 'Sports',\n",
       "       'Music', 'Word', 'Racing', 'Casual;Creativity',\n",
       "       'Casual;Action & Adventure', 'Simulation', 'Adventure', 'Board',\n",
       "       'Trivia', 'Role Playing', 'Simulation;Education',\n",
       "       'Action;Action & Adventure', 'Casual;Brain Games',\n",
       "       'Simulation;Action & Adventure', 'Educational;Creativity',\n",
       "       'Puzzle;Brain Games', 'Educational;Education', 'Card;Brain Games',\n",
       "       'Educational;Brain Games', 'Educational;Pretend Play',\n",
       "       'Entertainment;Education', 'Casual;Education',\n",
       "       'Music;Music & Video', 'Racing;Action & Adventure',\n",
       "       'Arcade;Pretend Play', 'Role Playing;Action & Adventure',\n",
       "       'Simulation;Pretend Play', 'Puzzle;Creativity',\n",
       "       'Sports;Action & Adventure', 'Educational;Action & Adventure',\n",
       "       'Arcade;Action & Adventure', 'Entertainment;Action & Adventure',\n",
       "       'Puzzle;Action & Adventure', 'Strategy;Action & Adventure',\n",
       "       'Music & Audio;Music & Video', 'Health & Fitness;Education',\n",
       "       'Adventure;Education', 'Board;Brain Games',\n",
       "       'Board;Action & Adventure', 'Board;Pretend Play',\n",
       "       'Casual;Music & Video', 'Role Playing;Pretend Play',\n",
       "       'Entertainment;Pretend Play', 'Video Players & Editors;Creativity',\n",
       "       'Card;Action & Adventure', 'Medical', 'Social', 'Shopping',\n",
       "       'Photography', 'Travel & Local',\n",
       "       'Travel & Local;Action & Adventure', 'Tools', 'Tools;Education',\n",
       "       'Personalization', 'Productivity', 'Parenting',\n",
       "       'Parenting;Music & Video', 'Parenting;Education',\n",
       "       'Parenting;Brain Games', 'Weather', 'Video Players & Editors',\n",
       "       'Video Players & Editors;Music & Video', 'News & Magazines',\n",
       "       'Maps & Navigation', 'Health & Fitness;Action & Adventure',\n",
       "       'Educational', 'Casino', 'Adventure;Brain Games',\n",
       "       'Trivia;Education', 'Lifestyle;Education',\n",
       "       'Books & Reference;Creativity', 'Books & Reference;Education',\n",
       "       'Puzzle;Education', 'Role Playing;Education',\n",
       "       'Role Playing;Brain Games', 'Strategy;Education',\n",
       "       'Racing;Pretend Play', 'Communication;Creativity',\n",
       "       'February 11, 2018', 'Strategy;Creativity'], dtype=object)"
      ]
     },
     "execution_count": 42,
     "metadata": {},
     "output_type": "execute_result"
    }
   ],
   "source": [
    "genres = df[\"Genres\"].unique()\n",
    "genres"
   ]
  },
  {
   "cell_type": "code",
   "execution_count": 43,
   "id": "a87185be",
   "metadata": {},
   "outputs": [
    {
     "data": {
      "text/plain": [
       "120"
      ]
     },
     "execution_count": 43,
     "metadata": {},
     "output_type": "execute_result"
    }
   ],
   "source": [
    "len(genres)"
   ]
  },
  {
   "cell_type": "code",
   "execution_count": 44,
   "id": "65c9a751",
   "metadata": {},
   "outputs": [
    {
     "data": {
      "text/plain": [
       "Tools                     842\n",
       "Entertainment             623\n",
       "Education                 549\n",
       "Medical                   463\n",
       "Business                  460\n",
       "                         ... \n",
       "Arcade;Pretend Play         1\n",
       "Card;Brain Games            1\n",
       "Lifestyle;Pretend Play      1\n",
       "Comics;Creativity           1\n",
       "Strategy;Creativity         1\n",
       "Name: Genres, Length: 120, dtype: int64"
      ]
     },
     "execution_count": 44,
     "metadata": {},
     "output_type": "execute_result"
    }
   ],
   "source": [
    "genre_count = df[\"Genres\"].value_counts()\n",
    "genre_count"
   ]
  },
  {
   "cell_type": "markdown",
   "id": "aa6c1af6",
   "metadata": {},
   "source": [
    "## Lets count only the value counts more than 300"
   ]
  },
  {
   "cell_type": "code",
   "execution_count": 45,
   "id": "bf1513fd",
   "metadata": {},
   "outputs": [
    {
     "data": {
      "text/plain": [
       "Tools                842\n",
       "Entertainment        623\n",
       "Education            549\n",
       "Medical              463\n",
       "Business             460\n",
       "Productivity         424\n",
       "Sports               398\n",
       "Personalization      392\n",
       "Communication        387\n",
       "Lifestyle            381\n",
       "Finance              366\n",
       "Action               365\n",
       "Health & Fitness     341\n",
       "Photography          335\n",
       "Social               295\n",
       "News & Magazines     283\n",
       "Shopping             260\n",
       "Travel & Local       257\n",
       "Dating               234\n",
       "Books & Reference    231\n",
       "Arcade               220\n",
       "Name: Genres, dtype: int64"
      ]
     },
     "execution_count": 45,
     "metadata": {},
     "output_type": "execute_result"
    }
   ],
   "source": [
    "filtered_genre = genre_count[genre_count >200]\n",
    "filtered_genre"
   ]
  },
  {
   "cell_type": "code",
   "execution_count": 46,
   "id": "61050d20",
   "metadata": {},
   "outputs": [
    {
     "data": {
      "image/png": "[encoded data removed]",
      "text/plain": [
       "<Figure size 504x504 with 1 Axes>"
      ]
     },
     "metadata": {
      "needs_background": "light"
     },
     "output_type": "display_data"
    }
   ],
   "source": [
    "plt.figure(figsize = (7,7))\n",
    "filtered_genre.plot(kind = 'bar')\n",
    "plt.xlabel(\"Genres\")\n",
    "plt.ylabel(\"Frequency\")\n",
    "plt.title(\"Genre Distribution\")\n",
    "plt.show()"
   ]
  },
  {
   "cell_type": "markdown",
   "id": "b7f892ed",
   "metadata": {},
   "source": [
    "## the highest frquency count for genres is for Tools, followed by Entertainment"
   ]
  },
  {
   "cell_type": "markdown",
   "id": "3df86664",
   "metadata": {},
   "source": [
    "## 2 Data cleansing and Exploratory data analysis: "
   ]
  },
  {
   "cell_type": "markdown",
   "id": "a81b6871",
   "metadata": {},
   "source": [
    "## The Goal is to predict the rating for an app based on the given input features like size, number of downloads etc."
   ]
  },
  {
   "cell_type": "markdown",
   "id": "1ebbd640",
   "metadata": {},
   "source": [
    "## 2.1 Check summary statistics of the dataset."
   ]
  },
  {
   "cell_type": "code",
   "execution_count": 47,
   "id": "27023311",
   "metadata": {},
   "outputs": [
    {
     "data": {
      "text/html": [
       "<div>\n",
       "<style scoped>\n",
       "    .dataframe tbody tr th:only-of-type {\n",
       "        vertical-align: middle;\n",
       "    }\n",
       "\n",
       "    .dataframe tbody tr th {\n",
       "        vertical-align: top;\n",
       "    }\n",
       "\n",
       "    .dataframe thead th {\n",
       "        text-align: right;\n",
       "    }\n",
       "</style>\n",
       "<table border=\"1\" class=\"dataframe\">\n",
       "  <thead>\n",
       "    <tr style=\"text-align: right;\">\n",
       "      <th></th>\n",
       "      <th>count</th>\n",
       "      <th>mean</th>\n",
       "      <th>std</th>\n",
       "      <th>min</th>\n",
       "      <th>25%</th>\n",
       "      <th>50%</th>\n",
       "      <th>75%</th>\n",
       "      <th>max</th>\n",
       "    </tr>\n",
       "  </thead>\n",
       "  <tbody>\n",
       "    <tr>\n",
       "      <th>Rating</th>\n",
       "      <td>9367.0</td>\n",
       "      <td>4.193338</td>\n",
       "      <td>0.537431</td>\n",
       "      <td>1.0</td>\n",
       "      <td>4.0</td>\n",
       "      <td>4.3</td>\n",
       "      <td>4.5</td>\n",
       "      <td>19.0</td>\n",
       "    </tr>\n",
       "  </tbody>\n",
       "</table>\n",
       "</div>"
      ],
      "text/plain": [
       "         count      mean       std  min  25%  50%  75%   max\n",
       "Rating  9367.0  4.193338  0.537431  1.0  4.0  4.3  4.5  19.0"
      ]
     },
     "execution_count": 47,
     "metadata": {},
     "output_type": "execute_result"
    }
   ],
   "source": [
    "## 2.1 Check summary statistics of the dataset.\n",
    "df.describe().transpose()"
   ]
  },
  {
   "cell_type": "code",
   "execution_count": 48,
   "id": "76f8b500",
   "metadata": {},
   "outputs": [
    {
     "data": {
      "text/plain": [
       "Index(['App', 'Category', 'Rating', 'Reviews', 'Size', 'Installs', 'Type',\n",
       "       'Price', 'Content Rating', 'Genres', 'Last Updated', 'Current Ver',\n",
       "       'Android Ver'],\n",
       "      dtype='object')"
      ]
     },
     "execution_count": 48,
     "metadata": {},
     "output_type": "execute_result"
    }
   ],
   "source": [
    "df.columns"
   ]
  },
  {
   "cell_type": "code",
   "execution_count": 49,
   "id": "f57fa00c",
   "metadata": {},
   "outputs": [
    {
     "data": {
      "text/html": [
       "<div>\n",
       "<style scoped>\n",
       "    .dataframe tbody tr th:only-of-type {\n",
       "        vertical-align: middle;\n",
       "    }\n",
       "\n",
       "    .dataframe tbody tr th {\n",
       "        vertical-align: top;\n",
       "    }\n",
       "\n",
       "    .dataframe thead th {\n",
       "        text-align: right;\n",
       "    }\n",
       "</style>\n",
       "<table border=\"1\" class=\"dataframe\">\n",
       "  <thead>\n",
       "    <tr style=\"text-align: right;\">\n",
       "      <th></th>\n",
       "      <th>App</th>\n",
       "      <th>Category</th>\n",
       "      <th>Rating</th>\n",
       "      <th>Reviews</th>\n",
       "      <th>Size</th>\n",
       "      <th>Installs</th>\n",
       "      <th>Type</th>\n",
       "      <th>Price</th>\n",
       "      <th>Content Rating</th>\n",
       "      <th>Genres</th>\n",
       "      <th>Last Updated</th>\n",
       "      <th>Current Ver</th>\n",
       "      <th>Android Ver</th>\n",
       "    </tr>\n",
       "  </thead>\n",
       "  <tbody>\n",
       "    <tr>\n",
       "      <th>0</th>\n",
       "      <td>Photo Editor &amp; Candy Camera &amp; Grid &amp; ScrapBook</td>\n",
       "      <td>ART_AND_DESIGN</td>\n",
       "      <td>4.1</td>\n",
       "      <td>159</td>\n",
       "      <td>19M</td>\n",
       "      <td>10,000+</td>\n",
       "      <td>Free</td>\n",
       "      <td>0</td>\n",
       "      <td>Everyone</td>\n",
       "      <td>Art &amp; Design</td>\n",
       "      <td>January 7, 2018</td>\n",
       "      <td>1.0.0</td>\n",
       "      <td>4.0.3 and up</td>\n",
       "    </tr>\n",
       "    <tr>\n",
       "      <th>1</th>\n",
       "      <td>Coloring book moana</td>\n",
       "      <td>ART_AND_DESIGN</td>\n",
       "      <td>3.9</td>\n",
       "      <td>967</td>\n",
       "      <td>14M</td>\n",
       "      <td>500,000+</td>\n",
       "      <td>Free</td>\n",
       "      <td>0</td>\n",
       "      <td>Everyone</td>\n",
       "      <td>Art &amp; Design;Pretend Play</td>\n",
       "      <td>January 15, 2018</td>\n",
       "      <td>2.0.0</td>\n",
       "      <td>4.0.3 and up</td>\n",
       "    </tr>\n",
       "    <tr>\n",
       "      <th>2</th>\n",
       "      <td>U Launcher Lite – FREE Live Cool Themes, Hide ...</td>\n",
       "      <td>ART_AND_DESIGN</td>\n",
       "      <td>4.7</td>\n",
       "      <td>87510</td>\n",
       "      <td>8.7M</td>\n",
       "      <td>5,000,000+</td>\n",
       "      <td>Free</td>\n",
       "      <td>0</td>\n",
       "      <td>Everyone</td>\n",
       "      <td>Art &amp; Design</td>\n",
       "      <td>August 1, 2018</td>\n",
       "      <td>1.2.4</td>\n",
       "      <td>4.0.3 and up</td>\n",
       "    </tr>\n",
       "    <tr>\n",
       "      <th>3</th>\n",
       "      <td>Sketch - Draw &amp; Paint</td>\n",
       "      <td>ART_AND_DESIGN</td>\n",
       "      <td>4.5</td>\n",
       "      <td>215644</td>\n",
       "      <td>25M</td>\n",
       "      <td>50,000,000+</td>\n",
       "      <td>Free</td>\n",
       "      <td>0</td>\n",
       "      <td>Teen</td>\n",
       "      <td>Art &amp; Design</td>\n",
       "      <td>June 8, 2018</td>\n",
       "      <td>Varies with device</td>\n",
       "      <td>4.2 and up</td>\n",
       "    </tr>\n",
       "    <tr>\n",
       "      <th>4</th>\n",
       "      <td>Pixel Draw - Number Art Coloring Book</td>\n",
       "      <td>ART_AND_DESIGN</td>\n",
       "      <td>4.3</td>\n",
       "      <td>967</td>\n",
       "      <td>2.8M</td>\n",
       "      <td>100,000+</td>\n",
       "      <td>Free</td>\n",
       "      <td>0</td>\n",
       "      <td>Everyone</td>\n",
       "      <td>Art &amp; Design;Creativity</td>\n",
       "      <td>June 20, 2018</td>\n",
       "      <td>1.1</td>\n",
       "      <td>4.4 and up</td>\n",
       "    </tr>\n",
       "  </tbody>\n",
       "</table>\n",
       "</div>"
      ],
      "text/plain": [
       "                                                 App        Category  Rating  \\\n",
       "0     Photo Editor & Candy Camera & Grid & ScrapBook  ART_AND_DESIGN     4.1   \n",
       "1                                Coloring book moana  ART_AND_DESIGN     3.9   \n",
       "2  U Launcher Lite – FREE Live Cool Themes, Hide ...  ART_AND_DESIGN     4.7   \n",
       "3                              Sketch - Draw & Paint  ART_AND_DESIGN     4.5   \n",
       "4              Pixel Draw - Number Art Coloring Book  ART_AND_DESIGN     4.3   \n",
       "\n",
       "  Reviews  Size     Installs  Type Price Content Rating  \\\n",
       "0     159   19M      10,000+  Free     0       Everyone   \n",
       "1     967   14M     500,000+  Free     0       Everyone   \n",
       "2   87510  8.7M   5,000,000+  Free     0       Everyone   \n",
       "3  215644   25M  50,000,000+  Free     0           Teen   \n",
       "4     967  2.8M     100,000+  Free     0       Everyone   \n",
       "\n",
       "                      Genres      Last Updated         Current Ver  \\\n",
       "0               Art & Design   January 7, 2018               1.0.0   \n",
       "1  Art & Design;Pretend Play  January 15, 2018               2.0.0   \n",
       "2               Art & Design    August 1, 2018               1.2.4   \n",
       "3               Art & Design      June 8, 2018  Varies with device   \n",
       "4    Art & Design;Creativity     June 20, 2018                 1.1   \n",
       "\n",
       "    Android Ver  \n",
       "0  4.0.3 and up  \n",
       "1  4.0.3 and up  \n",
       "2  4.0.3 and up  \n",
       "3    4.2 and up  \n",
       "4    4.4 and up  "
      ]
     },
     "execution_count": 49,
     "metadata": {},
     "output_type": "execute_result"
    }
   ],
   "source": [
    "df.head(5)"
   ]
  },
  {
   "cell_type": "code",
   "execution_count": 50,
   "id": "47cc1a49",
   "metadata": {},
   "outputs": [
    {
     "name": "stdout",
     "output_type": "stream",
     "text": [
      "<class 'pandas.core.frame.DataFrame'>\n",
      "RangeIndex: 10841 entries, 0 to 10840\n",
      "Data columns (total 13 columns):\n",
      " #   Column          Non-Null Count  Dtype  \n",
      "---  ------          --------------  -----  \n",
      " 0   App             10841 non-null  object \n",
      " 1   Category        10841 non-null  object \n",
      " 2   Rating          9367 non-null   float64\n",
      " 3   Reviews         10841 non-null  object \n",
      " 4   Size            10841 non-null  object \n",
      " 5   Installs        10841 non-null  object \n",
      " 6   Type            10840 non-null  object \n",
      " 7   Price           10841 non-null  object \n",
      " 8   Content Rating  10840 non-null  object \n",
      " 9   Genres          10841 non-null  object \n",
      " 10  Last Updated    10841 non-null  object \n",
      " 11  Current Ver     10833 non-null  object \n",
      " 12  Android Ver     10838 non-null  object \n",
      "dtypes: float64(1), object(12)\n",
      "memory usage: 1.1+ MB\n"
     ]
    }
   ],
   "source": [
    "df.info()"
   ]
  },
  {
   "cell_type": "markdown",
   "id": "514365c6",
   "metadata": {},
   "source": [
    "## List of features that are relevant for building a model:\n",
    " Category, Rating, Reviews, Size, Installs , Type, Content Rating, Genres. \n",
    " We will also see if Current version and Android version important for out prediction"
   ]
  },
  {
   "cell_type": "markdown",
   "id": "864748d7",
   "metadata": {},
   "source": [
    "## 2.2 Duplcaates"
   ]
  },
  {
   "cell_type": "code",
   "execution_count": 51,
   "id": "3fb7de4f",
   "metadata": {},
   "outputs": [
    {
     "data": {
      "text/plain": [
       "False    10358\n",
       "True       483\n",
       "dtype: int64"
      ]
     },
     "execution_count": 51,
     "metadata": {},
     "output_type": "execute_result"
    }
   ],
   "source": [
    "df.duplicated().value_counts()"
   ]
  },
  {
   "cell_type": "code",
   "execution_count": 52,
   "id": "43ff826e",
   "metadata": {},
   "outputs": [],
   "source": [
    "df = df.drop_duplicates()"
   ]
  },
  {
   "cell_type": "code",
   "execution_count": 53,
   "id": "4ba7a7af",
   "metadata": {},
   "outputs": [
    {
     "data": {
      "text/plain": [
       "(10358, 13)"
      ]
     },
     "execution_count": 53,
     "metadata": {},
     "output_type": "execute_result"
    }
   ],
   "source": [
    "df.shape"
   ]
  },
  {
   "cell_type": "markdown",
   "id": "fc18e7c7",
   "metadata": {},
   "source": [
    "## 2.3 Check the unique categories of the column 'Category', Is there are any invalid category? If yes drop them."
   ]
  },
  {
   "cell_type": "code",
   "execution_count": 54,
   "id": "7416c75c",
   "metadata": {},
   "outputs": [
    {
     "data": {
      "text/plain": [
       "array(['ART_AND_DESIGN', 'AUTO_AND_VEHICLES', 'BEAUTY',\n",
       "       'BOOKS_AND_REFERENCE', 'BUSINESS', 'COMICS', 'COMMUNICATION',\n",
       "       'DATING', 'EDUCATION', 'ENTERTAINMENT', 'EVENTS', 'FINANCE',\n",
       "       'FOOD_AND_DRINK', 'HEALTH_AND_FITNESS', 'HOUSE_AND_HOME',\n",
       "       'LIBRARIES_AND_DEMO', 'LIFESTYLE', 'GAME', 'FAMILY', 'MEDICAL',\n",
       "       'SOCIAL', 'SHOPPING', 'PHOTOGRAPHY', 'SPORTS', 'TRAVEL_AND_LOCAL',\n",
       "       'TOOLS', 'PERSONALIZATION', 'PRODUCTIVITY', 'PARENTING', 'WEATHER',\n",
       "       'VIDEO_PLAYERS', 'NEWS_AND_MAGAZINES', 'MAPS_AND_NAVIGATION',\n",
       "       '1.9'], dtype=object)"
      ]
     },
     "execution_count": 54,
     "metadata": {},
     "output_type": "execute_result"
    }
   ],
   "source": [
    "df[\"Category\"].unique()"
   ]
  },
  {
   "cell_type": "code",
   "execution_count": 55,
   "id": "2f9b4c7e",
   "metadata": {},
   "outputs": [
    {
     "data": {
      "text/plain": [
       "FAMILY                 1943\n",
       "GAME                   1121\n",
       "TOOLS                   843\n",
       "BUSINESS                427\n",
       "MEDICAL                 408\n",
       "PRODUCTIVITY            407\n",
       "PERSONALIZATION         388\n",
       "LIFESTYLE               373\n",
       "COMMUNICATION           366\n",
       "FINANCE                 360\n",
       "SPORTS                  351\n",
       "PHOTOGRAPHY             322\n",
       "HEALTH_AND_FITNESS      306\n",
       "SOCIAL                  280\n",
       "NEWS_AND_MAGAZINES      264\n",
       "TRAVEL_AND_LOCAL        237\n",
       "BOOKS_AND_REFERENCE     230\n",
       "SHOPPING                224\n",
       "DATING                  196\n",
       "VIDEO_PLAYERS           175\n",
       "MAPS_AND_NAVIGATION     137\n",
       "EDUCATION               130\n",
       "FOOD_AND_DRINK          124\n",
       "ENTERTAINMENT           111\n",
       "AUTO_AND_VEHICLES        85\n",
       "LIBRARIES_AND_DEMO       85\n",
       "WEATHER                  82\n",
       "HOUSE_AND_HOME           80\n",
       "ART_AND_DESIGN           65\n",
       "EVENTS                   64\n",
       "PARENTING                60\n",
       "COMICS                   60\n",
       "BEAUTY                   53\n",
       "1.9                       1\n",
       "Name: Category, dtype: int64"
      ]
     },
     "execution_count": 55,
     "metadata": {},
     "output_type": "execute_result"
    }
   ],
   "source": [
    "df[\"Category\"].value_counts()"
   ]
  },
  {
   "cell_type": "markdown",
   "id": "c8275c53",
   "metadata": {},
   "source": [
    "There are no invalid categories as such, but later we will set a threshold value for categories with less count"
   ]
  },
  {
   "cell_type": "markdown",
   "id": "e0ca18bc",
   "metadata": {},
   "source": [
    "## 2.4 Check if there are missing values present in the column Rating, If any? drop them and Convert ratings to high and low categories(>3.5 is high rest low) and store it in a new column ‘Rating_category’."
   ]
  },
  {
   "cell_type": "code",
   "execution_count": 56,
   "id": "46e1a9ec",
   "metadata": {},
   "outputs": [],
   "source": [
    "Rating_null_values = df[\"Rating\"].isnull().sum()"
   ]
  },
  {
   "cell_type": "code",
   "execution_count": 57,
   "id": "5df30b8d",
   "metadata": {},
   "outputs": [
    {
     "data": {
      "text/plain": [
       "1465"
      ]
     },
     "execution_count": 57,
     "metadata": {},
     "output_type": "execute_result"
    }
   ],
   "source": [
    "Rating_null_values "
   ]
  },
  {
   "cell_type": "code",
   "execution_count": 58,
   "id": "5dc91ca3",
   "metadata": {},
   "outputs": [
    {
     "data": {
      "text/plain": [
       "(10358, 13)"
      ]
     },
     "execution_count": 58,
     "metadata": {},
     "output_type": "execute_result"
    }
   ],
   "source": [
    "df.shape"
   ]
  },
  {
   "cell_type": "code",
   "execution_count": 59,
   "id": "5eb038d7",
   "metadata": {},
   "outputs": [],
   "source": [
    "df.dropna(axis = 0, inplace=True)"
   ]
  },
  {
   "cell_type": "code",
   "execution_count": 60,
   "id": "54bf41c7",
   "metadata": {},
   "outputs": [
    {
     "data": {
      "text/plain": [
       "(8886, 13)"
      ]
     },
     "execution_count": 60,
     "metadata": {},
     "output_type": "execute_result"
    }
   ],
   "source": [
    "df.shape"
   ]
  },
  {
   "cell_type": "markdown",
   "id": "96d9cb78",
   "metadata": {},
   "source": [
    "# changing rating into high and low categories (rating > threshold = High, rest all = low)\n"
   ]
  },
  {
   "cell_type": "code",
   "execution_count": 61,
   "id": "84196bfb",
   "metadata": {},
   "outputs": [],
   "source": [
    "# setting up threshold value\n",
    "threshold = 3.5\n",
    "\n",
    "# creating a new column for Rating_category\n",
    "df[\"Rating_category\"] = np.where(df[\"Rating\"]> threshold, 'High','Low')"
   ]
  },
  {
   "cell_type": "code",
   "execution_count": 62,
   "id": "bcce2240",
   "metadata": {},
   "outputs": [
    {
     "data": {
      "text/html": [
       "<div>\n",
       "<style scoped>\n",
       "    .dataframe tbody tr th:only-of-type {\n",
       "        vertical-align: middle;\n",
       "    }\n",
       "\n",
       "    .dataframe tbody tr th {\n",
       "        vertical-align: top;\n",
       "    }\n",
       "\n",
       "    .dataframe thead th {\n",
       "        text-align: right;\n",
       "    }\n",
       "</style>\n",
       "<table border=\"1\" class=\"dataframe\">\n",
       "  <thead>\n",
       "    <tr style=\"text-align: right;\">\n",
       "      <th></th>\n",
       "      <th>App</th>\n",
       "      <th>Category</th>\n",
       "      <th>Rating</th>\n",
       "      <th>Reviews</th>\n",
       "      <th>Size</th>\n",
       "      <th>Installs</th>\n",
       "      <th>Type</th>\n",
       "      <th>Price</th>\n",
       "      <th>Content Rating</th>\n",
       "      <th>Genres</th>\n",
       "      <th>Last Updated</th>\n",
       "      <th>Current Ver</th>\n",
       "      <th>Android Ver</th>\n",
       "      <th>Rating_category</th>\n",
       "    </tr>\n",
       "  </thead>\n",
       "  <tbody>\n",
       "    <tr>\n",
       "      <th>0</th>\n",
       "      <td>Photo Editor &amp; Candy Camera &amp; Grid &amp; ScrapBook</td>\n",
       "      <td>ART_AND_DESIGN</td>\n",
       "      <td>4.1</td>\n",
       "      <td>159</td>\n",
       "      <td>19M</td>\n",
       "      <td>10,000+</td>\n",
       "      <td>Free</td>\n",
       "      <td>0</td>\n",
       "      <td>Everyone</td>\n",
       "      <td>Art &amp; Design</td>\n",
       "      <td>January 7, 2018</td>\n",
       "      <td>1.0.0</td>\n",
       "      <td>4.0.3 and up</td>\n",
       "      <td>High</td>\n",
       "    </tr>\n",
       "    <tr>\n",
       "      <th>1</th>\n",
       "      <td>Coloring book moana</td>\n",
       "      <td>ART_AND_DESIGN</td>\n",
       "      <td>3.9</td>\n",
       "      <td>967</td>\n",
       "      <td>14M</td>\n",
       "      <td>500,000+</td>\n",
       "      <td>Free</td>\n",
       "      <td>0</td>\n",
       "      <td>Everyone</td>\n",
       "      <td>Art &amp; Design;Pretend Play</td>\n",
       "      <td>January 15, 2018</td>\n",
       "      <td>2.0.0</td>\n",
       "      <td>4.0.3 and up</td>\n",
       "      <td>High</td>\n",
       "    </tr>\n",
       "    <tr>\n",
       "      <th>2</th>\n",
       "      <td>U Launcher Lite – FREE Live Cool Themes, Hide ...</td>\n",
       "      <td>ART_AND_DESIGN</td>\n",
       "      <td>4.7</td>\n",
       "      <td>87510</td>\n",
       "      <td>8.7M</td>\n",
       "      <td>5,000,000+</td>\n",
       "      <td>Free</td>\n",
       "      <td>0</td>\n",
       "      <td>Everyone</td>\n",
       "      <td>Art &amp; Design</td>\n",
       "      <td>August 1, 2018</td>\n",
       "      <td>1.2.4</td>\n",
       "      <td>4.0.3 and up</td>\n",
       "      <td>High</td>\n",
       "    </tr>\n",
       "    <tr>\n",
       "      <th>3</th>\n",
       "      <td>Sketch - Draw &amp; Paint</td>\n",
       "      <td>ART_AND_DESIGN</td>\n",
       "      <td>4.5</td>\n",
       "      <td>215644</td>\n",
       "      <td>25M</td>\n",
       "      <td>50,000,000+</td>\n",
       "      <td>Free</td>\n",
       "      <td>0</td>\n",
       "      <td>Teen</td>\n",
       "      <td>Art &amp; Design</td>\n",
       "      <td>June 8, 2018</td>\n",
       "      <td>Varies with device</td>\n",
       "      <td>4.2 and up</td>\n",
       "      <td>High</td>\n",
       "    </tr>\n",
       "    <tr>\n",
       "      <th>4</th>\n",
       "      <td>Pixel Draw - Number Art Coloring Book</td>\n",
       "      <td>ART_AND_DESIGN</td>\n",
       "      <td>4.3</td>\n",
       "      <td>967</td>\n",
       "      <td>2.8M</td>\n",
       "      <td>100,000+</td>\n",
       "      <td>Free</td>\n",
       "      <td>0</td>\n",
       "      <td>Everyone</td>\n",
       "      <td>Art &amp; Design;Creativity</td>\n",
       "      <td>June 20, 2018</td>\n",
       "      <td>1.1</td>\n",
       "      <td>4.4 and up</td>\n",
       "      <td>High</td>\n",
       "    </tr>\n",
       "    <tr>\n",
       "      <th>...</th>\n",
       "      <td>...</td>\n",
       "      <td>...</td>\n",
       "      <td>...</td>\n",
       "      <td>...</td>\n",
       "      <td>...</td>\n",
       "      <td>...</td>\n",
       "      <td>...</td>\n",
       "      <td>...</td>\n",
       "      <td>...</td>\n",
       "      <td>...</td>\n",
       "      <td>...</td>\n",
       "      <td>...</td>\n",
       "      <td>...</td>\n",
       "      <td>...</td>\n",
       "    </tr>\n",
       "    <tr>\n",
       "      <th>10834</th>\n",
       "      <td>FR Calculator</td>\n",
       "      <td>FAMILY</td>\n",
       "      <td>4.0</td>\n",
       "      <td>7</td>\n",
       "      <td>2.6M</td>\n",
       "      <td>500+</td>\n",
       "      <td>Free</td>\n",
       "      <td>0</td>\n",
       "      <td>Everyone</td>\n",
       "      <td>Education</td>\n",
       "      <td>June 18, 2017</td>\n",
       "      <td>1.0.0</td>\n",
       "      <td>4.1 and up</td>\n",
       "      <td>High</td>\n",
       "    </tr>\n",
       "    <tr>\n",
       "      <th>10836</th>\n",
       "      <td>Sya9a Maroc - FR</td>\n",
       "      <td>FAMILY</td>\n",
       "      <td>4.5</td>\n",
       "      <td>38</td>\n",
       "      <td>53M</td>\n",
       "      <td>5,000+</td>\n",
       "      <td>Free</td>\n",
       "      <td>0</td>\n",
       "      <td>Everyone</td>\n",
       "      <td>Education</td>\n",
       "      <td>July 25, 2017</td>\n",
       "      <td>1.48</td>\n",
       "      <td>4.1 and up</td>\n",
       "      <td>High</td>\n",
       "    </tr>\n",
       "    <tr>\n",
       "      <th>10837</th>\n",
       "      <td>Fr. Mike Schmitz Audio Teachings</td>\n",
       "      <td>FAMILY</td>\n",
       "      <td>5.0</td>\n",
       "      <td>4</td>\n",
       "      <td>3.6M</td>\n",
       "      <td>100+</td>\n",
       "      <td>Free</td>\n",
       "      <td>0</td>\n",
       "      <td>Everyone</td>\n",
       "      <td>Education</td>\n",
       "      <td>July 6, 2018</td>\n",
       "      <td>1.0</td>\n",
       "      <td>4.1 and up</td>\n",
       "      <td>High</td>\n",
       "    </tr>\n",
       "    <tr>\n",
       "      <th>10839</th>\n",
       "      <td>The SCP Foundation DB fr nn5n</td>\n",
       "      <td>BOOKS_AND_REFERENCE</td>\n",
       "      <td>4.5</td>\n",
       "      <td>114</td>\n",
       "      <td>Varies with device</td>\n",
       "      <td>1,000+</td>\n",
       "      <td>Free</td>\n",
       "      <td>0</td>\n",
       "      <td>Mature 17+</td>\n",
       "      <td>Books &amp; Reference</td>\n",
       "      <td>January 19, 2015</td>\n",
       "      <td>Varies with device</td>\n",
       "      <td>Varies with device</td>\n",
       "      <td>High</td>\n",
       "    </tr>\n",
       "    <tr>\n",
       "      <th>10840</th>\n",
       "      <td>iHoroscope - 2018 Daily Horoscope &amp; Astrology</td>\n",
       "      <td>LIFESTYLE</td>\n",
       "      <td>4.5</td>\n",
       "      <td>398307</td>\n",
       "      <td>19M</td>\n",
       "      <td>10,000,000+</td>\n",
       "      <td>Free</td>\n",
       "      <td>0</td>\n",
       "      <td>Everyone</td>\n",
       "      <td>Lifestyle</td>\n",
       "      <td>July 25, 2018</td>\n",
       "      <td>Varies with device</td>\n",
       "      <td>Varies with device</td>\n",
       "      <td>High</td>\n",
       "    </tr>\n",
       "  </tbody>\n",
       "</table>\n",
       "<p>8886 rows × 14 columns</p>\n",
       "</div>"
      ],
      "text/plain": [
       "                                                     App             Category  \\\n",
       "0         Photo Editor & Candy Camera & Grid & ScrapBook       ART_AND_DESIGN   \n",
       "1                                    Coloring book moana       ART_AND_DESIGN   \n",
       "2      U Launcher Lite – FREE Live Cool Themes, Hide ...       ART_AND_DESIGN   \n",
       "3                                  Sketch - Draw & Paint       ART_AND_DESIGN   \n",
       "4                  Pixel Draw - Number Art Coloring Book       ART_AND_DESIGN   \n",
       "...                                                  ...                  ...   \n",
       "10834                                      FR Calculator               FAMILY   \n",
       "10836                                   Sya9a Maroc - FR               FAMILY   \n",
       "10837                   Fr. Mike Schmitz Audio Teachings               FAMILY   \n",
       "10839                      The SCP Foundation DB fr nn5n  BOOKS_AND_REFERENCE   \n",
       "10840      iHoroscope - 2018 Daily Horoscope & Astrology            LIFESTYLE   \n",
       "\n",
       "       Rating Reviews                Size     Installs  Type Price  \\\n",
       "0         4.1     159                 19M      10,000+  Free     0   \n",
       "1         3.9     967                 14M     500,000+  Free     0   \n",
       "2         4.7   87510                8.7M   5,000,000+  Free     0   \n",
       "3         4.5  215644                 25M  50,000,000+  Free     0   \n",
       "4         4.3     967                2.8M     100,000+  Free     0   \n",
       "...       ...     ...                 ...          ...   ...   ...   \n",
       "10834     4.0       7                2.6M         500+  Free     0   \n",
       "10836     4.5      38                 53M       5,000+  Free     0   \n",
       "10837     5.0       4                3.6M         100+  Free     0   \n",
       "10839     4.5     114  Varies with device       1,000+  Free     0   \n",
       "10840     4.5  398307                 19M  10,000,000+  Free     0   \n",
       "\n",
       "      Content Rating                     Genres      Last Updated  \\\n",
       "0           Everyone               Art & Design   January 7, 2018   \n",
       "1           Everyone  Art & Design;Pretend Play  January 15, 2018   \n",
       "2           Everyone               Art & Design    August 1, 2018   \n",
       "3               Teen               Art & Design      June 8, 2018   \n",
       "4           Everyone    Art & Design;Creativity     June 20, 2018   \n",
       "...              ...                        ...               ...   \n",
       "10834       Everyone                  Education     June 18, 2017   \n",
       "10836       Everyone                  Education     July 25, 2017   \n",
       "10837       Everyone                  Education      July 6, 2018   \n",
       "10839     Mature 17+          Books & Reference  January 19, 2015   \n",
       "10840       Everyone                  Lifestyle     July 25, 2018   \n",
       "\n",
       "              Current Ver         Android Ver Rating_category  \n",
       "0                   1.0.0        4.0.3 and up            High  \n",
       "1                   2.0.0        4.0.3 and up            High  \n",
       "2                   1.2.4        4.0.3 and up            High  \n",
       "3      Varies with device          4.2 and up            High  \n",
       "4                     1.1          4.4 and up            High  \n",
       "...                   ...                 ...             ...  \n",
       "10834               1.0.0          4.1 and up            High  \n",
       "10836                1.48          4.1 and up            High  \n",
       "10837                 1.0          4.1 and up            High  \n",
       "10839  Varies with device  Varies with device            High  \n",
       "10840  Varies with device  Varies with device            High  \n",
       "\n",
       "[8886 rows x 14 columns]"
      ]
     },
     "execution_count": 62,
     "metadata": {},
     "output_type": "execute_result"
    }
   ],
   "source": [
    "(df)"
   ]
  },
  {
   "cell_type": "code",
   "execution_count": 63,
   "id": "7de6e642",
   "metadata": {},
   "outputs": [
    {
     "data": {
      "text/html": [
       "<div>\n",
       "<style scoped>\n",
       "    .dataframe tbody tr th:only-of-type {\n",
       "        vertical-align: middle;\n",
       "    }\n",
       "\n",
       "    .dataframe tbody tr th {\n",
       "        vertical-align: top;\n",
       "    }\n",
       "\n",
       "    .dataframe thead th {\n",
       "        text-align: right;\n",
       "    }\n",
       "</style>\n",
       "<table border=\"1\" class=\"dataframe\">\n",
       "  <thead>\n",
       "    <tr style=\"text-align: right;\">\n",
       "      <th></th>\n",
       "      <th>Rating</th>\n",
       "      <th>Rating_category</th>\n",
       "    </tr>\n",
       "  </thead>\n",
       "  <tbody>\n",
       "    <tr>\n",
       "      <th>0</th>\n",
       "      <td>4.1</td>\n",
       "      <td>High</td>\n",
       "    </tr>\n",
       "    <tr>\n",
       "      <th>1</th>\n",
       "      <td>3.9</td>\n",
       "      <td>High</td>\n",
       "    </tr>\n",
       "    <tr>\n",
       "      <th>2</th>\n",
       "      <td>4.7</td>\n",
       "      <td>High</td>\n",
       "    </tr>\n",
       "    <tr>\n",
       "      <th>3</th>\n",
       "      <td>4.5</td>\n",
       "      <td>High</td>\n",
       "    </tr>\n",
       "    <tr>\n",
       "      <th>4</th>\n",
       "      <td>4.3</td>\n",
       "      <td>High</td>\n",
       "    </tr>\n",
       "    <tr>\n",
       "      <th>...</th>\n",
       "      <td>...</td>\n",
       "      <td>...</td>\n",
       "    </tr>\n",
       "    <tr>\n",
       "      <th>10834</th>\n",
       "      <td>4.0</td>\n",
       "      <td>High</td>\n",
       "    </tr>\n",
       "    <tr>\n",
       "      <th>10836</th>\n",
       "      <td>4.5</td>\n",
       "      <td>High</td>\n",
       "    </tr>\n",
       "    <tr>\n",
       "      <th>10837</th>\n",
       "      <td>5.0</td>\n",
       "      <td>High</td>\n",
       "    </tr>\n",
       "    <tr>\n",
       "      <th>10839</th>\n",
       "      <td>4.5</td>\n",
       "      <td>High</td>\n",
       "    </tr>\n",
       "    <tr>\n",
       "      <th>10840</th>\n",
       "      <td>4.5</td>\n",
       "      <td>High</td>\n",
       "    </tr>\n",
       "  </tbody>\n",
       "</table>\n",
       "<p>8886 rows × 2 columns</p>\n",
       "</div>"
      ],
      "text/plain": [
       "       Rating Rating_category\n",
       "0         4.1            High\n",
       "1         3.9            High\n",
       "2         4.7            High\n",
       "3         4.5            High\n",
       "4         4.3            High\n",
       "...       ...             ...\n",
       "10834     4.0            High\n",
       "10836     4.5            High\n",
       "10837     5.0            High\n",
       "10839     4.5            High\n",
       "10840     4.5            High\n",
       "\n",
       "[8886 rows x 2 columns]"
      ]
     },
     "execution_count": 63,
     "metadata": {},
     "output_type": "execute_result"
    }
   ],
   "source": [
    "df.iloc[:, [2, 13]]"
   ]
  },
  {
   "cell_type": "markdown",
   "id": "414365bb",
   "metadata": {},
   "source": [
    "## 2.5 Check the distribution of the newly created column 'Rating_category' and comment on the distribution."
   ]
  },
  {
   "cell_type": "code",
   "execution_count": 64,
   "id": "e9beffe1",
   "metadata": {},
   "outputs": [
    {
     "data": {
      "text/plain": [
       "High    8007\n",
       "Low      879\n",
       "Name: Rating_category, dtype: int64"
      ]
     },
     "execution_count": 64,
     "metadata": {},
     "output_type": "execute_result"
    }
   ],
   "source": [
    "Rating_cat = df[\"Rating_category\"].value_counts()\n",
    "Rating_cat"
   ]
  },
  {
   "cell_type": "code",
   "execution_count": 65,
   "id": "7b4de739",
   "metadata": {},
   "outputs": [
    {
     "data": {
      "image/png": "[encoded data removed]",
      "text/plain": [
       "<Figure size 504x504 with 1 Axes>"
      ]
     },
     "metadata": {
      "needs_background": "light"
     },
     "output_type": "display_data"
    }
   ],
   "source": [
    "plt.figure(figsize =(7,7))\n",
    "Rating_cat.plot(kind = 'barh')\n",
    "plt.xlabel(\"Rating_category\")\n",
    "plt.ylabel(\"Frequency\")\n",
    "plt.title(\"Distribution of Rating Category\")\n",
    "plt.show()"
   ]
  },
  {
   "cell_type": "markdown",
   "id": "87660410",
   "metadata": {},
   "source": [
    "## 2.6 Convert the column \"Reviews\" to numeric datatype and check the presence of outliers in the column and handle the outliers using transformation approach."
   ]
  },
  {
   "cell_type": "code",
   "execution_count": 66,
   "id": "9fa3b1e6",
   "metadata": {},
   "outputs": [
    {
     "data": {
      "text/html": [
       "<div>\n",
       "<style scoped>\n",
       "    .dataframe tbody tr th:only-of-type {\n",
       "        vertical-align: middle;\n",
       "    }\n",
       "\n",
       "    .dataframe tbody tr th {\n",
       "        vertical-align: top;\n",
       "    }\n",
       "\n",
       "    .dataframe thead th {\n",
       "        text-align: right;\n",
       "    }\n",
       "</style>\n",
       "<table border=\"1\" class=\"dataframe\">\n",
       "  <thead>\n",
       "    <tr style=\"text-align: right;\">\n",
       "      <th></th>\n",
       "      <th>App</th>\n",
       "      <th>Category</th>\n",
       "      <th>Rating</th>\n",
       "      <th>Reviews</th>\n",
       "      <th>Size</th>\n",
       "      <th>Installs</th>\n",
       "      <th>Type</th>\n",
       "      <th>Price</th>\n",
       "      <th>Content Rating</th>\n",
       "      <th>Genres</th>\n",
       "      <th>Last Updated</th>\n",
       "      <th>Current Ver</th>\n",
       "      <th>Android Ver</th>\n",
       "      <th>Rating_category</th>\n",
       "    </tr>\n",
       "  </thead>\n",
       "  <tbody>\n",
       "    <tr>\n",
       "      <th>0</th>\n",
       "      <td>Photo Editor &amp; Candy Camera &amp; Grid &amp; ScrapBook</td>\n",
       "      <td>ART_AND_DESIGN</td>\n",
       "      <td>4.1</td>\n",
       "      <td>159</td>\n",
       "      <td>19M</td>\n",
       "      <td>10,000+</td>\n",
       "      <td>Free</td>\n",
       "      <td>0</td>\n",
       "      <td>Everyone</td>\n",
       "      <td>Art &amp; Design</td>\n",
       "      <td>January 7, 2018</td>\n",
       "      <td>1.0.0</td>\n",
       "      <td>4.0.3 and up</td>\n",
       "      <td>High</td>\n",
       "    </tr>\n",
       "    <tr>\n",
       "      <th>1</th>\n",
       "      <td>Coloring book moana</td>\n",
       "      <td>ART_AND_DESIGN</td>\n",
       "      <td>3.9</td>\n",
       "      <td>967</td>\n",
       "      <td>14M</td>\n",
       "      <td>500,000+</td>\n",
       "      <td>Free</td>\n",
       "      <td>0</td>\n",
       "      <td>Everyone</td>\n",
       "      <td>Art &amp; Design;Pretend Play</td>\n",
       "      <td>January 15, 2018</td>\n",
       "      <td>2.0.0</td>\n",
       "      <td>4.0.3 and up</td>\n",
       "      <td>High</td>\n",
       "    </tr>\n",
       "    <tr>\n",
       "      <th>2</th>\n",
       "      <td>U Launcher Lite – FREE Live Cool Themes, Hide ...</td>\n",
       "      <td>ART_AND_DESIGN</td>\n",
       "      <td>4.7</td>\n",
       "      <td>87510</td>\n",
       "      <td>8.7M</td>\n",
       "      <td>5,000,000+</td>\n",
       "      <td>Free</td>\n",
       "      <td>0</td>\n",
       "      <td>Everyone</td>\n",
       "      <td>Art &amp; Design</td>\n",
       "      <td>August 1, 2018</td>\n",
       "      <td>1.2.4</td>\n",
       "      <td>4.0.3 and up</td>\n",
       "      <td>High</td>\n",
       "    </tr>\n",
       "    <tr>\n",
       "      <th>3</th>\n",
       "      <td>Sketch - Draw &amp; Paint</td>\n",
       "      <td>ART_AND_DESIGN</td>\n",
       "      <td>4.5</td>\n",
       "      <td>215644</td>\n",
       "      <td>25M</td>\n",
       "      <td>50,000,000+</td>\n",
       "      <td>Free</td>\n",
       "      <td>0</td>\n",
       "      <td>Teen</td>\n",
       "      <td>Art &amp; Design</td>\n",
       "      <td>June 8, 2018</td>\n",
       "      <td>Varies with device</td>\n",
       "      <td>4.2 and up</td>\n",
       "      <td>High</td>\n",
       "    </tr>\n",
       "  </tbody>\n",
       "</table>\n",
       "</div>"
      ],
      "text/plain": [
       "                                                 App        Category  Rating  \\\n",
       "0     Photo Editor & Candy Camera & Grid & ScrapBook  ART_AND_DESIGN     4.1   \n",
       "1                                Coloring book moana  ART_AND_DESIGN     3.9   \n",
       "2  U Launcher Lite – FREE Live Cool Themes, Hide ...  ART_AND_DESIGN     4.7   \n",
       "3                              Sketch - Draw & Paint  ART_AND_DESIGN     4.5   \n",
       "\n",
       "  Reviews  Size     Installs  Type Price Content Rating  \\\n",
       "0     159   19M      10,000+  Free     0       Everyone   \n",
       "1     967   14M     500,000+  Free     0       Everyone   \n",
       "2   87510  8.7M   5,000,000+  Free     0       Everyone   \n",
       "3  215644   25M  50,000,000+  Free     0           Teen   \n",
       "\n",
       "                      Genres      Last Updated         Current Ver  \\\n",
       "0               Art & Design   January 7, 2018               1.0.0   \n",
       "1  Art & Design;Pretend Play  January 15, 2018               2.0.0   \n",
       "2               Art & Design    August 1, 2018               1.2.4   \n",
       "3               Art & Design      June 8, 2018  Varies with device   \n",
       "\n",
       "    Android Ver Rating_category  \n",
       "0  4.0.3 and up            High  \n",
       "1  4.0.3 and up            High  \n",
       "2  4.0.3 and up            High  \n",
       "3    4.2 and up            High  "
      ]
     },
     "execution_count": 66,
     "metadata": {},
     "output_type": "execute_result"
    }
   ],
   "source": [
    "df.head(4)"
   ]
  },
  {
   "cell_type": "code",
   "execution_count": 67,
   "id": "00a10bdb",
   "metadata": {},
   "outputs": [],
   "source": [
    "# converting the column reviews to numeric data type \n",
    "df[\"Reviews\"] = df[\"Reviews\"].astype('int')"
   ]
  },
  {
   "cell_type": "code",
   "execution_count": 68,
   "id": "9dc130b9",
   "metadata": {},
   "outputs": [
    {
     "data": {
      "text/plain": [
       "dtype('int64')"
      ]
     },
     "execution_count": 68,
     "metadata": {},
     "output_type": "execute_result"
    }
   ],
   "source": [
    "df[\"Reviews\"].dtype"
   ]
  },
  {
   "cell_type": "markdown",
   "id": "29e76df1",
   "metadata": {},
   "source": [
    "the data type of the column has been changed from object to int type."
   ]
  },
  {
   "cell_type": "markdown",
   "id": "35041a37",
   "metadata": {},
   "source": [
    "Checkin outliers and handling them using transformation approach"
   ]
  },
  {
   "cell_type": "code",
   "execution_count": 69,
   "id": "b2fed557",
   "metadata": {},
   "outputs": [
    {
     "name": "stdout",
     "output_type": "stream",
     "text": [
      "Outliers:                                                 App           Category  \\\n",
      "3                              Sketch - Draw & Paint     ART_AND_DESIGN   \n",
      "18                     FlipaClip - Cartoon animation     ART_AND_DESIGN   \n",
      "19                                      ibis Paint X     ART_AND_DESIGN   \n",
      "42                        Textgram - write on photos     ART_AND_DESIGN   \n",
      "72     Android Auto - Maps, Media, Messaging & Voice  AUTO_AND_VEHICLES   \n",
      "...                                              ...                ...   \n",
      "10740                                     PhotoFunia        PHOTOGRAPHY   \n",
      "10781                           Modern Strike Online               GAME   \n",
      "10784                                     Big Hunter               GAME   \n",
      "10809          Castle Clash: RPG War and Strategy FR             FAMILY   \n",
      "10840  iHoroscope - 2018 Daily Horoscope & Astrology          LIFESTYLE   \n",
      "\n",
      "       Rating  Reviews                Size     Installs  Type Price  \\\n",
      "3         4.5   215644                 25M  50,000,000+  Free     0   \n",
      "18        4.3   194216                 39M   5,000,000+  Free     0   \n",
      "19        4.6   224399                 31M  10,000,000+  Free     0   \n",
      "42        4.4   295221  Varies with device  10,000,000+  Free     0   \n",
      "72        4.2   271920                 16M  10,000,000+  Free     0   \n",
      "...       ...      ...                 ...          ...   ...   ...   \n",
      "10740     4.3   316378                4.4M  10,000,000+  Free     0   \n",
      "10781     4.3   834117                 44M  10,000,000+  Free     0   \n",
      "10784     4.3   245455                 84M  10,000,000+  Free     0   \n",
      "10809     4.7   376223                 24M   1,000,000+  Free     0   \n",
      "10840     4.5   398307                 19M  10,000,000+  Free     0   \n",
      "\n",
      "      Content Rating           Genres    Last Updated         Current Ver  \\\n",
      "3               Teen     Art & Design    June 8, 2018  Varies with device   \n",
      "18          Everyone     Art & Design  August 3, 2018               2.2.5   \n",
      "19          Everyone     Art & Design   July 30, 2018               5.5.4   \n",
      "42          Everyone     Art & Design   July 30, 2018  Varies with device   \n",
      "72              Teen  Auto & Vehicles   July 11, 2018  Varies with device   \n",
      "...              ...              ...             ...                 ...   \n",
      "10740       Everyone      Photography    June 3, 2017             4.0.7.0   \n",
      "10781           Teen           Action   July 30, 2018              1.25.4   \n",
      "10784   Everyone 10+           Action    May 31, 2018               2.8.6   \n",
      "10809       Everyone         Strategy   July 18, 2018               1.4.2   \n",
      "10840       Everyone        Lifestyle   July 25, 2018  Varies with device   \n",
      "\n",
      "              Android Ver Rating_category  \n",
      "3              4.2 and up            High  \n",
      "18           4.0.3 and up            High  \n",
      "19             4.1 and up            High  \n",
      "42     Varies with device            High  \n",
      "72             5.0 and up            High  \n",
      "...                   ...             ...  \n",
      "10740          2.3 and up            High  \n",
      "10781          4.1 and up            High  \n",
      "10784          4.0 and up            High  \n",
      "10809          4.1 and up            High  \n",
      "10840  Varies with device            High  \n",
      "\n",
      "[1555 rows x 14 columns]\n"
     ]
    }
   ],
   "source": [
    "## using the Inter Quantile Range method for deteing outliers\n",
    "\n",
    "Q1 = df[\"Reviews\"].quantile(0.25)\n",
    "Q3 = df[\"Reviews\"].quantile(0.75)\n",
    "IQR = Q3 - Q1\n",
    "\n",
    "##defining upper and lower bounds\n",
    "lower_bound = Q1 - 1.5 * IQR\n",
    "upper_bound = Q3 + 1.5 * IQR\n",
    "\n",
    "##Outliers\n",
    "outliers = df[(df[\"Reviews\"] < lower_bound)| (df[\"Reviews\"] > upper_bound)]\n",
    "print(f\"Outliers:{outliers}\")"
   ]
  },
  {
   "cell_type": "code",
   "execution_count": 70,
   "id": "81a6ca73",
   "metadata": {},
   "outputs": [],
   "source": [
    "outliers = pd.DataFrame(outliers)"
   ]
  },
  {
   "cell_type": "code",
   "execution_count": 71,
   "id": "8516f652",
   "metadata": {},
   "outputs": [
    {
     "data": {
      "text/html": [
       "<div>\n",
       "<style scoped>\n",
       "    .dataframe tbody tr th:only-of-type {\n",
       "        vertical-align: middle;\n",
       "    }\n",
       "\n",
       "    .dataframe tbody tr th {\n",
       "        vertical-align: top;\n",
       "    }\n",
       "\n",
       "    .dataframe thead th {\n",
       "        text-align: right;\n",
       "    }\n",
       "</style>\n",
       "<table border=\"1\" class=\"dataframe\">\n",
       "  <thead>\n",
       "    <tr style=\"text-align: right;\">\n",
       "      <th></th>\n",
       "      <th>App</th>\n",
       "      <th>Category</th>\n",
       "      <th>Rating</th>\n",
       "      <th>Reviews</th>\n",
       "      <th>Size</th>\n",
       "      <th>Installs</th>\n",
       "      <th>Type</th>\n",
       "      <th>Price</th>\n",
       "      <th>Content Rating</th>\n",
       "      <th>Genres</th>\n",
       "      <th>Last Updated</th>\n",
       "      <th>Current Ver</th>\n",
       "      <th>Android Ver</th>\n",
       "      <th>Rating_category</th>\n",
       "    </tr>\n",
       "  </thead>\n",
       "  <tbody>\n",
       "    <tr>\n",
       "      <th>3</th>\n",
       "      <td>Sketch - Draw &amp; Paint</td>\n",
       "      <td>ART_AND_DESIGN</td>\n",
       "      <td>4.5</td>\n",
       "      <td>215644</td>\n",
       "      <td>25M</td>\n",
       "      <td>50,000,000+</td>\n",
       "      <td>Free</td>\n",
       "      <td>0</td>\n",
       "      <td>Teen</td>\n",
       "      <td>Art &amp; Design</td>\n",
       "      <td>June 8, 2018</td>\n",
       "      <td>Varies with device</td>\n",
       "      <td>4.2 and up</td>\n",
       "      <td>High</td>\n",
       "    </tr>\n",
       "    <tr>\n",
       "      <th>18</th>\n",
       "      <td>FlipaClip - Cartoon animation</td>\n",
       "      <td>ART_AND_DESIGN</td>\n",
       "      <td>4.3</td>\n",
       "      <td>194216</td>\n",
       "      <td>39M</td>\n",
       "      <td>5,000,000+</td>\n",
       "      <td>Free</td>\n",
       "      <td>0</td>\n",
       "      <td>Everyone</td>\n",
       "      <td>Art &amp; Design</td>\n",
       "      <td>August 3, 2018</td>\n",
       "      <td>2.2.5</td>\n",
       "      <td>4.0.3 and up</td>\n",
       "      <td>High</td>\n",
       "    </tr>\n",
       "    <tr>\n",
       "      <th>19</th>\n",
       "      <td>ibis Paint X</td>\n",
       "      <td>ART_AND_DESIGN</td>\n",
       "      <td>4.6</td>\n",
       "      <td>224399</td>\n",
       "      <td>31M</td>\n",
       "      <td>10,000,000+</td>\n",
       "      <td>Free</td>\n",
       "      <td>0</td>\n",
       "      <td>Everyone</td>\n",
       "      <td>Art &amp; Design</td>\n",
       "      <td>July 30, 2018</td>\n",
       "      <td>5.5.4</td>\n",
       "      <td>4.1 and up</td>\n",
       "      <td>High</td>\n",
       "    </tr>\n",
       "    <tr>\n",
       "      <th>42</th>\n",
       "      <td>Textgram - write on photos</td>\n",
       "      <td>ART_AND_DESIGN</td>\n",
       "      <td>4.4</td>\n",
       "      <td>295221</td>\n",
       "      <td>Varies with device</td>\n",
       "      <td>10,000,000+</td>\n",
       "      <td>Free</td>\n",
       "      <td>0</td>\n",
       "      <td>Everyone</td>\n",
       "      <td>Art &amp; Design</td>\n",
       "      <td>July 30, 2018</td>\n",
       "      <td>Varies with device</td>\n",
       "      <td>Varies with device</td>\n",
       "      <td>High</td>\n",
       "    </tr>\n",
       "    <tr>\n",
       "      <th>72</th>\n",
       "      <td>Android Auto - Maps, Media, Messaging &amp; Voice</td>\n",
       "      <td>AUTO_AND_VEHICLES</td>\n",
       "      <td>4.2</td>\n",
       "      <td>271920</td>\n",
       "      <td>16M</td>\n",
       "      <td>10,000,000+</td>\n",
       "      <td>Free</td>\n",
       "      <td>0</td>\n",
       "      <td>Teen</td>\n",
       "      <td>Auto &amp; Vehicles</td>\n",
       "      <td>July 11, 2018</td>\n",
       "      <td>Varies with device</td>\n",
       "      <td>5.0 and up</td>\n",
       "      <td>High</td>\n",
       "    </tr>\n",
       "    <tr>\n",
       "      <th>...</th>\n",
       "      <td>...</td>\n",
       "      <td>...</td>\n",
       "      <td>...</td>\n",
       "      <td>...</td>\n",
       "      <td>...</td>\n",
       "      <td>...</td>\n",
       "      <td>...</td>\n",
       "      <td>...</td>\n",
       "      <td>...</td>\n",
       "      <td>...</td>\n",
       "      <td>...</td>\n",
       "      <td>...</td>\n",
       "      <td>...</td>\n",
       "      <td>...</td>\n",
       "    </tr>\n",
       "    <tr>\n",
       "      <th>10740</th>\n",
       "      <td>PhotoFunia</td>\n",
       "      <td>PHOTOGRAPHY</td>\n",
       "      <td>4.3</td>\n",
       "      <td>316378</td>\n",
       "      <td>4.4M</td>\n",
       "      <td>10,000,000+</td>\n",
       "      <td>Free</td>\n",
       "      <td>0</td>\n",
       "      <td>Everyone</td>\n",
       "      <td>Photography</td>\n",
       "      <td>June 3, 2017</td>\n",
       "      <td>4.0.7.0</td>\n",
       "      <td>2.3 and up</td>\n",
       "      <td>High</td>\n",
       "    </tr>\n",
       "    <tr>\n",
       "      <th>10781</th>\n",
       "      <td>Modern Strike Online</td>\n",
       "      <td>GAME</td>\n",
       "      <td>4.3</td>\n",
       "      <td>834117</td>\n",
       "      <td>44M</td>\n",
       "      <td>10,000,000+</td>\n",
       "      <td>Free</td>\n",
       "      <td>0</td>\n",
       "      <td>Teen</td>\n",
       "      <td>Action</td>\n",
       "      <td>July 30, 2018</td>\n",
       "      <td>1.25.4</td>\n",
       "      <td>4.1 and up</td>\n",
       "      <td>High</td>\n",
       "    </tr>\n",
       "    <tr>\n",
       "      <th>10784</th>\n",
       "      <td>Big Hunter</td>\n",
       "      <td>GAME</td>\n",
       "      <td>4.3</td>\n",
       "      <td>245455</td>\n",
       "      <td>84M</td>\n",
       "      <td>10,000,000+</td>\n",
       "      <td>Free</td>\n",
       "      <td>0</td>\n",
       "      <td>Everyone 10+</td>\n",
       "      <td>Action</td>\n",
       "      <td>May 31, 2018</td>\n",
       "      <td>2.8.6</td>\n",
       "      <td>4.0 and up</td>\n",
       "      <td>High</td>\n",
       "    </tr>\n",
       "    <tr>\n",
       "      <th>10809</th>\n",
       "      <td>Castle Clash: RPG War and Strategy FR</td>\n",
       "      <td>FAMILY</td>\n",
       "      <td>4.7</td>\n",
       "      <td>376223</td>\n",
       "      <td>24M</td>\n",
       "      <td>1,000,000+</td>\n",
       "      <td>Free</td>\n",
       "      <td>0</td>\n",
       "      <td>Everyone</td>\n",
       "      <td>Strategy</td>\n",
       "      <td>July 18, 2018</td>\n",
       "      <td>1.4.2</td>\n",
       "      <td>4.1 and up</td>\n",
       "      <td>High</td>\n",
       "    </tr>\n",
       "    <tr>\n",
       "      <th>10840</th>\n",
       "      <td>iHoroscope - 2018 Daily Horoscope &amp; Astrology</td>\n",
       "      <td>LIFESTYLE</td>\n",
       "      <td>4.5</td>\n",
       "      <td>398307</td>\n",
       "      <td>19M</td>\n",
       "      <td>10,000,000+</td>\n",
       "      <td>Free</td>\n",
       "      <td>0</td>\n",
       "      <td>Everyone</td>\n",
       "      <td>Lifestyle</td>\n",
       "      <td>July 25, 2018</td>\n",
       "      <td>Varies with device</td>\n",
       "      <td>Varies with device</td>\n",
       "      <td>High</td>\n",
       "    </tr>\n",
       "  </tbody>\n",
       "</table>\n",
       "<p>1555 rows × 14 columns</p>\n",
       "</div>"
      ],
      "text/plain": [
       "                                                 App           Category  \\\n",
       "3                              Sketch - Draw & Paint     ART_AND_DESIGN   \n",
       "18                     FlipaClip - Cartoon animation     ART_AND_DESIGN   \n",
       "19                                      ibis Paint X     ART_AND_DESIGN   \n",
       "42                        Textgram - write on photos     ART_AND_DESIGN   \n",
       "72     Android Auto - Maps, Media, Messaging & Voice  AUTO_AND_VEHICLES   \n",
       "...                                              ...                ...   \n",
       "10740                                     PhotoFunia        PHOTOGRAPHY   \n",
       "10781                           Modern Strike Online               GAME   \n",
       "10784                                     Big Hunter               GAME   \n",
       "10809          Castle Clash: RPG War and Strategy FR             FAMILY   \n",
       "10840  iHoroscope - 2018 Daily Horoscope & Astrology          LIFESTYLE   \n",
       "\n",
       "       Rating  Reviews                Size     Installs  Type Price  \\\n",
       "3         4.5   215644                 25M  50,000,000+  Free     0   \n",
       "18        4.3   194216                 39M   5,000,000+  Free     0   \n",
       "19        4.6   224399                 31M  10,000,000+  Free     0   \n",
       "42        4.4   295221  Varies with device  10,000,000+  Free     0   \n",
       "72        4.2   271920                 16M  10,000,000+  Free     0   \n",
       "...       ...      ...                 ...          ...   ...   ...   \n",
       "10740     4.3   316378                4.4M  10,000,000+  Free     0   \n",
       "10781     4.3   834117                 44M  10,000,000+  Free     0   \n",
       "10784     4.3   245455                 84M  10,000,000+  Free     0   \n",
       "10809     4.7   376223                 24M   1,000,000+  Free     0   \n",
       "10840     4.5   398307                 19M  10,000,000+  Free     0   \n",
       "\n",
       "      Content Rating           Genres    Last Updated         Current Ver  \\\n",
       "3               Teen     Art & Design    June 8, 2018  Varies with device   \n",
       "18          Everyone     Art & Design  August 3, 2018               2.2.5   \n",
       "19          Everyone     Art & Design   July 30, 2018               5.5.4   \n",
       "42          Everyone     Art & Design   July 30, 2018  Varies with device   \n",
       "72              Teen  Auto & Vehicles   July 11, 2018  Varies with device   \n",
       "...              ...              ...             ...                 ...   \n",
       "10740       Everyone      Photography    June 3, 2017             4.0.7.0   \n",
       "10781           Teen           Action   July 30, 2018              1.25.4   \n",
       "10784   Everyone 10+           Action    May 31, 2018               2.8.6   \n",
       "10809       Everyone         Strategy   July 18, 2018               1.4.2   \n",
       "10840       Everyone        Lifestyle   July 25, 2018  Varies with device   \n",
       "\n",
       "              Android Ver Rating_category  \n",
       "3              4.2 and up            High  \n",
       "18           4.0.3 and up            High  \n",
       "19             4.1 and up            High  \n",
       "42     Varies with device            High  \n",
       "72             5.0 and up            High  \n",
       "...                   ...             ...  \n",
       "10740          2.3 and up            High  \n",
       "10781          4.1 and up            High  \n",
       "10784          4.0 and up            High  \n",
       "10809          4.1 and up            High  \n",
       "10840  Varies with device            High  \n",
       "\n",
       "[1555 rows x 14 columns]"
      ]
     },
     "execution_count": 71,
     "metadata": {},
     "output_type": "execute_result"
    }
   ],
   "source": [
    "outliers"
   ]
  },
  {
   "cell_type": "code",
   "execution_count": 72,
   "id": "260c32c1",
   "metadata": {},
   "outputs": [
    {
     "data": {
      "text/plain": [
       "16.202305142596288"
      ]
     },
     "execution_count": 72,
     "metadata": {},
     "output_type": "execute_result"
    }
   ],
   "source": [
    "#transforming outliers, by using log, Natural log will reduce the influence of the outliers\n",
    "skewness= df[\"Reviews\"].skew()\n",
    "skewness\n"
   ]
  },
  {
   "cell_type": "code",
   "execution_count": 73,
   "id": "d2b9c36e",
   "metadata": {},
   "outputs": [
    {
     "data": {
      "text/plain": [
       "-0.05161966047260586"
      ]
     },
     "execution_count": 73,
     "metadata": {},
     "output_type": "execute_result"
    }
   ],
   "source": [
    "df[\"Review\"] = np.log(df[\"Reviews\"])\n",
    "df[\"Review\"].skew()"
   ]
  },
  {
   "cell_type": "code",
   "execution_count": 74,
   "id": "dd3e2717",
   "metadata": {},
   "outputs": [
    {
     "data": {
      "text/plain": [
       "0         5.068904\n",
       "1         6.874198\n",
       "2        11.379508\n",
       "3        12.281384\n",
       "4         6.874198\n",
       "           ...    \n",
       "10834     1.945910\n",
       "10836     3.637586\n",
       "10837     1.386294\n",
       "10839     4.736198\n",
       "10840    12.894978\n",
       "Name: Review, Length: 8886, dtype: float64"
      ]
     },
     "execution_count": 74,
     "metadata": {},
     "output_type": "execute_result"
    }
   ],
   "source": [
    "log_points = df[\"Review\"]\n",
    "log_points"
   ]
  },
  {
   "cell_type": "code",
   "execution_count": 75,
   "id": "e43ff691",
   "metadata": {},
   "outputs": [],
   "source": [
    "from scipy.stats import norm"
   ]
  },
  {
   "cell_type": "code",
   "execution_count": 76,
   "id": "56496bf6",
   "metadata": {},
   "outputs": [
    {
     "data": {
      "image/png": "[encoded data removed]",
      "text/plain": [
       "<Figure size 432x288 with 1 Axes>"
      ]
     },
     "metadata": {
      "needs_background": "light"
     },
     "output_type": "display_data"
    }
   ],
   "source": [
    "x = np.linspace(min(log_points), max(log_points), 100)  # X values for the curve\n",
    "y = norm.pdf(x, np.mean(log_points), np.std(log_points))  # Y values for the curve (PDF)\n",
    "\n",
    "# Plot the bell curve\n",
    "plt.plot(x, y, color='blue')\n",
    "\n",
    "# Plot the log-transformed points on the bell curve\n",
    "plt.scatter(log_points, norm.pdf(log_points, np.mean(log_points), np.std(log_points)),\n",
    "            color='red', label='Log-transformed Points')\n",
    "\n",
    "# Add labels and legend\n",
    "plt.xlabel('Log-Transformed Points')\n",
    "plt.ylabel('Probability Density')\n",
    "plt.legend()\n",
    "\n",
    "# Show the plot\n",
    "plt.show()"
   ]
  },
  {
   "cell_type": "markdown",
   "id": "752182f2",
   "metadata": {},
   "source": [
    "we have treated the Outliers , by scaling it with Log transform\n"
   ]
  },
  {
   "cell_type": "markdown",
   "id": "620a09d6",
   "metadata": {},
   "source": [
    "## 2.7 The column 'Size' contains alphanumeric values, handle the non numeric data and convert the column into suitable datatype. (hint: Replace M with 1 million and K with 1 thousand, and drop/impute the entries where size='Varies with device')."
   ]
  },
  {
   "cell_type": "code",
   "execution_count": 77,
   "id": "8f7fe9e6",
   "metadata": {},
   "outputs": [
    {
     "data": {
      "text/html": [
       "<div>\n",
       "<style scoped>\n",
       "    .dataframe tbody tr th:only-of-type {\n",
       "        vertical-align: middle;\n",
       "    }\n",
       "\n",
       "    .dataframe tbody tr th {\n",
       "        vertical-align: top;\n",
       "    }\n",
       "\n",
       "    .dataframe thead th {\n",
       "        text-align: right;\n",
       "    }\n",
       "</style>\n",
       "<table border=\"1\" class=\"dataframe\">\n",
       "  <thead>\n",
       "    <tr style=\"text-align: right;\">\n",
       "      <th></th>\n",
       "      <th>App</th>\n",
       "      <th>Category</th>\n",
       "      <th>Rating</th>\n",
       "      <th>Reviews</th>\n",
       "      <th>Size</th>\n",
       "      <th>Installs</th>\n",
       "      <th>Type</th>\n",
       "      <th>Price</th>\n",
       "      <th>Content Rating</th>\n",
       "      <th>Genres</th>\n",
       "      <th>Last Updated</th>\n",
       "      <th>Current Ver</th>\n",
       "      <th>Android Ver</th>\n",
       "      <th>Rating_category</th>\n",
       "      <th>Review</th>\n",
       "    </tr>\n",
       "  </thead>\n",
       "  <tbody>\n",
       "    <tr>\n",
       "      <th>0</th>\n",
       "      <td>Photo Editor &amp; Candy Camera &amp; Grid &amp; ScrapBook</td>\n",
       "      <td>ART_AND_DESIGN</td>\n",
       "      <td>4.1</td>\n",
       "      <td>159</td>\n",
       "      <td>19M</td>\n",
       "      <td>10,000+</td>\n",
       "      <td>Free</td>\n",
       "      <td>0</td>\n",
       "      <td>Everyone</td>\n",
       "      <td>Art &amp; Design</td>\n",
       "      <td>January 7, 2018</td>\n",
       "      <td>1.0.0</td>\n",
       "      <td>4.0.3 and up</td>\n",
       "      <td>High</td>\n",
       "      <td>5.068904</td>\n",
       "    </tr>\n",
       "    <tr>\n",
       "      <th>1</th>\n",
       "      <td>Coloring book moana</td>\n",
       "      <td>ART_AND_DESIGN</td>\n",
       "      <td>3.9</td>\n",
       "      <td>967</td>\n",
       "      <td>14M</td>\n",
       "      <td>500,000+</td>\n",
       "      <td>Free</td>\n",
       "      <td>0</td>\n",
       "      <td>Everyone</td>\n",
       "      <td>Art &amp; Design;Pretend Play</td>\n",
       "      <td>January 15, 2018</td>\n",
       "      <td>2.0.0</td>\n",
       "      <td>4.0.3 and up</td>\n",
       "      <td>High</td>\n",
       "      <td>6.874198</td>\n",
       "    </tr>\n",
       "    <tr>\n",
       "      <th>2</th>\n",
       "      <td>U Launcher Lite – FREE Live Cool Themes, Hide ...</td>\n",
       "      <td>ART_AND_DESIGN</td>\n",
       "      <td>4.7</td>\n",
       "      <td>87510</td>\n",
       "      <td>8.7M</td>\n",
       "      <td>5,000,000+</td>\n",
       "      <td>Free</td>\n",
       "      <td>0</td>\n",
       "      <td>Everyone</td>\n",
       "      <td>Art &amp; Design</td>\n",
       "      <td>August 1, 2018</td>\n",
       "      <td>1.2.4</td>\n",
       "      <td>4.0.3 and up</td>\n",
       "      <td>High</td>\n",
       "      <td>11.379508</td>\n",
       "    </tr>\n",
       "  </tbody>\n",
       "</table>\n",
       "</div>"
      ],
      "text/plain": [
       "                                                 App        Category  Rating  \\\n",
       "0     Photo Editor & Candy Camera & Grid & ScrapBook  ART_AND_DESIGN     4.1   \n",
       "1                                Coloring book moana  ART_AND_DESIGN     3.9   \n",
       "2  U Launcher Lite – FREE Live Cool Themes, Hide ...  ART_AND_DESIGN     4.7   \n",
       "\n",
       "   Reviews  Size    Installs  Type Price Content Rating  \\\n",
       "0      159   19M     10,000+  Free     0       Everyone   \n",
       "1      967   14M    500,000+  Free     0       Everyone   \n",
       "2    87510  8.7M  5,000,000+  Free     0       Everyone   \n",
       "\n",
       "                      Genres      Last Updated Current Ver   Android Ver  \\\n",
       "0               Art & Design   January 7, 2018       1.0.0  4.0.3 and up   \n",
       "1  Art & Design;Pretend Play  January 15, 2018       2.0.0  4.0.3 and up   \n",
       "2               Art & Design    August 1, 2018       1.2.4  4.0.3 and up   \n",
       "\n",
       "  Rating_category     Review  \n",
       "0            High   5.068904  \n",
       "1            High   6.874198  \n",
       "2            High  11.379508  "
      ]
     },
     "execution_count": 77,
     "metadata": {},
     "output_type": "execute_result"
    }
   ],
   "source": [
    "df.head(3)"
   ]
  },
  {
   "cell_type": "code",
   "execution_count": 78,
   "id": "8f5f862a",
   "metadata": {},
   "outputs": [
    {
     "data": {
      "text/plain": [
       "Varies with device    1468\n",
       "14M                    153\n",
       "13M                    152\n",
       "12M                    151\n",
       "15M                    149\n",
       "                      ... \n",
       "383k                     1\n",
       "454k                     1\n",
       "812k                     1\n",
       "442k                     1\n",
       "619k                     1\n",
       "Name: Size, Length: 413, dtype: int64"
      ]
     },
     "execution_count": 78,
     "metadata": {},
     "output_type": "execute_result"
    }
   ],
   "source": [
    "df[\"Size\"].value_counts()"
   ]
  },
  {
   "cell_type": "code",
   "execution_count": 79,
   "id": "fea29782",
   "metadata": {},
   "outputs": [],
   "source": [
    "df['Size'] = df['Size'].str.replace('M', 'e6').str.replace('k', 'e3')"
   ]
  },
  {
   "cell_type": "code",
   "execution_count": 80,
   "id": "f7ee2b38",
   "metadata": {},
   "outputs": [
    {
     "data": {
      "text/plain": [
       "0                      19e6\n",
       "1                      14e6\n",
       "2                     8.7e6\n",
       "3                      25e6\n",
       "4                     2.8e6\n",
       "                ...        \n",
       "10834                 2.6e6\n",
       "10836                  53e6\n",
       "10837                 3.6e6\n",
       "10839    Varies with device\n",
       "10840                  19e6\n",
       "Name: Size, Length: 8886, dtype: object"
      ]
     },
     "execution_count": 80,
     "metadata": {},
     "output_type": "execute_result"
    }
   ],
   "source": [
    "df[\"Size\"]"
   ]
  },
  {
   "cell_type": "code",
   "execution_count": 81,
   "id": "19ecc3ab",
   "metadata": {},
   "outputs": [],
   "source": [
    "# Imputing the instances where it as \"Varies with device\"\n",
    "df = df[df['Size'] != 'Varies with device']"
   ]
  },
  {
   "cell_type": "code",
   "execution_count": 82,
   "id": "a0106c41",
   "metadata": {},
   "outputs": [],
   "source": [
    "# Changing the data type of column with \n",
    "df['Size'] = pd.to_numeric(df['Size'])"
   ]
  },
  {
   "cell_type": "code",
   "execution_count": 83,
   "id": "ca48708b",
   "metadata": {},
   "outputs": [
    {
     "data": {
      "text/plain": [
       "0        19000000.0\n",
       "1        14000000.0\n",
       "2         8700000.0\n",
       "3        25000000.0\n",
       "4         2800000.0\n",
       "            ...    \n",
       "10833      619000.0\n",
       "10834     2600000.0\n",
       "10836    53000000.0\n",
       "10837     3600000.0\n",
       "10840    19000000.0\n",
       "Name: Size, Length: 7418, dtype: float64"
      ]
     },
     "execution_count": 83,
     "metadata": {},
     "output_type": "execute_result"
    }
   ],
   "source": [
    "df[\"Size\"]"
   ]
  },
  {
   "cell_type": "markdown",
   "id": "20799645",
   "metadata": {},
   "source": [
    "## Size column has been converted to float data type"
   ]
  },
  {
   "cell_type": "markdown",
   "id": "82450882",
   "metadata": {},
   "source": [
    "## 2.8  Check the column 'Installs', handle the unwanted characters and convert the column into suitable dataype."
   ]
  },
  {
   "cell_type": "code",
   "execution_count": 84,
   "id": "58b12468",
   "metadata": {},
   "outputs": [
    {
     "data": {
      "text/plain": [
       "1,000,000+        1229\n",
       "100,000+          1003\n",
       "10,000+            948\n",
       "10,000,000+        762\n",
       "1,000+             674\n",
       "5,000,000+         493\n",
       "500,000+           470\n",
       "50,000+            431\n",
       "5,000+             413\n",
       "100+               297\n",
       "500+               195\n",
       "100,000,000+       192\n",
       "50,000,000+        144\n",
       "10+                 67\n",
       "50+                 56\n",
       "500,000,000+        24\n",
       "5+                   9\n",
       "1,000,000,000+       8\n",
       "1+                   3\n",
       "Name: Installs, dtype: int64"
      ]
     },
     "execution_count": 84,
     "metadata": {},
     "output_type": "execute_result"
    }
   ],
   "source": [
    "Install_counts = df[\"Installs\"].value_counts()\n",
    "Install_counts"
   ]
  },
  {
   "cell_type": "code",
   "execution_count": 85,
   "id": "f75bb998",
   "metadata": {},
   "outputs": [
    {
     "data": {
      "text/plain": [
       "count           7418\n",
       "unique            19\n",
       "top       1,000,000+\n",
       "freq            1229\n",
       "Name: Installs, dtype: object"
      ]
     },
     "execution_count": 85,
     "metadata": {},
     "output_type": "execute_result"
    }
   ],
   "source": [
    "df[\"Installs\"].describe()"
   ]
  },
  {
   "cell_type": "code",
   "execution_count": 86,
   "id": "135e7f66",
   "metadata": {},
   "outputs": [
    {
     "data": {
      "image/png": "[encoded data removed]",
      "text/plain": [
       "<Figure size 504x504 with 1 Axes>"
      ]
     },
     "metadata": {
      "needs_background": "light"
     },
     "output_type": "display_data"
    }
   ],
   "source": [
    "plt.figure(figsize =(7,7))\n",
    "Install_counts.plot(kind ='bar')\n",
    "plt.show()"
   ]
  },
  {
   "cell_type": "code",
   "execution_count": 87,
   "id": "79b55e04",
   "metadata": {},
   "outputs": [
    {
     "data": {
      "text/plain": [
       "array(['10,000+', '500,000+', '5,000,000+', '50,000,000+', '100,000+',\n",
       "       '50,000+', '1,000,000+', '10,000,000+', '5,000+', '100,000,000+',\n",
       "       '1,000+', '500,000,000+', '100+', '500+', '10+', '1,000,000,000+',\n",
       "       '5+', '50+', '1+'], dtype=object)"
      ]
     },
     "execution_count": 87,
     "metadata": {},
     "output_type": "execute_result"
    }
   ],
   "source": [
    "df[\"Installs\"].unique()"
   ]
  },
  {
   "cell_type": "code",
   "execution_count": 88,
   "id": "44cdad21",
   "metadata": {},
   "outputs": [
    {
     "data": {
      "text/plain": [
       "0            10,000\n",
       "1           500,000\n",
       "2         5,000,000\n",
       "3        50,000,000\n",
       "4           100,000\n",
       "            ...    \n",
       "10833         1,000\n",
       "10834           500\n",
       "10836         5,000\n",
       "10837           100\n",
       "10840    10,000,000\n",
       "Name: Installs, Length: 7418, dtype: object"
      ]
     },
     "execution_count": 88,
     "metadata": {},
     "output_type": "execute_result"
    }
   ],
   "source": [
    "## lets eliminate the \"+\" symbol and convert it into a numeric data type\n",
    "df[\"Installs\"] = df[\"Installs\"].str.replace(\"+\",\"\")\n",
    "df[\"Installs\"]\n"
   ]
  },
  {
   "cell_type": "code",
   "execution_count": 89,
   "id": "f2f81940",
   "metadata": {},
   "outputs": [
    {
     "data": {
      "text/html": [
       "<div>\n",
       "<style scoped>\n",
       "    .dataframe tbody tr th:only-of-type {\n",
       "        vertical-align: middle;\n",
       "    }\n",
       "\n",
       "    .dataframe tbody tr th {\n",
       "        vertical-align: top;\n",
       "    }\n",
       "\n",
       "    .dataframe thead th {\n",
       "        text-align: right;\n",
       "    }\n",
       "</style>\n",
       "<table border=\"1\" class=\"dataframe\">\n",
       "  <thead>\n",
       "    <tr style=\"text-align: right;\">\n",
       "      <th></th>\n",
       "      <th>App</th>\n",
       "      <th>Category</th>\n",
       "      <th>Rating</th>\n",
       "      <th>Reviews</th>\n",
       "      <th>Size</th>\n",
       "      <th>Installs</th>\n",
       "      <th>Type</th>\n",
       "      <th>Price</th>\n",
       "      <th>Content Rating</th>\n",
       "      <th>Genres</th>\n",
       "      <th>Last Updated</th>\n",
       "      <th>Current Ver</th>\n",
       "      <th>Android Ver</th>\n",
       "      <th>Rating_category</th>\n",
       "      <th>Review</th>\n",
       "    </tr>\n",
       "  </thead>\n",
       "  <tbody>\n",
       "    <tr>\n",
       "      <th>0</th>\n",
       "      <td>Photo Editor &amp; Candy Camera &amp; Grid &amp; ScrapBook</td>\n",
       "      <td>ART_AND_DESIGN</td>\n",
       "      <td>4.1</td>\n",
       "      <td>159</td>\n",
       "      <td>19000000.0</td>\n",
       "      <td>10,000</td>\n",
       "      <td>Free</td>\n",
       "      <td>0</td>\n",
       "      <td>Everyone</td>\n",
       "      <td>Art &amp; Design</td>\n",
       "      <td>January 7, 2018</td>\n",
       "      <td>1.0.0</td>\n",
       "      <td>4.0.3 and up</td>\n",
       "      <td>High</td>\n",
       "      <td>5.068904</td>\n",
       "    </tr>\n",
       "  </tbody>\n",
       "</table>\n",
       "</div>"
      ],
      "text/plain": [
       "                                              App        Category  Rating  \\\n",
       "0  Photo Editor & Candy Camera & Grid & ScrapBook  ART_AND_DESIGN     4.1   \n",
       "\n",
       "   Reviews        Size Installs  Type Price Content Rating        Genres  \\\n",
       "0      159  19000000.0   10,000  Free     0       Everyone  Art & Design   \n",
       "\n",
       "      Last Updated Current Ver   Android Ver Rating_category    Review  \n",
       "0  January 7, 2018       1.0.0  4.0.3 and up            High  5.068904  "
      ]
     },
     "execution_count": 89,
     "metadata": {},
     "output_type": "execute_result"
    }
   ],
   "source": [
    "df.head(1)"
   ]
  },
  {
   "cell_type": "code",
   "execution_count": 90,
   "id": "78c19be6",
   "metadata": {},
   "outputs": [
    {
     "data": {
      "text/plain": [
       "0           10000\n",
       "1          500000\n",
       "2         5000000\n",
       "3        50000000\n",
       "4          100000\n",
       "           ...   \n",
       "10833        1000\n",
       "10834         500\n",
       "10836        5000\n",
       "10837         100\n",
       "10840    10000000\n",
       "Name: Installs, Length: 7418, dtype: object"
      ]
     },
     "execution_count": 90,
     "metadata": {},
     "output_type": "execute_result"
    }
   ],
   "source": [
    "df[\"Installs\"] = df[\"Installs\"].str.replace(\",\",\"\")\n",
    "df[\"Installs\"]"
   ]
  },
  {
   "cell_type": "code",
   "execution_count": 91,
   "id": "c3592a2c",
   "metadata": {},
   "outputs": [
    {
     "data": {
      "text/plain": [
       "0           10000\n",
       "1          500000\n",
       "2         5000000\n",
       "3        50000000\n",
       "4          100000\n",
       "           ...   \n",
       "10833        1000\n",
       "10834         500\n",
       "10836        5000\n",
       "10837         100\n",
       "10840    10000000\n",
       "Name: Installs, Length: 7418, dtype: int64"
      ]
     },
     "execution_count": 91,
     "metadata": {},
     "output_type": "execute_result"
    }
   ],
   "source": [
    "df[\"Installs\"] = df[\"Installs\"].astype('int')\n",
    "df[\"Installs\"]"
   ]
  },
  {
   "cell_type": "markdown",
   "id": "247eda0c",
   "metadata": {},
   "source": [
    "## The column Installs has been converted to suitable numeric data type"
   ]
  },
  {
   "cell_type": "markdown",
   "id": "e7fe7fd2",
   "metadata": {},
   "source": [
    "## 2.9 Check the column 'Price', remove the unwanted characters and convert the column into suitable datatype.\n"
   ]
  },
  {
   "cell_type": "code",
   "execution_count": 92,
   "id": "b8f7d6ed",
   "metadata": {},
   "outputs": [
    {
     "data": {
      "text/html": [
       "<div>\n",
       "<style scoped>\n",
       "    .dataframe tbody tr th:only-of-type {\n",
       "        vertical-align: middle;\n",
       "    }\n",
       "\n",
       "    .dataframe tbody tr th {\n",
       "        vertical-align: top;\n",
       "    }\n",
       "\n",
       "    .dataframe thead th {\n",
       "        text-align: right;\n",
       "    }\n",
       "</style>\n",
       "<table border=\"1\" class=\"dataframe\">\n",
       "  <thead>\n",
       "    <tr style=\"text-align: right;\">\n",
       "      <th></th>\n",
       "      <th>App</th>\n",
       "      <th>Category</th>\n",
       "      <th>Rating</th>\n",
       "      <th>Reviews</th>\n",
       "      <th>Size</th>\n",
       "      <th>Installs</th>\n",
       "      <th>Type</th>\n",
       "      <th>Price</th>\n",
       "      <th>Content Rating</th>\n",
       "      <th>Genres</th>\n",
       "      <th>Last Updated</th>\n",
       "      <th>Current Ver</th>\n",
       "      <th>Android Ver</th>\n",
       "      <th>Rating_category</th>\n",
       "      <th>Review</th>\n",
       "    </tr>\n",
       "  </thead>\n",
       "  <tbody>\n",
       "    <tr>\n",
       "      <th>0</th>\n",
       "      <td>Photo Editor &amp; Candy Camera &amp; Grid &amp; ScrapBook</td>\n",
       "      <td>ART_AND_DESIGN</td>\n",
       "      <td>4.1</td>\n",
       "      <td>159</td>\n",
       "      <td>19000000.0</td>\n",
       "      <td>10000</td>\n",
       "      <td>Free</td>\n",
       "      <td>0</td>\n",
       "      <td>Everyone</td>\n",
       "      <td>Art &amp; Design</td>\n",
       "      <td>January 7, 2018</td>\n",
       "      <td>1.0.0</td>\n",
       "      <td>4.0.3 and up</td>\n",
       "      <td>High</td>\n",
       "      <td>5.068904</td>\n",
       "    </tr>\n",
       "    <tr>\n",
       "      <th>1</th>\n",
       "      <td>Coloring book moana</td>\n",
       "      <td>ART_AND_DESIGN</td>\n",
       "      <td>3.9</td>\n",
       "      <td>967</td>\n",
       "      <td>14000000.0</td>\n",
       "      <td>500000</td>\n",
       "      <td>Free</td>\n",
       "      <td>0</td>\n",
       "      <td>Everyone</td>\n",
       "      <td>Art &amp; Design;Pretend Play</td>\n",
       "      <td>January 15, 2018</td>\n",
       "      <td>2.0.0</td>\n",
       "      <td>4.0.3 and up</td>\n",
       "      <td>High</td>\n",
       "      <td>6.874198</td>\n",
       "    </tr>\n",
       "  </tbody>\n",
       "</table>\n",
       "</div>"
      ],
      "text/plain": [
       "                                              App        Category  Rating  \\\n",
       "0  Photo Editor & Candy Camera & Grid & ScrapBook  ART_AND_DESIGN     4.1   \n",
       "1                             Coloring book moana  ART_AND_DESIGN     3.9   \n",
       "\n",
       "   Reviews        Size  Installs  Type Price Content Rating  \\\n",
       "0      159  19000000.0     10000  Free     0       Everyone   \n",
       "1      967  14000000.0    500000  Free     0       Everyone   \n",
       "\n",
       "                      Genres      Last Updated Current Ver   Android Ver  \\\n",
       "0               Art & Design   January 7, 2018       1.0.0  4.0.3 and up   \n",
       "1  Art & Design;Pretend Play  January 15, 2018       2.0.0  4.0.3 and up   \n",
       "\n",
       "  Rating_category    Review  \n",
       "0            High  5.068904  \n",
       "1            High  6.874198  "
      ]
     },
     "execution_count": 92,
     "metadata": {},
     "output_type": "execute_result"
    }
   ],
   "source": [
    "df.head(2)"
   ]
  },
  {
   "cell_type": "code",
   "execution_count": 93,
   "id": "63840d96",
   "metadata": {},
   "outputs": [
    {
     "data": {
      "text/plain": [
       "0          6873\n",
       "$0.99       103\n",
       "$2.99        98\n",
       "$4.99        61\n",
       "$1.99        53\n",
       "           ... \n",
       "$6.49         1\n",
       "$1.29         1\n",
       "$299.99       1\n",
       "$379.99       1\n",
       "$1.20         1\n",
       "Name: Price, Length: 68, dtype: int64"
      ]
     },
     "execution_count": 93,
     "metadata": {},
     "output_type": "execute_result"
    }
   ],
   "source": [
    "df[\"Price\"].value_counts()"
   ]
  },
  {
   "cell_type": "code",
   "execution_count": 94,
   "id": "970b19e3",
   "metadata": {},
   "outputs": [
    {
     "data": {
      "text/plain": [
       "0        0\n",
       "1        0\n",
       "2        0\n",
       "3        0\n",
       "4        0\n",
       "        ..\n",
       "10833    0\n",
       "10834    0\n",
       "10836    0\n",
       "10837    0\n",
       "10840    0\n",
       "Name: Price, Length: 7418, dtype: object"
      ]
     },
     "execution_count": 94,
     "metadata": {},
     "output_type": "execute_result"
    }
   ],
   "source": [
    "df[\"Price\"] = df[\"Price\"].str.replace(\"$\", \"\")\n",
    "df[\"Price\"]"
   ]
  },
  {
   "cell_type": "code",
   "execution_count": 95,
   "id": "4b2544aa",
   "metadata": {},
   "outputs": [
    {
     "data": {
      "text/plain": [
       "0         6873\n",
       "0.99       103\n",
       "2.99        98\n",
       "4.99        61\n",
       "1.99        53\n",
       "          ... \n",
       "6.49         1\n",
       "1.29         1\n",
       "299.99       1\n",
       "379.99       1\n",
       "1.20         1\n",
       "Name: Price, Length: 68, dtype: int64"
      ]
     },
     "execution_count": 95,
     "metadata": {},
     "output_type": "execute_result"
    }
   ],
   "source": [
    "df[\"Price\"].value_counts()"
   ]
  },
  {
   "cell_type": "code",
   "execution_count": 96,
   "id": "e0e1aa05",
   "metadata": {},
   "outputs": [
    {
     "data": {
      "text/plain": [
       "2"
      ]
     },
     "execution_count": 96,
     "metadata": {},
     "output_type": "execute_result"
    }
   ],
   "source": [
    "2"
   ]
  },
  {
   "cell_type": "code",
   "execution_count": 97,
   "id": "68e4d0db",
   "metadata": {},
   "outputs": [
    {
     "data": {
      "text/plain": [
       "dtype('O')"
      ]
     },
     "execution_count": 97,
     "metadata": {},
     "output_type": "execute_result"
    }
   ],
   "source": [
    "df[\"Price\"].dtype"
   ]
  },
  {
   "cell_type": "code",
   "execution_count": 98,
   "id": "98d0d003",
   "metadata": {},
   "outputs": [
    {
     "name": "stdout",
     "output_type": "stream",
     "text": [
      "App                 object\n",
      "Category            object\n",
      "Rating             float64\n",
      "Reviews              int64\n",
      "Size               float64\n",
      "Installs             int64\n",
      "Type                object\n",
      "Price              float64\n",
      "Content Rating      object\n",
      "Genres              object\n",
      "Last Updated        object\n",
      "Current Ver         object\n",
      "Android Ver         object\n",
      "Rating_category     object\n",
      "Review             float64\n",
      "dtype: object\n"
     ]
    }
   ],
   "source": [
    "df['Price'] = df['Price'].astype(float)\n",
    "print(df.dtypes)"
   ]
  },
  {
   "cell_type": "markdown",
   "id": "9a8d8f48",
   "metadata": {},
   "source": [
    "## 3.0. 3. Data Preparation for model building: "
   ]
  },
  {
   "cell_type": "markdown",
   "id": "06621bc4",
   "metadata": {},
   "source": [
    "## 3.1 [ Score: 2 points ]  Drop the columns which you think redundant for the analysis.(suggestion: drop column 'rating', since we created a new feature from it (i.e. rating_category) will use that as target.)"
   ]
  },
  {
   "cell_type": "code",
   "execution_count": 99,
   "id": "ab3fa5e3",
   "metadata": {},
   "outputs": [
    {
     "data": {
      "text/html": [
       "<div>\n",
       "<style scoped>\n",
       "    .dataframe tbody tr th:only-of-type {\n",
       "        vertical-align: middle;\n",
       "    }\n",
       "\n",
       "    .dataframe tbody tr th {\n",
       "        vertical-align: top;\n",
       "    }\n",
       "\n",
       "    .dataframe thead th {\n",
       "        text-align: right;\n",
       "    }\n",
       "</style>\n",
       "<table border=\"1\" class=\"dataframe\">\n",
       "  <thead>\n",
       "    <tr style=\"text-align: right;\">\n",
       "      <th></th>\n",
       "      <th>App</th>\n",
       "      <th>Category</th>\n",
       "      <th>Rating</th>\n",
       "      <th>Reviews</th>\n",
       "      <th>Size</th>\n",
       "      <th>Installs</th>\n",
       "      <th>Type</th>\n",
       "      <th>Price</th>\n",
       "      <th>Content Rating</th>\n",
       "      <th>Genres</th>\n",
       "      <th>Last Updated</th>\n",
       "      <th>Current Ver</th>\n",
       "      <th>Android Ver</th>\n",
       "      <th>Rating_category</th>\n",
       "      <th>Review</th>\n",
       "    </tr>\n",
       "  </thead>\n",
       "  <tbody>\n",
       "    <tr>\n",
       "      <th>0</th>\n",
       "      <td>Photo Editor &amp; Candy Camera &amp; Grid &amp; ScrapBook</td>\n",
       "      <td>ART_AND_DESIGN</td>\n",
       "      <td>4.1</td>\n",
       "      <td>159</td>\n",
       "      <td>19000000.0</td>\n",
       "      <td>10000</td>\n",
       "      <td>Free</td>\n",
       "      <td>0.0</td>\n",
       "      <td>Everyone</td>\n",
       "      <td>Art &amp; Design</td>\n",
       "      <td>January 7, 2018</td>\n",
       "      <td>1.0.0</td>\n",
       "      <td>4.0.3 and up</td>\n",
       "      <td>High</td>\n",
       "      <td>5.068904</td>\n",
       "    </tr>\n",
       "    <tr>\n",
       "      <th>1</th>\n",
       "      <td>Coloring book moana</td>\n",
       "      <td>ART_AND_DESIGN</td>\n",
       "      <td>3.9</td>\n",
       "      <td>967</td>\n",
       "      <td>14000000.0</td>\n",
       "      <td>500000</td>\n",
       "      <td>Free</td>\n",
       "      <td>0.0</td>\n",
       "      <td>Everyone</td>\n",
       "      <td>Art &amp; Design;Pretend Play</td>\n",
       "      <td>January 15, 2018</td>\n",
       "      <td>2.0.0</td>\n",
       "      <td>4.0.3 and up</td>\n",
       "      <td>High</td>\n",
       "      <td>6.874198</td>\n",
       "    </tr>\n",
       "    <tr>\n",
       "      <th>2</th>\n",
       "      <td>U Launcher Lite – FREE Live Cool Themes, Hide ...</td>\n",
       "      <td>ART_AND_DESIGN</td>\n",
       "      <td>4.7</td>\n",
       "      <td>87510</td>\n",
       "      <td>8700000.0</td>\n",
       "      <td>5000000</td>\n",
       "      <td>Free</td>\n",
       "      <td>0.0</td>\n",
       "      <td>Everyone</td>\n",
       "      <td>Art &amp; Design</td>\n",
       "      <td>August 1, 2018</td>\n",
       "      <td>1.2.4</td>\n",
       "      <td>4.0.3 and up</td>\n",
       "      <td>High</td>\n",
       "      <td>11.379508</td>\n",
       "    </tr>\n",
       "    <tr>\n",
       "      <th>3</th>\n",
       "      <td>Sketch - Draw &amp; Paint</td>\n",
       "      <td>ART_AND_DESIGN</td>\n",
       "      <td>4.5</td>\n",
       "      <td>215644</td>\n",
       "      <td>25000000.0</td>\n",
       "      <td>50000000</td>\n",
       "      <td>Free</td>\n",
       "      <td>0.0</td>\n",
       "      <td>Teen</td>\n",
       "      <td>Art &amp; Design</td>\n",
       "      <td>June 8, 2018</td>\n",
       "      <td>Varies with device</td>\n",
       "      <td>4.2 and up</td>\n",
       "      <td>High</td>\n",
       "      <td>12.281384</td>\n",
       "    </tr>\n",
       "    <tr>\n",
       "      <th>4</th>\n",
       "      <td>Pixel Draw - Number Art Coloring Book</td>\n",
       "      <td>ART_AND_DESIGN</td>\n",
       "      <td>4.3</td>\n",
       "      <td>967</td>\n",
       "      <td>2800000.0</td>\n",
       "      <td>100000</td>\n",
       "      <td>Free</td>\n",
       "      <td>0.0</td>\n",
       "      <td>Everyone</td>\n",
       "      <td>Art &amp; Design;Creativity</td>\n",
       "      <td>June 20, 2018</td>\n",
       "      <td>1.1</td>\n",
       "      <td>4.4 and up</td>\n",
       "      <td>High</td>\n",
       "      <td>6.874198</td>\n",
       "    </tr>\n",
       "    <tr>\n",
       "      <th>5</th>\n",
       "      <td>Paper flowers instructions</td>\n",
       "      <td>ART_AND_DESIGN</td>\n",
       "      <td>4.4</td>\n",
       "      <td>167</td>\n",
       "      <td>5600000.0</td>\n",
       "      <td>50000</td>\n",
       "      <td>Free</td>\n",
       "      <td>0.0</td>\n",
       "      <td>Everyone</td>\n",
       "      <td>Art &amp; Design</td>\n",
       "      <td>March 26, 2017</td>\n",
       "      <td>1.0</td>\n",
       "      <td>2.3 and up</td>\n",
       "      <td>High</td>\n",
       "      <td>5.117994</td>\n",
       "    </tr>\n",
       "    <tr>\n",
       "      <th>6</th>\n",
       "      <td>Smoke Effect Photo Maker - Smoke Editor</td>\n",
       "      <td>ART_AND_DESIGN</td>\n",
       "      <td>3.8</td>\n",
       "      <td>178</td>\n",
       "      <td>19000000.0</td>\n",
       "      <td>50000</td>\n",
       "      <td>Free</td>\n",
       "      <td>0.0</td>\n",
       "      <td>Everyone</td>\n",
       "      <td>Art &amp; Design</td>\n",
       "      <td>April 26, 2018</td>\n",
       "      <td>1.1</td>\n",
       "      <td>4.0.3 and up</td>\n",
       "      <td>High</td>\n",
       "      <td>5.181784</td>\n",
       "    </tr>\n",
       "    <tr>\n",
       "      <th>7</th>\n",
       "      <td>Infinite Painter</td>\n",
       "      <td>ART_AND_DESIGN</td>\n",
       "      <td>4.1</td>\n",
       "      <td>36815</td>\n",
       "      <td>29000000.0</td>\n",
       "      <td>1000000</td>\n",
       "      <td>Free</td>\n",
       "      <td>0.0</td>\n",
       "      <td>Everyone</td>\n",
       "      <td>Art &amp; Design</td>\n",
       "      <td>June 14, 2018</td>\n",
       "      <td>6.1.61.1</td>\n",
       "      <td>4.2 and up</td>\n",
       "      <td>High</td>\n",
       "      <td>10.513661</td>\n",
       "    </tr>\n",
       "    <tr>\n",
       "      <th>8</th>\n",
       "      <td>Garden Coloring Book</td>\n",
       "      <td>ART_AND_DESIGN</td>\n",
       "      <td>4.4</td>\n",
       "      <td>13791</td>\n",
       "      <td>33000000.0</td>\n",
       "      <td>1000000</td>\n",
       "      <td>Free</td>\n",
       "      <td>0.0</td>\n",
       "      <td>Everyone</td>\n",
       "      <td>Art &amp; Design</td>\n",
       "      <td>September 20, 2017</td>\n",
       "      <td>2.9.2</td>\n",
       "      <td>3.0 and up</td>\n",
       "      <td>High</td>\n",
       "      <td>9.531771</td>\n",
       "    </tr>\n",
       "    <tr>\n",
       "      <th>9</th>\n",
       "      <td>Kids Paint Free - Drawing Fun</td>\n",
       "      <td>ART_AND_DESIGN</td>\n",
       "      <td>4.7</td>\n",
       "      <td>121</td>\n",
       "      <td>3100000.0</td>\n",
       "      <td>10000</td>\n",
       "      <td>Free</td>\n",
       "      <td>0.0</td>\n",
       "      <td>Everyone</td>\n",
       "      <td>Art &amp; Design;Creativity</td>\n",
       "      <td>July 3, 2018</td>\n",
       "      <td>2.8</td>\n",
       "      <td>4.0.3 and up</td>\n",
       "      <td>High</td>\n",
       "      <td>4.795791</td>\n",
       "    </tr>\n",
       "  </tbody>\n",
       "</table>\n",
       "</div>"
      ],
      "text/plain": [
       "                                                 App        Category  Rating  \\\n",
       "0     Photo Editor & Candy Camera & Grid & ScrapBook  ART_AND_DESIGN     4.1   \n",
       "1                                Coloring book moana  ART_AND_DESIGN     3.9   \n",
       "2  U Launcher Lite – FREE Live Cool Themes, Hide ...  ART_AND_DESIGN     4.7   \n",
       "3                              Sketch - Draw & Paint  ART_AND_DESIGN     4.5   \n",
       "4              Pixel Draw - Number Art Coloring Book  ART_AND_DESIGN     4.3   \n",
       "5                         Paper flowers instructions  ART_AND_DESIGN     4.4   \n",
       "6            Smoke Effect Photo Maker - Smoke Editor  ART_AND_DESIGN     3.8   \n",
       "7                                   Infinite Painter  ART_AND_DESIGN     4.1   \n",
       "8                               Garden Coloring Book  ART_AND_DESIGN     4.4   \n",
       "9                      Kids Paint Free - Drawing Fun  ART_AND_DESIGN     4.7   \n",
       "\n",
       "   Reviews        Size  Installs  Type  Price Content Rating  \\\n",
       "0      159  19000000.0     10000  Free    0.0       Everyone   \n",
       "1      967  14000000.0    500000  Free    0.0       Everyone   \n",
       "2    87510   8700000.0   5000000  Free    0.0       Everyone   \n",
       "3   215644  25000000.0  50000000  Free    0.0           Teen   \n",
       "4      967   2800000.0    100000  Free    0.0       Everyone   \n",
       "5      167   5600000.0     50000  Free    0.0       Everyone   \n",
       "6      178  19000000.0     50000  Free    0.0       Everyone   \n",
       "7    36815  29000000.0   1000000  Free    0.0       Everyone   \n",
       "8    13791  33000000.0   1000000  Free    0.0       Everyone   \n",
       "9      121   3100000.0     10000  Free    0.0       Everyone   \n",
       "\n",
       "                      Genres        Last Updated         Current Ver  \\\n",
       "0               Art & Design     January 7, 2018               1.0.0   \n",
       "1  Art & Design;Pretend Play    January 15, 2018               2.0.0   \n",
       "2               Art & Design      August 1, 2018               1.2.4   \n",
       "3               Art & Design        June 8, 2018  Varies with device   \n",
       "4    Art & Design;Creativity       June 20, 2018                 1.1   \n",
       "5               Art & Design      March 26, 2017                 1.0   \n",
       "6               Art & Design      April 26, 2018                 1.1   \n",
       "7               Art & Design       June 14, 2018            6.1.61.1   \n",
       "8               Art & Design  September 20, 2017               2.9.2   \n",
       "9    Art & Design;Creativity        July 3, 2018                 2.8   \n",
       "\n",
       "    Android Ver Rating_category     Review  \n",
       "0  4.0.3 and up            High   5.068904  \n",
       "1  4.0.3 and up            High   6.874198  \n",
       "2  4.0.3 and up            High  11.379508  \n",
       "3    4.2 and up            High  12.281384  \n",
       "4    4.4 and up            High   6.874198  \n",
       "5    2.3 and up            High   5.117994  \n",
       "6  4.0.3 and up            High   5.181784  \n",
       "7    4.2 and up            High  10.513661  \n",
       "8    3.0 and up            High   9.531771  \n",
       "9  4.0.3 and up            High   4.795791  "
      ]
     },
     "execution_count": 99,
     "metadata": {},
     "output_type": "execute_result"
    }
   ],
   "source": [
    "df.head(10)"
   ]
  },
  {
   "cell_type": "code",
   "execution_count": 100,
   "id": "5abdec30",
   "metadata": {},
   "outputs": [
    {
     "data": {
      "text/plain": [
       "Index(['App', 'Category', 'Rating', 'Reviews', 'Size', 'Installs', 'Type',\n",
       "       'Price', 'Content Rating', 'Genres', 'Last Updated', 'Current Ver',\n",
       "       'Android Ver', 'Rating_category', 'Review'],\n",
       "      dtype='object')"
      ]
     },
     "execution_count": 100,
     "metadata": {},
     "output_type": "execute_result"
    }
   ],
   "source": [
    "df.columns\n"
   ]
  },
  {
   "cell_type": "code",
   "execution_count": 101,
   "id": "fc374f06",
   "metadata": {},
   "outputs": [
    {
     "data": {
      "text/plain": [
       "['App',\n",
       " 'Category',\n",
       " 'Type',\n",
       " 'Content Rating',\n",
       " 'Genres',\n",
       " 'Last Updated',\n",
       " 'Current Ver',\n",
       " 'Android Ver',\n",
       " 'Rating_category']"
      ]
     },
     "execution_count": 101,
     "metadata": {},
     "output_type": "execute_result"
    }
   ],
   "source": [
    "#lets extract numerical and categorical features \n",
    "\n",
    "#categorical fetaures\n",
    "\n",
    "categorical_features = [feature for feature in df.columns if df[feature].dtypes == 'O']\n",
    "categorical_features"
   ]
  },
  {
   "cell_type": "code",
   "execution_count": 102,
   "id": "5f2919a4",
   "metadata": {},
   "outputs": [
    {
     "data": {
      "text/plain": [
       "['Rating', 'Reviews', 'Size', 'Installs', 'Price', 'Review']"
      ]
     },
     "execution_count": 102,
     "metadata": {},
     "output_type": "execute_result"
    }
   ],
   "source": [
    "## numerical features\n",
    "numerical_features = [feature for feature in df.columns if df[feature].dtypes != 'O']\n",
    "numerical_features"
   ]
  },
  {
   "cell_type": "markdown",
   "id": "f2c9cf15",
   "metadata": {},
   "source": [
    "# Plan of action for columns\n",
    "* Drop \"App\" column as it only states the name of the app and we are not doing a sentiment analysis to check if the name has any affect on taget variable\n",
    "* Drop \"Rating\" column as we have converted the values as high and low and we will later do the encoding.\n",
    "* we will drop the Last Updated','Current Ver' t=columns as well\n",
    "\n"
   ]
  },
  {
   "cell_type": "code",
   "execution_count": 103,
   "id": "9e059df8",
   "metadata": {},
   "outputs": [
    {
     "data": {
      "text/plain": [
       "Index(['App', 'Category', 'Rating', 'Reviews', 'Size', 'Installs', 'Type',\n",
       "       'Price', 'Content Rating', 'Genres', 'Last Updated', 'Current Ver',\n",
       "       'Android Ver', 'Rating_category', 'Review'],\n",
       "      dtype='object')"
      ]
     },
     "execution_count": 103,
     "metadata": {},
     "output_type": "execute_result"
    }
   ],
   "source": [
    "df.columns"
   ]
  },
  {
   "cell_type": "code",
   "execution_count": 104,
   "id": "f2e025f6",
   "metadata": {},
   "outputs": [],
   "source": [
    "columns_to_drop = ['App', 'Rating', 'Current Ver','Android Ver','Reviews']"
   ]
  },
  {
   "cell_type": "code",
   "execution_count": 105,
   "id": "03f007bb",
   "metadata": {},
   "outputs": [
    {
     "data": {
      "text/plain": [
       "['App', 'Rating', 'Current Ver', 'Android Ver', 'Reviews']"
      ]
     },
     "execution_count": 105,
     "metadata": {},
     "output_type": "execute_result"
    }
   ],
   "source": [
    "columns_to_drop"
   ]
  },
  {
   "cell_type": "code",
   "execution_count": null,
   "id": "ce7d5ea5",
   "metadata": {},
   "outputs": [],
   "source": []
  },
  {
   "cell_type": "code",
   "execution_count": 106,
   "id": "bf29b2f9",
   "metadata": {},
   "outputs": [],
   "source": [
    "df = df.drop(columns_to_drop, axis=1)"
   ]
  },
  {
   "cell_type": "code",
   "execution_count": 107,
   "id": "db029838",
   "metadata": {},
   "outputs": [
    {
     "data": {
      "text/html": [
       "<div>\n",
       "<style scoped>\n",
       "    .dataframe tbody tr th:only-of-type {\n",
       "        vertical-align: middle;\n",
       "    }\n",
       "\n",
       "    .dataframe tbody tr th {\n",
       "        vertical-align: top;\n",
       "    }\n",
       "\n",
       "    .dataframe thead th {\n",
       "        text-align: right;\n",
       "    }\n",
       "</style>\n",
       "<table border=\"1\" class=\"dataframe\">\n",
       "  <thead>\n",
       "    <tr style=\"text-align: right;\">\n",
       "      <th></th>\n",
       "      <th>Category</th>\n",
       "      <th>Size</th>\n",
       "      <th>Installs</th>\n",
       "      <th>Type</th>\n",
       "      <th>Price</th>\n",
       "      <th>Content Rating</th>\n",
       "      <th>Genres</th>\n",
       "      <th>Last Updated</th>\n",
       "      <th>Rating_category</th>\n",
       "      <th>Review</th>\n",
       "    </tr>\n",
       "  </thead>\n",
       "  <tbody>\n",
       "    <tr>\n",
       "      <th>0</th>\n",
       "      <td>ART_AND_DESIGN</td>\n",
       "      <td>19000000.0</td>\n",
       "      <td>10000</td>\n",
       "      <td>Free</td>\n",
       "      <td>0.0</td>\n",
       "      <td>Everyone</td>\n",
       "      <td>Art &amp; Design</td>\n",
       "      <td>January 7, 2018</td>\n",
       "      <td>High</td>\n",
       "      <td>5.068904</td>\n",
       "    </tr>\n",
       "    <tr>\n",
       "      <th>1</th>\n",
       "      <td>ART_AND_DESIGN</td>\n",
       "      <td>14000000.0</td>\n",
       "      <td>500000</td>\n",
       "      <td>Free</td>\n",
       "      <td>0.0</td>\n",
       "      <td>Everyone</td>\n",
       "      <td>Art &amp; Design;Pretend Play</td>\n",
       "      <td>January 15, 2018</td>\n",
       "      <td>High</td>\n",
       "      <td>6.874198</td>\n",
       "    </tr>\n",
       "  </tbody>\n",
       "</table>\n",
       "</div>"
      ],
      "text/plain": [
       "         Category        Size  Installs  Type  Price Content Rating  \\\n",
       "0  ART_AND_DESIGN  19000000.0     10000  Free    0.0       Everyone   \n",
       "1  ART_AND_DESIGN  14000000.0    500000  Free    0.0       Everyone   \n",
       "\n",
       "                      Genres      Last Updated Rating_category    Review  \n",
       "0               Art & Design   January 7, 2018            High  5.068904  \n",
       "1  Art & Design;Pretend Play  January 15, 2018            High  6.874198  "
      ]
     },
     "execution_count": 107,
     "metadata": {},
     "output_type": "execute_result"
    }
   ],
   "source": [
    "df.head(2)"
   ]
  },
  {
   "cell_type": "code",
   "execution_count": 108,
   "id": "b586096d",
   "metadata": {},
   "outputs": [
    {
     "data": {
      "text/plain": [
       "0        1\n",
       "1        1\n",
       "2        1\n",
       "3        1\n",
       "4        1\n",
       "        ..\n",
       "10833    1\n",
       "10834    1\n",
       "10836    1\n",
       "10837    1\n",
       "10840    1\n",
       "Name: Rating_category, Length: 7418, dtype: int64"
      ]
     },
     "execution_count": 108,
     "metadata": {},
     "output_type": "execute_result"
    }
   ],
   "source": [
    "df[\"Rating_category\"] = df['Rating_category'].replace({'High': 1, 'Low': 0})\n",
    "df[\"Rating_category\"]"
   ]
  },
  {
   "cell_type": "code",
   "execution_count": 109,
   "id": "85b2b5e2",
   "metadata": {},
   "outputs": [
    {
     "data": {
      "text/plain": [
       "1    6594\n",
       "0     824\n",
       "Name: Rating_category, dtype: int64"
      ]
     },
     "execution_count": 109,
     "metadata": {},
     "output_type": "execute_result"
    }
   ],
   "source": [
    "df[\"Rating_category\"].value_counts()"
   ]
  },
  {
   "cell_type": "code",
   "execution_count": 110,
   "id": "6b18eb87",
   "metadata": {},
   "outputs": [
    {
     "data": {
      "text/html": [
       "<div>\n",
       "<style scoped>\n",
       "    .dataframe tbody tr th:only-of-type {\n",
       "        vertical-align: middle;\n",
       "    }\n",
       "\n",
       "    .dataframe tbody tr th {\n",
       "        vertical-align: top;\n",
       "    }\n",
       "\n",
       "    .dataframe thead th {\n",
       "        text-align: right;\n",
       "    }\n",
       "</style>\n",
       "<table border=\"1\" class=\"dataframe\">\n",
       "  <thead>\n",
       "    <tr style=\"text-align: right;\">\n",
       "      <th></th>\n",
       "      <th>Category</th>\n",
       "      <th>Size</th>\n",
       "      <th>Installs</th>\n",
       "      <th>Type</th>\n",
       "      <th>Price</th>\n",
       "      <th>Content Rating</th>\n",
       "      <th>Genres</th>\n",
       "      <th>Last Updated</th>\n",
       "      <th>Rating_category</th>\n",
       "      <th>Review</th>\n",
       "    </tr>\n",
       "  </thead>\n",
       "  <tbody>\n",
       "    <tr>\n",
       "      <th>0</th>\n",
       "      <td>ART_AND_DESIGN</td>\n",
       "      <td>19000000.0</td>\n",
       "      <td>10000</td>\n",
       "      <td>Free</td>\n",
       "      <td>0.0</td>\n",
       "      <td>Everyone</td>\n",
       "      <td>Art &amp; Design</td>\n",
       "      <td>January 7, 2018</td>\n",
       "      <td>1</td>\n",
       "      <td>5.068904</td>\n",
       "    </tr>\n",
       "  </tbody>\n",
       "</table>\n",
       "</div>"
      ],
      "text/plain": [
       "         Category        Size  Installs  Type  Price Content Rating  \\\n",
       "0  ART_AND_DESIGN  19000000.0     10000  Free    0.0       Everyone   \n",
       "\n",
       "         Genres     Last Updated  Rating_category    Review  \n",
       "0  Art & Design  January 7, 2018                1  5.068904  "
      ]
     },
     "execution_count": 110,
     "metadata": {},
     "output_type": "execute_result"
    }
   ],
   "source": [
    "df.head(1)"
   ]
  },
  {
   "cell_type": "code",
   "execution_count": 111,
   "id": "1ce01fea",
   "metadata": {},
   "outputs": [
    {
     "data": {
      "text/plain": [
       "(7418, 10)"
      ]
     },
     "execution_count": 111,
     "metadata": {},
     "output_type": "execute_result"
    }
   ],
   "source": [
    "df.shape"
   ]
  },
  {
   "cell_type": "markdown",
   "id": "52a775ae",
   "metadata": {},
   "source": [
    "## Rating_category column has been encoded"
   ]
  },
  {
   "cell_type": "markdown",
   "id": "d4023844",
   "metadata": {},
   "source": [
    "## 3.3 Encode the categorical columns."
   ]
  },
  {
   "cell_type": "code",
   "execution_count": 112,
   "id": "a4cf9643",
   "metadata": {},
   "outputs": [
    {
     "data": {
      "text/plain": [
       "Index(['Category', 'Size', 'Installs', 'Type', 'Price', 'Content Rating',\n",
       "       'Genres', 'Last Updated', 'Rating_category', 'Review'],\n",
       "      dtype='object')"
      ]
     },
     "execution_count": 112,
     "metadata": {},
     "output_type": "execute_result"
    }
   ],
   "source": [
    "df.columns"
   ]
  },
  {
   "cell_type": "code",
   "execution_count": 113,
   "id": "3bcbad99",
   "metadata": {},
   "outputs": [
    {
     "data": {
      "text/plain": [
       "['Category', 'Type', 'Content Rating', 'Genres', 'Last Updated']"
      ]
     },
     "execution_count": 113,
     "metadata": {},
     "output_type": "execute_result"
    }
   ],
   "source": [
    "## cat features\n",
    "categorical_features = [feature for feature in df.columns if df[feature].dtypes == 'O']\n",
    "categorical_features"
   ]
  },
  {
   "cell_type": "code",
   "execution_count": 114,
   "id": "72bbfe1c",
   "metadata": {},
   "outputs": [
    {
     "data": {
      "text/plain": [
       "['Size', 'Installs', 'Price', 'Rating_category', 'Review']"
      ]
     },
     "execution_count": 114,
     "metadata": {},
     "output_type": "execute_result"
    }
   ],
   "source": [
    "## numerical_features \n",
    "numerical_features = [feature for feature in df.columns if df[feature].dtypes != 'O']\n",
    "numerical_features"
   ]
  },
  {
   "cell_type": "code",
   "execution_count": 115,
   "id": "92c4850b",
   "metadata": {},
   "outputs": [
    {
     "data": {
      "text/plain": [
       "array(['Art & Design', 'Art & Design;Pretend Play',\n",
       "       'Art & Design;Creativity', 'Auto & Vehicles', 'Beauty',\n",
       "       'Books & Reference', 'Business', 'Comics', 'Comics;Creativity',\n",
       "       'Communication', 'Dating', 'Education', 'Education;Creativity',\n",
       "       'Education;Education', 'Education;Action & Adventure',\n",
       "       'Education;Pretend Play', 'Education;Brain Games', 'Entertainment',\n",
       "       'Entertainment;Brain Games', 'Entertainment;Music & Video',\n",
       "       'Events', 'Finance', 'Food & Drink', 'Health & Fitness',\n",
       "       'House & Home', 'Libraries & Demo', 'Lifestyle',\n",
       "       'Lifestyle;Pretend Play', 'Adventure;Action & Adventure', 'Arcade',\n",
       "       'Casual', 'Card', 'Casual;Pretend Play', 'Strategy', 'Action',\n",
       "       'Puzzle', 'Sports', 'Word', 'Racing', 'Casual;Creativity',\n",
       "       'Simulation', 'Adventure', 'Board', 'Trivia', 'Role Playing',\n",
       "       'Simulation;Education', 'Action;Action & Adventure',\n",
       "       'Casual;Brain Games', 'Simulation;Action & Adventure',\n",
       "       'Educational;Creativity', 'Puzzle;Brain Games',\n",
       "       'Educational;Education', 'Card;Brain Games',\n",
       "       'Educational;Brain Games', 'Educational;Pretend Play',\n",
       "       'Casual;Action & Adventure', 'Entertainment;Education',\n",
       "       'Casual;Education', 'Music;Music & Video', 'Arcade;Pretend Play',\n",
       "       'Simulation;Pretend Play', 'Puzzle;Creativity',\n",
       "       'Racing;Action & Adventure', 'Educational;Action & Adventure',\n",
       "       'Arcade;Action & Adventure', 'Entertainment;Action & Adventure',\n",
       "       'Puzzle;Action & Adventure', 'Role Playing;Action & Adventure',\n",
       "       'Strategy;Action & Adventure', 'Music & Audio;Music & Video',\n",
       "       'Health & Fitness;Education', 'Adventure;Education',\n",
       "       'Board;Brain Games', 'Board;Action & Adventure',\n",
       "       'Board;Pretend Play', 'Casual;Music & Video',\n",
       "       'Education;Music & Video', 'Role Playing;Pretend Play',\n",
       "       'Entertainment;Pretend Play', 'Video Players & Editors;Creativity',\n",
       "       'Card;Action & Adventure', 'Medical', 'Social', 'Shopping',\n",
       "       'Photography', 'Travel & Local',\n",
       "       'Travel & Local;Action & Adventure', 'Tools', 'Personalization',\n",
       "       'Productivity', 'Parenting', 'Parenting;Brain Games',\n",
       "       'Parenting;Education', 'Parenting;Music & Video', 'Weather',\n",
       "       'Video Players & Editors', 'News & Magazines', 'Maps & Navigation',\n",
       "       'Health & Fitness;Action & Adventure', 'Music', 'Educational',\n",
       "       'Casino', 'Adventure;Brain Games',\n",
       "       'Video Players & Editors;Music & Video',\n",
       "       'Entertainment;Creativity', 'Sports;Action & Adventure',\n",
       "       'Books & Reference;Education', 'Puzzle;Education',\n",
       "       'Role Playing;Brain Games', 'Strategy;Education',\n",
       "       'Racing;Pretend Play', 'Strategy;Creativity'], dtype=object)"
      ]
     },
     "execution_count": 115,
     "metadata": {},
     "output_type": "execute_result"
    }
   ],
   "source": [
    "df[\"Genres\"].unique()"
   ]
  },
  {
   "cell_type": "code",
   "execution_count": 116,
   "id": "915b7e90",
   "metadata": {},
   "outputs": [
    {
     "data": {
      "text/plain": [
       "array(['Free', 'Paid'], dtype=object)"
      ]
     },
     "execution_count": 116,
     "metadata": {},
     "output_type": "execute_result"
    }
   ],
   "source": [
    "df[\"Type\"].unique()"
   ]
  },
  {
   "cell_type": "code",
   "execution_count": 117,
   "id": "bef02a8d",
   "metadata": {},
   "outputs": [
    {
     "data": {
      "text/plain": [
       "0        0\n",
       "1        0\n",
       "2        0\n",
       "3        0\n",
       "4        0\n",
       "        ..\n",
       "10833    0\n",
       "10834    0\n",
       "10836    0\n",
       "10837    0\n",
       "10840    0\n",
       "Name: Type, Length: 7418, dtype: int64"
      ]
     },
     "execution_count": 117,
     "metadata": {},
     "output_type": "execute_result"
    }
   ],
   "source": [
    "## Encoding the categorical columns\n",
    "\n",
    "\n",
    "## Encoding the \"Type column\"\n",
    "df[\"Type\"] = df[\"Type\"].replace({\"Free\":0, \"Paid\":1})\n",
    "df[\"Type\"]"
   ]
  },
  {
   "cell_type": "code",
   "execution_count": 118,
   "id": "7c5a3003",
   "metadata": {},
   "outputs": [
    {
     "data": {
      "text/plain": [
       "array([0, 1])"
      ]
     },
     "execution_count": 118,
     "metadata": {},
     "output_type": "execute_result"
    }
   ],
   "source": [
    "df[\"Type\"].unique()"
   ]
  },
  {
   "cell_type": "code",
   "execution_count": 119,
   "id": "f5ce9fc1",
   "metadata": {},
   "outputs": [
    {
     "data": {
      "text/plain": [
       "array(['ART_AND_DESIGN', 'AUTO_AND_VEHICLES', 'BEAUTY',\n",
       "       'BOOKS_AND_REFERENCE', 'BUSINESS', 'COMICS', 'COMMUNICATION',\n",
       "       'DATING', 'EDUCATION', 'ENTERTAINMENT', 'EVENTS', 'FINANCE',\n",
       "       'FOOD_AND_DRINK', 'HEALTH_AND_FITNESS', 'HOUSE_AND_HOME',\n",
       "       'LIBRARIES_AND_DEMO', 'LIFESTYLE', 'GAME', 'FAMILY', 'MEDICAL',\n",
       "       'SOCIAL', 'SHOPPING', 'PHOTOGRAPHY', 'SPORTS', 'TRAVEL_AND_LOCAL',\n",
       "       'TOOLS', 'PERSONALIZATION', 'PRODUCTIVITY', 'PARENTING', 'WEATHER',\n",
       "       'VIDEO_PLAYERS', 'NEWS_AND_MAGAZINES', 'MAPS_AND_NAVIGATION'],\n",
       "      dtype=object)"
      ]
     },
     "execution_count": 119,
     "metadata": {},
     "output_type": "execute_result"
    }
   ],
   "source": [
    "df[\"Category\"].unique()"
   ]
  },
  {
   "cell_type": "code",
   "execution_count": 120,
   "id": "5f52562d",
   "metadata": {
    "scrolled": true
   },
   "outputs": [],
   "source": [
    "df = df.drop(\"Last Updated\", axis = 1)"
   ]
  },
  {
   "cell_type": "code",
   "execution_count": 121,
   "id": "fff78098",
   "metadata": {},
   "outputs": [
    {
     "data": {
      "text/html": [
       "<div>\n",
       "<style scoped>\n",
       "    .dataframe tbody tr th:only-of-type {\n",
       "        vertical-align: middle;\n",
       "    }\n",
       "\n",
       "    .dataframe tbody tr th {\n",
       "        vertical-align: top;\n",
       "    }\n",
       "\n",
       "    .dataframe thead th {\n",
       "        text-align: right;\n",
       "    }\n",
       "</style>\n",
       "<table border=\"1\" class=\"dataframe\">\n",
       "  <thead>\n",
       "    <tr style=\"text-align: right;\">\n",
       "      <th></th>\n",
       "      <th>Category</th>\n",
       "      <th>Size</th>\n",
       "      <th>Installs</th>\n",
       "      <th>Type</th>\n",
       "      <th>Price</th>\n",
       "      <th>Content Rating</th>\n",
       "      <th>Genres</th>\n",
       "      <th>Rating_category</th>\n",
       "      <th>Review</th>\n",
       "    </tr>\n",
       "  </thead>\n",
       "  <tbody>\n",
       "    <tr>\n",
       "      <th>0</th>\n",
       "      <td>ART_AND_DESIGN</td>\n",
       "      <td>19000000.0</td>\n",
       "      <td>10000</td>\n",
       "      <td>0</td>\n",
       "      <td>0.0</td>\n",
       "      <td>Everyone</td>\n",
       "      <td>Art &amp; Design</td>\n",
       "      <td>1</td>\n",
       "      <td>5.068904</td>\n",
       "    </tr>\n",
       "    <tr>\n",
       "      <th>1</th>\n",
       "      <td>ART_AND_DESIGN</td>\n",
       "      <td>14000000.0</td>\n",
       "      <td>500000</td>\n",
       "      <td>0</td>\n",
       "      <td>0.0</td>\n",
       "      <td>Everyone</td>\n",
       "      <td>Art &amp; Design;Pretend Play</td>\n",
       "      <td>1</td>\n",
       "      <td>6.874198</td>\n",
       "    </tr>\n",
       "    <tr>\n",
       "      <th>2</th>\n",
       "      <td>ART_AND_DESIGN</td>\n",
       "      <td>8700000.0</td>\n",
       "      <td>5000000</td>\n",
       "      <td>0</td>\n",
       "      <td>0.0</td>\n",
       "      <td>Everyone</td>\n",
       "      <td>Art &amp; Design</td>\n",
       "      <td>1</td>\n",
       "      <td>11.379508</td>\n",
       "    </tr>\n",
       "    <tr>\n",
       "      <th>3</th>\n",
       "      <td>ART_AND_DESIGN</td>\n",
       "      <td>25000000.0</td>\n",
       "      <td>50000000</td>\n",
       "      <td>0</td>\n",
       "      <td>0.0</td>\n",
       "      <td>Teen</td>\n",
       "      <td>Art &amp; Design</td>\n",
       "      <td>1</td>\n",
       "      <td>12.281384</td>\n",
       "    </tr>\n",
       "    <tr>\n",
       "      <th>4</th>\n",
       "      <td>ART_AND_DESIGN</td>\n",
       "      <td>2800000.0</td>\n",
       "      <td>100000</td>\n",
       "      <td>0</td>\n",
       "      <td>0.0</td>\n",
       "      <td>Everyone</td>\n",
       "      <td>Art &amp; Design;Creativity</td>\n",
       "      <td>1</td>\n",
       "      <td>6.874198</td>\n",
       "    </tr>\n",
       "  </tbody>\n",
       "</table>\n",
       "</div>"
      ],
      "text/plain": [
       "         Category        Size  Installs  Type  Price Content Rating  \\\n",
       "0  ART_AND_DESIGN  19000000.0     10000     0    0.0       Everyone   \n",
       "1  ART_AND_DESIGN  14000000.0    500000     0    0.0       Everyone   \n",
       "2  ART_AND_DESIGN   8700000.0   5000000     0    0.0       Everyone   \n",
       "3  ART_AND_DESIGN  25000000.0  50000000     0    0.0           Teen   \n",
       "4  ART_AND_DESIGN   2800000.0    100000     0    0.0       Everyone   \n",
       "\n",
       "                      Genres  Rating_category     Review  \n",
       "0               Art & Design                1   5.068904  \n",
       "1  Art & Design;Pretend Play                1   6.874198  \n",
       "2               Art & Design                1  11.379508  \n",
       "3               Art & Design                1  12.281384  \n",
       "4    Art & Design;Creativity                1   6.874198  "
      ]
     },
     "execution_count": 121,
     "metadata": {},
     "output_type": "execute_result"
    }
   ],
   "source": [
    "df.head(5)"
   ]
  },
  {
   "cell_type": "code",
   "execution_count": 122,
   "id": "de587228",
   "metadata": {},
   "outputs": [
    {
     "data": {
      "text/plain": [
       "array(['Everyone', 'Teen', 'Everyone 10+', 'Mature 17+',\n",
       "       'Adults only 18+', 'Unrated'], dtype=object)"
      ]
     },
     "execution_count": 122,
     "metadata": {},
     "output_type": "execute_result"
    }
   ],
   "source": [
    "df[\"Content Rating\"].unique()"
   ]
  },
  {
   "cell_type": "markdown",
   "id": "4ab5ac1d",
   "metadata": {},
   "source": [
    "## Performing Frequency Coding over Genres column as the number of sub categories is very large."
   ]
  },
  {
   "cell_type": "code",
   "execution_count": 123,
   "id": "e7980537",
   "metadata": {},
   "outputs": [
    {
     "data": {
      "text/html": [
       "<div>\n",
       "<style scoped>\n",
       "    .dataframe tbody tr th:only-of-type {\n",
       "        vertical-align: middle;\n",
       "    }\n",
       "\n",
       "    .dataframe tbody tr th {\n",
       "        vertical-align: top;\n",
       "    }\n",
       "\n",
       "    .dataframe thead th {\n",
       "        text-align: right;\n",
       "    }\n",
       "</style>\n",
       "<table border=\"1\" class=\"dataframe\">\n",
       "  <thead>\n",
       "    <tr style=\"text-align: right;\">\n",
       "      <th></th>\n",
       "      <th>Category</th>\n",
       "      <th>Size</th>\n",
       "      <th>Installs</th>\n",
       "      <th>Type</th>\n",
       "      <th>Price</th>\n",
       "      <th>Content Rating</th>\n",
       "      <th>Genres</th>\n",
       "      <th>Rating_category</th>\n",
       "      <th>Review</th>\n",
       "      <th>Genres_freq_encoded</th>\n",
       "    </tr>\n",
       "  </thead>\n",
       "  <tbody>\n",
       "    <tr>\n",
       "      <th>0</th>\n",
       "      <td>ART_AND_DESIGN</td>\n",
       "      <td>19000000.0</td>\n",
       "      <td>10000</td>\n",
       "      <td>0</td>\n",
       "      <td>0.0</td>\n",
       "      <td>Everyone</td>\n",
       "      <td>Art &amp; Design</td>\n",
       "      <td>1</td>\n",
       "      <td>5.068904</td>\n",
       "      <td>0.007010</td>\n",
       "    </tr>\n",
       "    <tr>\n",
       "      <th>1</th>\n",
       "      <td>ART_AND_DESIGN</td>\n",
       "      <td>14000000.0</td>\n",
       "      <td>500000</td>\n",
       "      <td>0</td>\n",
       "      <td>0.0</td>\n",
       "      <td>Everyone</td>\n",
       "      <td>Art &amp; Design;Pretend Play</td>\n",
       "      <td>1</td>\n",
       "      <td>6.874198</td>\n",
       "      <td>0.000270</td>\n",
       "    </tr>\n",
       "    <tr>\n",
       "      <th>2</th>\n",
       "      <td>ART_AND_DESIGN</td>\n",
       "      <td>8700000.0</td>\n",
       "      <td>5000000</td>\n",
       "      <td>0</td>\n",
       "      <td>0.0</td>\n",
       "      <td>Everyone</td>\n",
       "      <td>Art &amp; Design</td>\n",
       "      <td>1</td>\n",
       "      <td>11.379508</td>\n",
       "      <td>0.007010</td>\n",
       "    </tr>\n",
       "    <tr>\n",
       "      <th>3</th>\n",
       "      <td>ART_AND_DESIGN</td>\n",
       "      <td>25000000.0</td>\n",
       "      <td>50000000</td>\n",
       "      <td>0</td>\n",
       "      <td>0.0</td>\n",
       "      <td>Teen</td>\n",
       "      <td>Art &amp; Design</td>\n",
       "      <td>1</td>\n",
       "      <td>12.281384</td>\n",
       "      <td>0.007010</td>\n",
       "    </tr>\n",
       "    <tr>\n",
       "      <th>4</th>\n",
       "      <td>ART_AND_DESIGN</td>\n",
       "      <td>2800000.0</td>\n",
       "      <td>100000</td>\n",
       "      <td>0</td>\n",
       "      <td>0.0</td>\n",
       "      <td>Everyone</td>\n",
       "      <td>Art &amp; Design;Creativity</td>\n",
       "      <td>1</td>\n",
       "      <td>6.874198</td>\n",
       "      <td>0.000809</td>\n",
       "    </tr>\n",
       "  </tbody>\n",
       "</table>\n",
       "</div>"
      ],
      "text/plain": [
       "         Category        Size  Installs  Type  Price Content Rating  \\\n",
       "0  ART_AND_DESIGN  19000000.0     10000     0    0.0       Everyone   \n",
       "1  ART_AND_DESIGN  14000000.0    500000     0    0.0       Everyone   \n",
       "2  ART_AND_DESIGN   8700000.0   5000000     0    0.0       Everyone   \n",
       "3  ART_AND_DESIGN  25000000.0  50000000     0    0.0           Teen   \n",
       "4  ART_AND_DESIGN   2800000.0    100000     0    0.0       Everyone   \n",
       "\n",
       "                      Genres  Rating_category     Review  Genres_freq_encoded  \n",
       "0               Art & Design                1   5.068904             0.007010  \n",
       "1  Art & Design;Pretend Play                1   6.874198             0.000270  \n",
       "2               Art & Design                1  11.379508             0.007010  \n",
       "3               Art & Design                1  12.281384             0.007010  \n",
       "4    Art & Design;Creativity                1   6.874198             0.000809  "
      ]
     },
     "execution_count": 123,
     "metadata": {},
     "output_type": "execute_result"
    }
   ],
   "source": [
    "\n",
    "# Specify the categorical column to be frequency encoded\n",
    "categorical_column = 'Genres'\n",
    "\n",
    "# Calculate the frequency of each category\n",
    "category_frequencies = df[categorical_column].value_counts(normalize=True)\n",
    "\n",
    "# Create a dictionary mapping categories to frequencies\n",
    "freq_encoding_dict = category_frequencies.to_dict()\n",
    "\n",
    "# Replace the categories with their frequencies\n",
    "df[categorical_column + '_freq_encoded'] = df[categorical_column].replace(freq_encoding_dict)\n",
    "\n",
    "# Print the resulting DataFrame\n",
    "df.head()\n"
   ]
  },
  {
   "cell_type": "code",
   "execution_count": 124,
   "id": "986fdd39",
   "metadata": {
    "scrolled": true
   },
   "outputs": [
    {
     "data": {
      "text/plain": [
       "0.085333    633\n",
       "0.037342    554\n",
       "0.030332    450\n",
       "0.057697    428\n",
       "0.054462    404\n",
       "0.042869    318\n",
       "0.036668    272\n",
       "0.035454    263\n",
       "0.033028    245\n",
       "0.031140    231\n",
       "0.027770    206\n",
       "0.026827    199\n",
       "0.024939    185\n",
       "0.024400    181\n",
       "0.022917    170\n",
       "0.021839    162\n",
       "0.021434    159\n",
       "0.021300    158\n",
       "0.019682    146\n",
       "0.019277    143\n",
       "0.019008    141\n",
       "0.015503    115\n",
       "0.014020    104\n",
       "0.013885    103\n",
       "0.012807     95\n",
       "0.012672     94\n",
       "0.011189     83\n",
       "0.011054     82\n",
       "0.005123     76\n",
       "0.004988     74\n",
       "0.009167     68\n",
       "0.008493     63\n",
       "0.008223     61\n",
       "0.007010     52\n",
       "0.001752     52\n",
       "0.006875     51\n",
       "0.006740     50\n",
       "0.006471     48\n",
       "0.001887     42\n",
       "0.005257     39\n",
       "0.004718     35\n",
       "0.002292     34\n",
       "0.004314     32\n",
       "0.004179     31\n",
       "0.002022     30\n",
       "0.004044     30\n",
       "0.003909     29\n",
       "0.003640     27\n",
       "0.000674     25\n",
       "0.003101     23\n",
       "0.000270     22\n",
       "0.000404     21\n",
       "0.000135     20\n",
       "0.000809     18\n",
       "0.000539     12\n",
       "0.001618     12\n",
       "0.001348     10\n",
       "0.000944      7\n",
       "Name: Genres_freq_encoded, dtype: int64"
      ]
     },
     "execution_count": 124,
     "metadata": {},
     "output_type": "execute_result"
    }
   ],
   "source": [
    "df[\"Genres_freq_encoded\"].value_counts()"
   ]
  },
  {
   "cell_type": "markdown",
   "id": "951019a3",
   "metadata": {},
   "source": [
    "## Perform Frequency encoding on Category as the sub categories are large in number"
   ]
  },
  {
   "cell_type": "code",
   "execution_count": 125,
   "id": "a78a9d48",
   "metadata": {},
   "outputs": [
    {
     "data": {
      "text/html": [
       "<div>\n",
       "<style scoped>\n",
       "    .dataframe tbody tr th:only-of-type {\n",
       "        vertical-align: middle;\n",
       "    }\n",
       "\n",
       "    .dataframe tbody tr th {\n",
       "        vertical-align: top;\n",
       "    }\n",
       "\n",
       "    .dataframe thead th {\n",
       "        text-align: right;\n",
       "    }\n",
       "</style>\n",
       "<table border=\"1\" class=\"dataframe\">\n",
       "  <thead>\n",
       "    <tr style=\"text-align: right;\">\n",
       "      <th></th>\n",
       "      <th>Category</th>\n",
       "      <th>Size</th>\n",
       "      <th>Installs</th>\n",
       "      <th>Type</th>\n",
       "      <th>Price</th>\n",
       "      <th>Content Rating</th>\n",
       "      <th>Genres</th>\n",
       "      <th>Rating_category</th>\n",
       "      <th>Review</th>\n",
       "      <th>Genres_freq_encoded</th>\n",
       "      <th>Categoryfreq_encoded</th>\n",
       "    </tr>\n",
       "  </thead>\n",
       "  <tbody>\n",
       "    <tr>\n",
       "      <th>0</th>\n",
       "      <td>ART_AND_DESIGN</td>\n",
       "      <td>19000000.0</td>\n",
       "      <td>10000</td>\n",
       "      <td>0</td>\n",
       "      <td>0.0</td>\n",
       "      <td>Everyone</td>\n",
       "      <td>Art &amp; Design</td>\n",
       "      <td>1</td>\n",
       "      <td>5.068904</td>\n",
       "      <td>0.007010</td>\n",
       "      <td>0.007819</td>\n",
       "    </tr>\n",
       "    <tr>\n",
       "      <th>1</th>\n",
       "      <td>ART_AND_DESIGN</td>\n",
       "      <td>14000000.0</td>\n",
       "      <td>500000</td>\n",
       "      <td>0</td>\n",
       "      <td>0.0</td>\n",
       "      <td>Everyone</td>\n",
       "      <td>Art &amp; Design;Pretend Play</td>\n",
       "      <td>1</td>\n",
       "      <td>6.874198</td>\n",
       "      <td>0.000270</td>\n",
       "      <td>0.007819</td>\n",
       "    </tr>\n",
       "    <tr>\n",
       "      <th>2</th>\n",
       "      <td>ART_AND_DESIGN</td>\n",
       "      <td>8700000.0</td>\n",
       "      <td>5000000</td>\n",
       "      <td>0</td>\n",
       "      <td>0.0</td>\n",
       "      <td>Everyone</td>\n",
       "      <td>Art &amp; Design</td>\n",
       "      <td>1</td>\n",
       "      <td>11.379508</td>\n",
       "      <td>0.007010</td>\n",
       "      <td>0.007819</td>\n",
       "    </tr>\n",
       "    <tr>\n",
       "      <th>3</th>\n",
       "      <td>ART_AND_DESIGN</td>\n",
       "      <td>25000000.0</td>\n",
       "      <td>50000000</td>\n",
       "      <td>0</td>\n",
       "      <td>0.0</td>\n",
       "      <td>Teen</td>\n",
       "      <td>Art &amp; Design</td>\n",
       "      <td>1</td>\n",
       "      <td>12.281384</td>\n",
       "      <td>0.007010</td>\n",
       "      <td>0.007819</td>\n",
       "    </tr>\n",
       "    <tr>\n",
       "      <th>4</th>\n",
       "      <td>ART_AND_DESIGN</td>\n",
       "      <td>2800000.0</td>\n",
       "      <td>100000</td>\n",
       "      <td>0</td>\n",
       "      <td>0.0</td>\n",
       "      <td>Everyone</td>\n",
       "      <td>Art &amp; Design;Creativity</td>\n",
       "      <td>1</td>\n",
       "      <td>6.874198</td>\n",
       "      <td>0.000809</td>\n",
       "      <td>0.007819</td>\n",
       "    </tr>\n",
       "  </tbody>\n",
       "</table>\n",
       "</div>"
      ],
      "text/plain": [
       "         Category        Size  Installs  Type  Price Content Rating  \\\n",
       "0  ART_AND_DESIGN  19000000.0     10000     0    0.0       Everyone   \n",
       "1  ART_AND_DESIGN  14000000.0    500000     0    0.0       Everyone   \n",
       "2  ART_AND_DESIGN   8700000.0   5000000     0    0.0       Everyone   \n",
       "3  ART_AND_DESIGN  25000000.0  50000000     0    0.0           Teen   \n",
       "4  ART_AND_DESIGN   2800000.0    100000     0    0.0       Everyone   \n",
       "\n",
       "                      Genres  Rating_category     Review  Genres_freq_encoded  \\\n",
       "0               Art & Design                1   5.068904             0.007010   \n",
       "1  Art & Design;Pretend Play                1   6.874198             0.000270   \n",
       "2               Art & Design                1  11.379508             0.007010   \n",
       "3               Art & Design                1  12.281384             0.007010   \n",
       "4    Art & Design;Creativity                1   6.874198             0.000809   \n",
       "\n",
       "   Categoryfreq_encoded  \n",
       "0              0.007819  \n",
       "1              0.007819  \n",
       "2              0.007819  \n",
       "3              0.007819  \n",
       "4              0.007819  "
      ]
     },
     "execution_count": 125,
     "metadata": {},
     "output_type": "execute_result"
    }
   ],
   "source": [
    "## Specify the categorical column to be frequency encoded\n",
    "categorical_column_1 = \"Category\"\n",
    "\n",
    "##creating frequencies\n",
    "categorical_frequencies_1 = df[categorical_column_1].value_counts(normalize = True)\n",
    "\n",
    "## Create a dictionary mapping categories to frequencies\n",
    "frequency_encoding_dict = categorical_frequencies_1.to_dict()\n",
    "\n",
    "#Replace the categories with their frequencies\n",
    "df[categorical_column_1 + 'freq_encoded'] = df[categorical_column_1].replace(frequency_encoding_dict)\n",
    "\n",
    "# Print df\n",
    "df.head(5)"
   ]
  },
  {
   "cell_type": "code",
   "execution_count": 126,
   "id": "2d859f6a",
   "metadata": {},
   "outputs": [
    {
     "data": {
      "text/html": [
       "<div>\n",
       "<style scoped>\n",
       "    .dataframe tbody tr th:only-of-type {\n",
       "        vertical-align: middle;\n",
       "    }\n",
       "\n",
       "    .dataframe tbody tr th {\n",
       "        vertical-align: top;\n",
       "    }\n",
       "\n",
       "    .dataframe thead th {\n",
       "        text-align: right;\n",
       "    }\n",
       "</style>\n",
       "<table border=\"1\" class=\"dataframe\">\n",
       "  <thead>\n",
       "    <tr style=\"text-align: right;\">\n",
       "      <th></th>\n",
       "      <th>Size</th>\n",
       "      <th>Installs</th>\n",
       "      <th>Type</th>\n",
       "      <th>Price</th>\n",
       "      <th>Content Rating</th>\n",
       "      <th>Rating_category</th>\n",
       "      <th>Review</th>\n",
       "      <th>Genres_freq_encoded</th>\n",
       "      <th>Categoryfreq_encoded</th>\n",
       "    </tr>\n",
       "  </thead>\n",
       "  <tbody>\n",
       "    <tr>\n",
       "      <th>0</th>\n",
       "      <td>19000000.0</td>\n",
       "      <td>10000</td>\n",
       "      <td>0</td>\n",
       "      <td>0.0</td>\n",
       "      <td>Everyone</td>\n",
       "      <td>1</td>\n",
       "      <td>5.068904</td>\n",
       "      <td>0.007010</td>\n",
       "      <td>0.007819</td>\n",
       "    </tr>\n",
       "    <tr>\n",
       "      <th>1</th>\n",
       "      <td>14000000.0</td>\n",
       "      <td>500000</td>\n",
       "      <td>0</td>\n",
       "      <td>0.0</td>\n",
       "      <td>Everyone</td>\n",
       "      <td>1</td>\n",
       "      <td>6.874198</td>\n",
       "      <td>0.000270</td>\n",
       "      <td>0.007819</td>\n",
       "    </tr>\n",
       "    <tr>\n",
       "      <th>2</th>\n",
       "      <td>8700000.0</td>\n",
       "      <td>5000000</td>\n",
       "      <td>0</td>\n",
       "      <td>0.0</td>\n",
       "      <td>Everyone</td>\n",
       "      <td>1</td>\n",
       "      <td>11.379508</td>\n",
       "      <td>0.007010</td>\n",
       "      <td>0.007819</td>\n",
       "    </tr>\n",
       "    <tr>\n",
       "      <th>3</th>\n",
       "      <td>25000000.0</td>\n",
       "      <td>50000000</td>\n",
       "      <td>0</td>\n",
       "      <td>0.0</td>\n",
       "      <td>Teen</td>\n",
       "      <td>1</td>\n",
       "      <td>12.281384</td>\n",
       "      <td>0.007010</td>\n",
       "      <td>0.007819</td>\n",
       "    </tr>\n",
       "    <tr>\n",
       "      <th>4</th>\n",
       "      <td>2800000.0</td>\n",
       "      <td>100000</td>\n",
       "      <td>0</td>\n",
       "      <td>0.0</td>\n",
       "      <td>Everyone</td>\n",
       "      <td>1</td>\n",
       "      <td>6.874198</td>\n",
       "      <td>0.000809</td>\n",
       "      <td>0.007819</td>\n",
       "    </tr>\n",
       "  </tbody>\n",
       "</table>\n",
       "</div>"
      ],
      "text/plain": [
       "         Size  Installs  Type  Price Content Rating  Rating_category  \\\n",
       "0  19000000.0     10000     0    0.0       Everyone                1   \n",
       "1  14000000.0    500000     0    0.0       Everyone                1   \n",
       "2   8700000.0   5000000     0    0.0       Everyone                1   \n",
       "3  25000000.0  50000000     0    0.0           Teen                1   \n",
       "4   2800000.0    100000     0    0.0       Everyone                1   \n",
       "\n",
       "      Review  Genres_freq_encoded  Categoryfreq_encoded  \n",
       "0   5.068904             0.007010              0.007819  \n",
       "1   6.874198             0.000270              0.007819  \n",
       "2  11.379508             0.007010              0.007819  \n",
       "3  12.281384             0.007010              0.007819  \n",
       "4   6.874198             0.000809              0.007819  "
      ]
     },
     "execution_count": 126,
     "metadata": {},
     "output_type": "execute_result"
    }
   ],
   "source": [
    "drop_column_name = [\"Category\", \"Genres\"]\n",
    "df = df.drop(drop_column_name , axis = 1)\n",
    "df.head()"
   ]
  },
  {
   "cell_type": "code",
   "execution_count": 127,
   "id": "402a4255",
   "metadata": {},
   "outputs": [
    {
     "data": {
      "text/plain": [
       "array(['Everyone', 'Teen', 'Everyone 10+', 'Mature 17+',\n",
       "       'Adults only 18+', 'Unrated'], dtype=object)"
      ]
     },
     "execution_count": 127,
     "metadata": {},
     "output_type": "execute_result"
    }
   ],
   "source": [
    "df[\"Content Rating\"].unique()"
   ]
  },
  {
   "cell_type": "code",
   "execution_count": 128,
   "id": "7f2ca94b",
   "metadata": {},
   "outputs": [
    {
     "data": {
      "text/plain": [
       "Everyone           5952\n",
       "Teen                832\n",
       "Mature 17+          332\n",
       "Everyone 10+        299\n",
       "Adults only 18+       2\n",
       "Unrated               1\n",
       "Name: Content Rating, dtype: int64"
      ]
     },
     "execution_count": 128,
     "metadata": {},
     "output_type": "execute_result"
    }
   ],
   "source": [
    "df[\"Content Rating\"].value_counts()"
   ]
  },
  {
   "cell_type": "code",
   "execution_count": 129,
   "id": "158b2989",
   "metadata": {},
   "outputs": [
    {
     "data": {
      "text/html": [
       "<div>\n",
       "<style scoped>\n",
       "    .dataframe tbody tr th:only-of-type {\n",
       "        vertical-align: middle;\n",
       "    }\n",
       "\n",
       "    .dataframe tbody tr th {\n",
       "        vertical-align: top;\n",
       "    }\n",
       "\n",
       "    .dataframe thead th {\n",
       "        text-align: right;\n",
       "    }\n",
       "</style>\n",
       "<table border=\"1\" class=\"dataframe\">\n",
       "  <thead>\n",
       "    <tr style=\"text-align: right;\">\n",
       "      <th></th>\n",
       "      <th>Size</th>\n",
       "      <th>Installs</th>\n",
       "      <th>Type</th>\n",
       "      <th>Price</th>\n",
       "      <th>Content Rating</th>\n",
       "      <th>Rating_category</th>\n",
       "      <th>Review</th>\n",
       "      <th>Genres_freq_encoded</th>\n",
       "      <th>Categoryfreq_encoded</th>\n",
       "    </tr>\n",
       "  </thead>\n",
       "  <tbody>\n",
       "    <tr>\n",
       "      <th>0</th>\n",
       "      <td>19000000.0</td>\n",
       "      <td>10000</td>\n",
       "      <td>0</td>\n",
       "      <td>0.0</td>\n",
       "      <td>Everyone</td>\n",
       "      <td>1</td>\n",
       "      <td>5.068904</td>\n",
       "      <td>0.007010</td>\n",
       "      <td>0.007819</td>\n",
       "    </tr>\n",
       "    <tr>\n",
       "      <th>1</th>\n",
       "      <td>14000000.0</td>\n",
       "      <td>500000</td>\n",
       "      <td>0</td>\n",
       "      <td>0.0</td>\n",
       "      <td>Everyone</td>\n",
       "      <td>1</td>\n",
       "      <td>6.874198</td>\n",
       "      <td>0.000270</td>\n",
       "      <td>0.007819</td>\n",
       "    </tr>\n",
       "    <tr>\n",
       "      <th>2</th>\n",
       "      <td>8700000.0</td>\n",
       "      <td>5000000</td>\n",
       "      <td>0</td>\n",
       "      <td>0.0</td>\n",
       "      <td>Everyone</td>\n",
       "      <td>1</td>\n",
       "      <td>11.379508</td>\n",
       "      <td>0.007010</td>\n",
       "      <td>0.007819</td>\n",
       "    </tr>\n",
       "    <tr>\n",
       "      <th>3</th>\n",
       "      <td>25000000.0</td>\n",
       "      <td>50000000</td>\n",
       "      <td>0</td>\n",
       "      <td>0.0</td>\n",
       "      <td>Teen</td>\n",
       "      <td>1</td>\n",
       "      <td>12.281384</td>\n",
       "      <td>0.007010</td>\n",
       "      <td>0.007819</td>\n",
       "    </tr>\n",
       "    <tr>\n",
       "      <th>4</th>\n",
       "      <td>2800000.0</td>\n",
       "      <td>100000</td>\n",
       "      <td>0</td>\n",
       "      <td>0.0</td>\n",
       "      <td>Everyone</td>\n",
       "      <td>1</td>\n",
       "      <td>6.874198</td>\n",
       "      <td>0.000809</td>\n",
       "      <td>0.007819</td>\n",
       "    </tr>\n",
       "  </tbody>\n",
       "</table>\n",
       "</div>"
      ],
      "text/plain": [
       "         Size  Installs  Type  Price Content Rating  Rating_category  \\\n",
       "0  19000000.0     10000     0    0.0       Everyone                1   \n",
       "1  14000000.0    500000     0    0.0       Everyone                1   \n",
       "2   8700000.0   5000000     0    0.0       Everyone                1   \n",
       "3  25000000.0  50000000     0    0.0           Teen                1   \n",
       "4   2800000.0    100000     0    0.0       Everyone                1   \n",
       "\n",
       "      Review  Genres_freq_encoded  Categoryfreq_encoded  \n",
       "0   5.068904             0.007010              0.007819  \n",
       "1   6.874198             0.000270              0.007819  \n",
       "2  11.379508             0.007010              0.007819  \n",
       "3  12.281384             0.007010              0.007819  \n",
       "4   6.874198             0.000809              0.007819  "
      ]
     },
     "execution_count": 129,
     "metadata": {},
     "output_type": "execute_result"
    }
   ],
   "source": [
    "df.head()"
   ]
  },
  {
   "cell_type": "code",
   "execution_count": 145,
   "id": "a630b8be",
   "metadata": {},
   "outputs": [
    {
     "data": {
      "text/plain": [
       "array([1, 2, 3, 4, 'Unrated'], dtype=object)"
      ]
     },
     "execution_count": 145,
     "metadata": {},
     "output_type": "execute_result"
    }
   ],
   "source": [
    "df = df[df['Content Rating'] != 'Adults only 18+']\n",
    "df['Content Rating'].unique()"
   ]
  },
  {
   "cell_type": "code",
   "execution_count": null,
   "id": "1d25d828",
   "metadata": {},
   "outputs": [],
   "source": []
  },
  {
   "cell_type": "code",
   "execution_count": 146,
   "id": "5e97e18b",
   "metadata": {},
   "outputs": [
    {
     "data": {
      "text/plain": [
       "array([1, 2, 3, 4], dtype=object)"
      ]
     },
     "execution_count": 146,
     "metadata": {},
     "output_type": "execute_result"
    }
   ],
   "source": [
    "df = df[df['Content Rating'] != 'Unrated']\n",
    "df['Content Rating'].unique()"
   ]
  },
  {
   "cell_type": "code",
   "execution_count": 147,
   "id": "bd841c8e",
   "metadata": {},
   "outputs": [],
   "source": [
    "df['Content Rating'] = df['Content Rating'].replace({'Everyone': 1, 'Teen': 2, 'Everyone 10+':3, 'Mature 17+':4})"
   ]
  },
  {
   "cell_type": "code",
   "execution_count": 148,
   "id": "f4eba3fa",
   "metadata": {},
   "outputs": [
    {
     "data": {
      "text/plain": [
       "1    5952\n",
       "2     832\n",
       "4     332\n",
       "3     299\n",
       "Name: Content Rating, dtype: int64"
      ]
     },
     "execution_count": 148,
     "metadata": {},
     "output_type": "execute_result"
    }
   ],
   "source": [
    "df['Content Rating'].value_counts()"
   ]
  },
  {
   "cell_type": "code",
   "execution_count": 149,
   "id": "ca3308bd",
   "metadata": {},
   "outputs": [
    {
     "data": {
      "text/html": [
       "<div>\n",
       "<style scoped>\n",
       "    .dataframe tbody tr th:only-of-type {\n",
       "        vertical-align: middle;\n",
       "    }\n",
       "\n",
       "    .dataframe tbody tr th {\n",
       "        vertical-align: top;\n",
       "    }\n",
       "\n",
       "    .dataframe thead th {\n",
       "        text-align: right;\n",
       "    }\n",
       "</style>\n",
       "<table border=\"1\" class=\"dataframe\">\n",
       "  <thead>\n",
       "    <tr style=\"text-align: right;\">\n",
       "      <th></th>\n",
       "      <th>Size</th>\n",
       "      <th>Installs</th>\n",
       "      <th>Type</th>\n",
       "      <th>Price</th>\n",
       "      <th>Content Rating</th>\n",
       "      <th>Rating_category</th>\n",
       "      <th>Review</th>\n",
       "      <th>Genres_freq_encoded</th>\n",
       "      <th>Categoryfreq_encoded</th>\n",
       "    </tr>\n",
       "  </thead>\n",
       "  <tbody>\n",
       "    <tr>\n",
       "      <th>0</th>\n",
       "      <td>19000000.0</td>\n",
       "      <td>10000</td>\n",
       "      <td>0</td>\n",
       "      <td>0.0</td>\n",
       "      <td>1</td>\n",
       "      <td>1</td>\n",
       "      <td>5.068904</td>\n",
       "      <td>0.007010</td>\n",
       "      <td>0.007819</td>\n",
       "    </tr>\n",
       "    <tr>\n",
       "      <th>1</th>\n",
       "      <td>14000000.0</td>\n",
       "      <td>500000</td>\n",
       "      <td>0</td>\n",
       "      <td>0.0</td>\n",
       "      <td>1</td>\n",
       "      <td>1</td>\n",
       "      <td>6.874198</td>\n",
       "      <td>0.000270</td>\n",
       "      <td>0.007819</td>\n",
       "    </tr>\n",
       "    <tr>\n",
       "      <th>2</th>\n",
       "      <td>8700000.0</td>\n",
       "      <td>5000000</td>\n",
       "      <td>0</td>\n",
       "      <td>0.0</td>\n",
       "      <td>1</td>\n",
       "      <td>1</td>\n",
       "      <td>11.379508</td>\n",
       "      <td>0.007010</td>\n",
       "      <td>0.007819</td>\n",
       "    </tr>\n",
       "    <tr>\n",
       "      <th>3</th>\n",
       "      <td>25000000.0</td>\n",
       "      <td>50000000</td>\n",
       "      <td>0</td>\n",
       "      <td>0.0</td>\n",
       "      <td>2</td>\n",
       "      <td>1</td>\n",
       "      <td>12.281384</td>\n",
       "      <td>0.007010</td>\n",
       "      <td>0.007819</td>\n",
       "    </tr>\n",
       "    <tr>\n",
       "      <th>4</th>\n",
       "      <td>2800000.0</td>\n",
       "      <td>100000</td>\n",
       "      <td>0</td>\n",
       "      <td>0.0</td>\n",
       "      <td>1</td>\n",
       "      <td>1</td>\n",
       "      <td>6.874198</td>\n",
       "      <td>0.000809</td>\n",
       "      <td>0.007819</td>\n",
       "    </tr>\n",
       "  </tbody>\n",
       "</table>\n",
       "</div>"
      ],
      "text/plain": [
       "         Size  Installs  Type  Price  Content Rating  Rating_category  \\\n",
       "0  19000000.0     10000     0    0.0               1                1   \n",
       "1  14000000.0    500000     0    0.0               1                1   \n",
       "2   8700000.0   5000000     0    0.0               1                1   \n",
       "3  25000000.0  50000000     0    0.0               2                1   \n",
       "4   2800000.0    100000     0    0.0               1                1   \n",
       "\n",
       "      Review  Genres_freq_encoded  Categoryfreq_encoded  \n",
       "0   5.068904             0.007010              0.007819  \n",
       "1   6.874198             0.000270              0.007819  \n",
       "2  11.379508             0.007010              0.007819  \n",
       "3  12.281384             0.007010              0.007819  \n",
       "4   6.874198             0.000809              0.007819  "
      ]
     },
     "execution_count": 149,
     "metadata": {},
     "output_type": "execute_result"
    }
   ],
   "source": [
    "df.head()"
   ]
  },
  {
   "cell_type": "code",
   "execution_count": 150,
   "id": "589e741b",
   "metadata": {},
   "outputs": [
    {
     "data": {
      "text/plain": [
       "Index(['Size', 'Installs', 'Type', 'Price', 'Content Rating',\n",
       "       'Rating_category', 'Review', 'Genres_freq_encoded',\n",
       "       'Categoryfreq_encoded'],\n",
       "      dtype='object')"
      ]
     },
     "execution_count": 150,
     "metadata": {},
     "output_type": "execute_result"
    }
   ],
   "source": [
    "df.columns"
   ]
  },
  {
   "cell_type": "markdown",
   "id": "8d3c91b0",
   "metadata": {},
   "source": [
    "## 3.4 Segregate the target and independent features.\n"
   ]
  },
  {
   "cell_type": "code",
   "execution_count": 151,
   "id": "9af99ef0",
   "metadata": {},
   "outputs": [],
   "source": [
    "predictor_columns = ['Size', 'Installs', 'Type', 'Price', 'Content Rating', 'Review', 'Genres_freq_encoded',\n",
    "                     'Categoryfreq_encoded']\n",
    "\n",
    "# Specify the column for the target variable\n",
    "target_column = 'Rating_category'\n",
    "\n",
    "# Create the predictor variables DataFrame\n",
    "X = df[predictor_columns]\n",
    "\n",
    "# Create the target variable Series\n",
    "y = df[target_column]"
   ]
  },
  {
   "cell_type": "code",
   "execution_count": 152,
   "id": "544e0c40",
   "metadata": {},
   "outputs": [
    {
     "data": {
      "text/plain": [
       "(             Size  Installs  Type  Price  Content Rating     Review  \\\n",
       " 0      19000000.0     10000     0    0.0               1   5.068904   \n",
       " 1      14000000.0    500000     0    0.0               1   6.874198   \n",
       " 2       8700000.0   5000000     0    0.0               1  11.379508   \n",
       " 3      25000000.0  50000000     0    0.0               2  12.281384   \n",
       " 4       2800000.0    100000     0    0.0               1   6.874198   \n",
       " ...           ...       ...   ...    ...             ...        ...   \n",
       " 10833    619000.0      1000     0    0.0               1   3.784190   \n",
       " 10834   2600000.0       500     0    0.0               1   1.945910   \n",
       " 10836  53000000.0      5000     0    0.0               1   3.637586   \n",
       " 10837   3600000.0       100     0    0.0               1   1.386294   \n",
       " 10840  19000000.0  10000000     0    0.0               1  12.894978   \n",
       " \n",
       "        Genres_freq_encoded  Categoryfreq_encoded  \n",
       " 0                 0.007010              0.007819  \n",
       " 1                 0.000270              0.007819  \n",
       " 2                 0.007010              0.007819  \n",
       " 3                 0.007010              0.007819  \n",
       " 4                 0.000809              0.007819  \n",
       " ...                    ...                   ...  \n",
       " 10833             0.019277              0.019277  \n",
       " 10834             0.054462              0.214343  \n",
       " 10836             0.054462              0.214343  \n",
       " 10837             0.054462              0.214343  \n",
       " 10840             0.036668              0.036802  \n",
       " \n",
       " [7415 rows x 8 columns],\n",
       " 0        1\n",
       " 1        1\n",
       " 2        1\n",
       " 3        1\n",
       " 4        1\n",
       "         ..\n",
       " 10833    1\n",
       " 10834    1\n",
       " 10836    1\n",
       " 10837    1\n",
       " 10840    1\n",
       " Name: Rating_category, Length: 7415, dtype: int64)"
      ]
     },
     "execution_count": 152,
     "metadata": {},
     "output_type": "execute_result"
    }
   ],
   "source": [
    "X, y"
   ]
  },
  {
   "cell_type": "markdown",
   "id": "889bf145",
   "metadata": {},
   "source": [
    "## 3.5 SPLITTING THE DATA INTO TRAIN_TEST_SPLIT"
   ]
  },
  {
   "cell_type": "code",
   "execution_count": 153,
   "id": "5a9c93af",
   "metadata": {},
   "outputs": [],
   "source": [
    "from sklearn.model_selection import train_test_split\n"
   ]
  },
  {
   "cell_type": "code",
   "execution_count": 154,
   "id": "ccfc7c57",
   "metadata": {},
   "outputs": [],
   "source": [
    "X_train, X_test, y_train, y_test = train_test_split(X,y,\n",
    "                                                   test_size = 0.2,\n",
    "                                                   random_state = 42,\n",
    "                                                   )\n",
    "                                "
   ]
  },
  {
   "cell_type": "code",
   "execution_count": 155,
   "id": "c0c327f5",
   "metadata": {},
   "outputs": [
    {
     "data": {
      "text/plain": [
       "((5932, 8), (1483, 8), (5932,), (1483,))"
      ]
     },
     "execution_count": 155,
     "metadata": {},
     "output_type": "execute_result"
    }
   ],
   "source": [
    "X_train.shape, X_test.shape, y_train.shape, y_test.shape"
   ]
  },
  {
   "cell_type": "markdown",
   "id": "91fd326b",
   "metadata": {},
   "source": [
    "## 3.6 Standardize the data, so that the values are within a particular range."
   ]
  },
  {
   "cell_type": "code",
   "execution_count": 157,
   "id": "5058fa2b",
   "metadata": {},
   "outputs": [
    {
     "name": "stdout",
     "output_type": "stream",
     "text": [
      "[[-0.16053875 -0.16885978 -0.28165657 ... -0.67979723 -1.1548973\n",
      "  -0.99476311]\n",
      " [-0.37385182 -0.1582831  -0.28165657 ... -0.1965482  -1.46207552\n",
      "  -0.99476311]\n",
      " [-0.59996367 -0.06115034 -0.28165657 ...  1.00945272 -1.1548973\n",
      "  -0.99476311]\n",
      " ...\n",
      " [ 1.28999014 -0.16896771 -0.28165657 ... -1.06293866  1.00763735\n",
      "   1.6871604 ]\n",
      " [-0.81754301 -0.16907347 -0.28165657 ... -1.66557423  1.00763735\n",
      "   1.6871604 ]\n",
      " [-0.16053875  0.04677495 -0.28165657 ...  1.41512031  0.19668685\n",
      "  -0.6183835 ]]\n",
      "[[0.35358021]\n",
      " [0.35358021]\n",
      " [0.35358021]\n",
      " ...\n",
      " [0.35358021]\n",
      " [0.35358021]\n",
      " [0.35358021]]\n"
     ]
    }
   ],
   "source": [
    "from sklearn.preprocessing import StandardScaler\n",
    "import numpy as np\n",
    "\n",
    "# Create an instance of the StandardScaler\n",
    "scaler = StandardScaler()\n",
    "\n",
    "# Reshape the target variable (y) to a 2D array\n",
    "y_reshaped = y.values.reshape(-1, 1)\n",
    "\n",
    "# Fit and transform the predictor variables (X)\n",
    "X_scaled = scaler.fit_transform(X)\n",
    "\n",
    "# Fit and transform the target variable (y)\n",
    "y_scaled = scaler.fit_transform(y_reshaped)\n",
    "\n",
    "# Print the scaled predictor variables (X)\n",
    "print(X_scaled)\n",
    "\n",
    "# Print the scaled target variable (y)\n",
    "print(y_scaled)\n"
   ]
  },
  {
   "cell_type": "markdown",
   "id": "aab0ab99",
   "metadata": {},
   "source": [
    "## 4.0 Model Training"
   ]
  },
  {
   "cell_type": "markdown",
   "id": "9045d925",
   "metadata": {},
   "source": [
    "## 4.1  Model training, and testing: [ Score: 5 points ]"
   ]
  },
  {
   "cell_type": "markdown",
   "id": "00cfc210",
   "metadata": {},
   "source": [
    "  Use the above function and train a Decision tree\n",
    "  , Random Forest\n",
    "  , Bagging, Boosting, and \n",
    "  Stacked Classifier \n",
    "  models and make predictions on test data and evaluate the models."
   ]
  },
  {
   "cell_type": "code",
   "execution_count": 159,
   "id": "35286b25",
   "metadata": {},
   "outputs": [],
   "source": [
    "## Importing the necessary models from specifc libraries\n",
    "from sklearn.tree import DecisionTreeClassifier\n",
    "from sklearn.ensemble import RandomForestClassifier, BaggingClassifier, AdaBoostClassifier\n",
    "from sklearn.ensemble import StackingClassifier\n",
    "from sklearn.metrics import accuracy_score\n"
   ]
  },
  {
   "cell_type": "code",
   "execution_count": 167,
   "id": "3ef469f7",
   "metadata": {},
   "outputs": [
    {
     "name": "stdout",
     "output_type": "stream",
     "text": [
      "Decision Tree Train Accuracy:100.0\n",
      "Decision Tree Test Accuracy:84.49089683074848\n",
      "Random forest Train accuracy:100.0\n",
      "Random forest Test Accuracy:88.46931894807823\n",
      "Bagging Train Accuracy:99.3256911665543\n",
      "Bagging Test Accuracy:87.59271746459879\n",
      "AdaBoost Train Accuruacy:89.04248145650709\n",
      "AdaBoost Test Accuruacy:88.2670262980445\n"
     ]
    }
   ],
   "source": [
    "## Creating individual models\n",
    "dt = DecisionTreeClassifier()\n",
    "rf = RandomForestClassifier()\n",
    "bg = BaggingClassifier()\n",
    "adb = AdaBoostClassifier()\n",
    "\n",
    "\n",
    "\n",
    "## Training the models\n",
    "dt.fit(X_train, y_train) \n",
    "rf.fit(X_train, y_train)\n",
    "bg.fit(X_train, y_train)\n",
    "adb.fit(X_train, y_train)\n",
    "\n",
    "\n",
    "## Train preds\n",
    "train_preds_dt = dt.predict(X_train)\n",
    "train_preds_rf = rf.predict(X_train)\n",
    "train_preds_bg = bg.predict(X_train)\n",
    "train_preds_adb = adb.predict(X_train)\n",
    "\n",
    "## Test preds\n",
    "test_preds_dt = dt.predict(X_test)\n",
    "test_preds_rf = rf.predict(X_test)\n",
    "test_preds_bg = bg.predict(X_test)\n",
    "test_preds_adb = adb.predict(X_test)\n",
    "\n",
    "## Measuring Train Accuracies\n",
    "train_acc_dt = accuracy_score(y_train , train_preds_dt)\n",
    "train_acc_rf = accuracy_score(y_train , train_preds_rf)\n",
    "train_acc_bg = accuracy_score(y_train , train_preds_bg)\n",
    "train_acc_adb = accuracy_score(y_train , train_preds_adb)\n",
    "\n",
    "\n",
    "## Measuring Test Accuracies\n",
    "test_acc_dt = accuracy_score(y_test, test_preds_dt)\n",
    "test_acc_rf = accuracy_score(y_test, test_preds_rf)\n",
    "test_acc_bg = accuracy_score(y_test, test_preds_bg)\n",
    "test_acc_adb = accuracy_score(y_test, test_preds_adb)\n",
    "\n",
    "print(f\"Decision Tree Train Accuracy:{train_acc_dt*100}\")\n",
    "print(f\"Decision Tree Test Accuracy:{test_acc_dt*100}\")\n",
    "\n",
    "print(f\"Random forest Train accuracy:{train_acc_rf*100}\")\n",
    "print(f\"Random forest Test Accuracy:{test_acc_rf*100}\")\n",
    "\n",
    "print(f\"Bagging Train Accuracy:{train_acc_bg*100}\")\n",
    "print(f\"Bagging Test Accuracy:{test_acc_bg*100}\")\n",
    "\n",
    "print(f\"AdaBoost Train Accuruacy:{train_acc_adb*100}\")\n",
    "print(f\"AdaBoost Test Accuruacy:{test_acc_adb*100}\")\n",
    "\n"
   ]
  },
  {
   "cell_type": "code",
   "execution_count": 174,
   "id": "8cfd0795",
   "metadata": {},
   "outputs": [
    {
     "name": "stdout",
     "output_type": "stream",
     "text": [
      "Stacked Classifier Training Accuracy: 0.9821308159136884\n",
      "Stacked Classifier Test Accuracy: 0.8860418071476737\n"
     ]
    }
   ],
   "source": [
    "## Stacking Classifier\n",
    "# Create the stacking classifier\n",
    "estimators = [('dt', dt), ('rf', rf), ('bag', bg), ('boost', adb)]\n",
    "stacked_classifier = StackingClassifier(estimators=estimators)\n",
    "## fitting the model\n",
    "stacked_classifier.fit(X_train, y_train)\n",
    "## Predictions\n",
    "stacked_train_predictions = stacked_classifier.predict(X_train)\n",
    "stacked_test_predictions = stacked_classifier.predict(X_test)\n",
    "##Accuracies\n",
    "stacked_train_accuracy = accuracy_score(y_train, stacked_train_predictions)\n",
    "stacked_test_accuracy = accuracy_score(y_test, stacked_test_predictions)\n",
    "\n",
    "print(\"Stacked Classifier Training Accuracy:\", stacked_train_accuracy)\n",
    "print(\"Stacked Classifier Test Accuracy:\", stacked_test_accuracy)\n",
    "                                        \n",
    "\n"
   ]
  },
  {
   "cell_type": "markdown",
   "id": "44987c6b",
   "metadata": {},
   "source": [
    "## 5 CONCLUSION AND IMPROVISATION"
   ]
  },
  {
   "cell_type": "markdown",
   "id": "94a6b568",
   "metadata": {},
   "source": [
    "## CONCLUSION"
   ]
  },
  {
   "cell_type": "markdown",
   "id": "023d6865",
   "metadata": {},
   "source": [
    "Based on the provided accuracies, we can analyze the performance of each model:\n",
    "\n",
    "Decision Tree:\n",
    "Train Accuracy: 100.0%\n",
    "Test Accuracy: 84.49%\n",
    "The Decision Tree model appears to be overfitting the data. It achieves a perfect 100% accuracy on the training data, but its performance drops to 84.49% on the test data. This significant difference suggests that the model is not generalizing well to unseen data.\n",
    "\n",
    "Random Forest:\n",
    "Train Accuracy: 100.0%\n",
    "Test Accuracy: 88.47%\n",
    "The Random Forest model also shows some signs of overfitting. While the training accuracy is 100%, indicating a perfect fit to the training data, there is still a noticeable difference between the training and test accuracies. Although the test accuracy is relatively higher than the Decision Tree model, there is room for improvement.\n",
    "\n",
    "Bagging:\n",
    "Train Accuracy: 99.33%\n",
    "Test Accuracy: 87.59%\n",
    "The Bagging model seems to perform slightly better than the Random Forest model. The training accuracy is slightly lower than 100%, which is a good sign, indicating some generalization capability. However, there is still a discernible gap between the training and test accuracies, indicating mild overfitting.\n",
    "\n",
    "AdaBoost:\n",
    "Train Accuracy: 89.04%\n",
    "Test Accuracy: 88.27%\n",
    "The AdaBoost model demonstrates relatively balanced performance. The training accuracy is lower than the previous models, suggesting that the model has not overfit the training data. The test accuracy is also comparable to the training accuracy, indicating reasonable generalization.\n",
    "\n",
    "Stacked Classifier:\n",
    "Train Accuracy:0.9806136210384356\n",
    "Test Accuracy: 0.890087660148348\n",
    "The Stacked Classifier model suggests that it is overfitting. While the training accuracy is close to 98%, indicating a close to perfect fit to the training data, but still there exists a notable difference between the test and train accuracies and the test accuracy could be improved."
   ]
  },
  {
   "cell_type": "markdown",
   "id": "3fc196e9",
   "metadata": {},
   "source": [
    "## IMPROVISING "
   ]
  },
  {
   "cell_type": "code",
   "execution_count": 175,
   "id": "66de36e3",
   "metadata": {},
   "outputs": [],
   "source": [
    "from sklearn.model_selection import GridSearchCV"
   ]
  },
  {
   "cell_type": "code",
   "execution_count": 176,
   "id": "817cf516",
   "metadata": {},
   "outputs": [],
   "source": [
    "## we can do hyperparameter tuning for decision trees that will help us either impute or stop the tree from growing:\n",
    "\n",
    "# Create the Decision Tree classifier\n",
    "decision_tree = DecisionTreeClassifier()\n",
    "\n",
    "\n",
    "# Define the hyperparameters to tune\n",
    "dt_param_grid = {\n",
    "    'max_depth': [None, 5, 10, 15],\n",
    "    'min_samples_split': [2, 5, 10],\n",
    "    'max_features': ['auto', 'sqrt', 'log2']\n",
    "}\n"
   ]
  },
  {
   "cell_type": "code",
   "execution_count": 177,
   "id": "95c5172a",
   "metadata": {},
   "outputs": [
    {
     "data": {
      "text/plain": [
       "GridSearchCV(estimator=DecisionTreeClassifier(),\n",
       "             param_grid={'max_depth': [None, 5, 10, 15],\n",
       "                         'max_features': ['auto', 'sqrt', 'log2'],\n",
       "                         'min_samples_split': [2, 5, 10]})"
      ]
     },
     "execution_count": 177,
     "metadata": {},
     "output_type": "execute_result"
    }
   ],
   "source": [
    "# Perform grid search to find the best hyperparameters\n",
    "dt_grid_search = GridSearchCV(decision_tree, dt_param_grid)\n",
    "dt_grid_search.fit(X_train, y_train)\n"
   ]
  },
  {
   "cell_type": "code",
   "execution_count": 178,
   "id": "a9aac029",
   "metadata": {},
   "outputs": [],
   "source": [
    "# Get the best Decision Tree model with the tuned hyperparameters\n",
    "best_decision_tree = dt_grid_search.best_estimator_"
   ]
  },
  {
   "cell_type": "code",
   "execution_count": 179,
   "id": "158a57c6",
   "metadata": {},
   "outputs": [
    {
     "data": {
      "text/plain": [
       "DecisionTreeClassifier(max_depth=5, max_features='sqrt')"
      ]
     },
     "execution_count": 179,
     "metadata": {},
     "output_type": "execute_result"
    }
   ],
   "source": [
    "# Train the best models on the training data\n",
    "best_decision_tree.fit(X_train, y_train)"
   ]
  },
  {
   "cell_type": "code",
   "execution_count": 180,
   "id": "3d995ee0",
   "metadata": {},
   "outputs": [],
   "source": [
    "# Make predictions on the test data\n",
    "dt_predictions = best_decision_tree.predict(X_test)"
   ]
  },
  {
   "cell_type": "code",
   "execution_count": 183,
   "id": "0749a417",
   "metadata": {},
   "outputs": [
    {
     "name": "stdout",
     "output_type": "stream",
     "text": [
      "Train accuruacy:100.0\n",
      "Updated Decision Tree Test Accuracy: 88.60418071476737\n"
     ]
    }
   ],
   "source": [
    "# Calculate the test accuracies\n",
    "train_preds = dt.predict(X_train)\n",
    "\n",
    "dt_train_acc = accuracy_score(y_train, train_preds)\n",
    "print(f\"Train accuruacy:{dt_train_acc*100}\")\n",
    "dt_accuracy = accuracy_score(y_test, dt_predictions)\n",
    "print(\"Updated Decision Tree Test Accuracy:\", dt_accuracy*100)"
   ]
  },
  {
   "cell_type": "markdown",
   "id": "ce2ffdcc",
   "metadata": {},
   "source": [
    "## The decision Tree Classifier is still overfitting the data but there is approximately an increase in test accuracy for about 5 percent. Hence, the model has improved with hyperparameter tuning"
   ]
  },
  {
   "cell_type": "code",
   "execution_count": 188,
   "id": "b817d205",
   "metadata": {},
   "outputs": [
    {
     "name": "stdout",
     "output_type": "stream",
     "text": [
      "Updated Random Forest Test Accuracy: 0.8840188806473365\n"
     ]
    }
   ],
   "source": [
    "from sklearn.ensemble import RandomForestClassifier\n",
    "from sklearn.model_selection import GridSearchCV\n",
    "\n",
    "# Create the Random Forest classifier\n",
    "random_forest = RandomForestClassifier()\n",
    "\n",
    "# Define the reduced hyperparameter search space\n",
    "rf_param_grid = {\n",
    "    'n_estimators': [100, 200],\n",
    "    'max_depth': [None, 5, 10],\n",
    "    'min_samples_split': [2, 5],\n",
    "    'max_features': ['auto', 'sqrt']\n",
    "}\n",
    "\n",
    "# Perform grid search with reduced parameters and 3-fold cross-validation\n",
    "rf_grid_search = GridSearchCV(random_forest, rf_param_grid, cv=3)\n",
    "rf_grid_search.fit(X_train, y_train)\n",
    "\n",
    "# Get the best Random Forest model with the tuned hyperparameters\n",
    "best_random_forest = rf_grid_search.best_estimator_\n",
    "\n",
    "# Train the best model on the training data\n",
    "best_random_forest.fit(X_train, y_train)\n",
    "\n",
    "# Make predictions on the test data\n",
    "rf_predictions = best_random_forest.predict(X_test)\n",
    "\n",
    "# Calculate the test accuracy\n",
    "rf_accuracy = accuracy_score(y_test, rf_predictions)\n",
    "\n",
    "# Print the updated accuracy\n",
    "print(\"Updated Random Forest Test Accuracy:\", rf_accuracy)\n"
   ]
  },
  {
   "cell_type": "markdown",
   "id": "739768c1",
   "metadata": {},
   "source": [
    "## Due to lack of hardware we cannot fine tune the model to look through large combinaations and when we set the hyperparameters very simple it does not improve the models test accuracy. But the botttom line is that overfitting in models can be corrected setting hyperparameters."
   ]
  },
  {
   "cell_type": "code",
   "execution_count": null,
   "id": "763bda61",
   "metadata": {},
   "outputs": [],
   "source": []
  }
 ],
 "metadata": {
  "kernelspec": {
   "display_name": "Python 3 (ipykernel)",
   "language": "python",
   "name": "python3"
  },
  "language_info": {
   "codemirror_mode": {
    "name": "ipython",
    "version": 3
   },
   "file_extension": ".py",
   "mimetype": "text/x-python",
   "name": "python",
   "nbconvert_exporter": "python",
   "pygments_lexer": "ipython3",
   "version": "3.9.12"
  }
 },
 "nbformat": 4,
 "nbformat_minor": 5
}
