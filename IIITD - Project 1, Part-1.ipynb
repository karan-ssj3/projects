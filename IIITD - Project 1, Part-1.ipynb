{
 "cells": [
  {
   "cell_type": "code",
   "execution_count": 1,
   "id": "179a1ba5",
   "metadata": {},
   "outputs": [],
   "source": [
    "import numpy as np\n",
    "import pandas as pd\n",
    "import math \n",
    "import matplotlib as plt\n"
   ]
  },
  {
   "cell_type": "markdown",
   "id": "5a31a234",
   "metadata": {},
   "source": [
    "## 1.  (a)command that returns 'a' from the string"
   ]
  },
  {
   "cell_type": "code",
   "execution_count": 2,
   "id": "eb55d6cd",
   "metadata": {},
   "outputs": [],
   "source": [
    "s = 'Great'\n"
   ]
  },
  {
   "cell_type": "code",
   "execution_count": 3,
   "id": "4cfc5615",
   "metadata": {},
   "outputs": [
    {
     "data": {
      "text/plain": [
       "'Great'"
      ]
     },
     "execution_count": 3,
     "metadata": {},
     "output_type": "execute_result"
    }
   ],
   "source": [
    "s"
   ]
  },
  {
   "cell_type": "code",
   "execution_count": 4,
   "id": "1ff74120",
   "metadata": {},
   "outputs": [
    {
     "data": {
      "text/plain": [
       "'a'"
      ]
     },
     "execution_count": 4,
     "metadata": {},
     "output_type": "execute_result"
    }
   ],
   "source": [
    "s[3]"
   ]
  },
  {
   "cell_type": "markdown",
   "id": "ffbd5b60",
   "metadata": {},
   "source": [
    "##  (b)program to find out the second smallest number in the list given"
   ]
  },
  {
   "cell_type": "code",
   "execution_count": 5,
   "id": "cb455a70",
   "metadata": {},
   "outputs": [
    {
     "data": {
      "text/plain": [
       "[32, 3, 5, 8, 33, 7]"
      ]
     },
     "execution_count": 5,
     "metadata": {},
     "output_type": "execute_result"
    }
   ],
   "source": [
    "li=[32, 3, 5, 8, 33, 7]\n",
    "\n",
    "li"
   ]
  },
  {
   "cell_type": "code",
   "execution_count": 6,
   "id": "d6740d6a",
   "metadata": {},
   "outputs": [],
   "source": [
    "li.sort()"
   ]
  },
  {
   "cell_type": "code",
   "execution_count": 7,
   "id": "9c1ce327",
   "metadata": {},
   "outputs": [
    {
     "data": {
      "text/plain": [
       "[3, 5, 7, 8, 32, 33]"
      ]
     },
     "execution_count": 7,
     "metadata": {},
     "output_type": "execute_result"
    }
   ],
   "source": [
    "li"
   ]
  },
  {
   "cell_type": "code",
   "execution_count": 8,
   "id": "8105f8d0",
   "metadata": {},
   "outputs": [
    {
     "data": {
      "text/plain": [
       "5"
      ]
     },
     "execution_count": 8,
     "metadata": {},
     "output_type": "execute_result"
    }
   ],
   "source": [
    "li[1]"
   ]
  },
  {
   "cell_type": "markdown",
   "id": "b8bf793d",
   "metadata": {},
   "source": [
    "## (c) the unique values of the list given below"
   ]
  },
  {
   "cell_type": "code",
   "execution_count": 9,
   "id": "ad5c77ed",
   "metadata": {},
   "outputs": [],
   "source": [
    "mylist=[1,1,5,3,3,6,11,11]"
   ]
  },
  {
   "cell_type": "code",
   "execution_count": 10,
   "id": "00b8622a",
   "metadata": {},
   "outputs": [
    {
     "name": "stdout",
     "output_type": "stream",
     "text": [
      "{1, 3, 5, 6, 11}\n"
     ]
    }
   ],
   "source": [
    "print(set(mylist))"
   ]
  },
  {
   "cell_type": "markdown",
   "id": "eac88836",
   "metadata": {},
   "source": [
    "##  d program to print cube root of 216 using appropriate syntax"
   ]
  },
  {
   "cell_type": "code",
   "execution_count": 11,
   "id": "ade5fb1c",
   "metadata": {},
   "outputs": [
    {
     "name": "stdout",
     "output_type": "stream",
     "text": [
      "6.0\n"
     ]
    }
   ],
   "source": [
    "x = 216\n",
    "cuberoot = np.cbrt(x)\n",
    "print(cuberoot)"
   ]
  },
  {
   "cell_type": "markdown",
   "id": "6e8c9e10",
   "metadata": {},
   "source": [
    "## 2.  Replace the value 'hello' in the below nested list with 'bye'"
   ]
  },
  {
   "cell_type": "code",
   "execution_count": 12,
   "id": "31111dd5",
   "metadata": {},
   "outputs": [
    {
     "data": {
      "text/plain": [
       "[1, 2, [3, 4, 'hello']]"
      ]
     },
     "execution_count": 12,
     "metadata": {},
     "output_type": "execute_result"
    }
   ],
   "source": [
    "a = [1, 2, [3, 4, 'hello']] \n",
    "a"
   ]
  },
  {
   "cell_type": "code",
   "execution_count": 13,
   "id": "7eaeb8c2",
   "metadata": {},
   "outputs": [
    {
     "name": "stdout",
     "output_type": "stream",
     "text": [
      "[1, 2, [3, 4, 'bye']]\n"
     ]
    }
   ],
   "source": [
    "a[2][2] = 'bye'\n",
    "print(a)"
   ]
  },
  {
   "cell_type": "markdown",
   "id": "627115d3",
   "metadata": {},
   "source": [
    "## 3. write a program that returns [‘object0’]"
   ]
  },
  {
   "cell_type": "code",
   "execution_count": 14,
   "id": "4ee3fb94",
   "metadata": {},
   "outputs": [
    {
     "data": {
      "text/plain": [
       "{'a': 9, 'b': (2, 3, 1), 'c': ['object0', 'object1', 'object2']}"
      ]
     },
     "execution_count": 14,
     "metadata": {},
     "output_type": "execute_result"
    }
   ],
   "source": [
    "dict1 = {'a':9, 'b':(2,3,1), 'c':['object0','object1','object2']}\n",
    "dict1"
   ]
  },
  {
   "cell_type": "code",
   "execution_count": 15,
   "id": "3a1c3489",
   "metadata": {},
   "outputs": [
    {
     "name": "stdout",
     "output_type": "stream",
     "text": [
      "object0\n"
     ]
    }
   ],
   "source": [
    "print(dict1['c'][0])"
   ]
  },
  {
   "cell_type": "markdown",
   "id": "76e182e6",
   "metadata": {},
   "source": [
    "## 4. program to calculate the area of a circle. The program should ask for an appropriate input and print the computed area"
   ]
  },
  {
   "cell_type": "code",
   "execution_count": 16,
   "id": "7c9f5284",
   "metadata": {},
   "outputs": [
    {
     "name": "stdout",
     "output_type": "stream",
     "text": [
      " please enter radius of the cirlce\n",
      "\n",
      "invalid input, please enter a number\n",
      " please enter radius of the cirlce\n",
      "\n",
      "invalid input, please enter a number\n",
      " please enter radius of the cirlce\n",
      "\n",
      "invalid input, please enter a number\n",
      " please enter radius of the cirlce\n",
      "\n",
      "invalid input, please enter a number\n",
      " please enter radius of the cirlce\n",
      "rew\n",
      "invalid input, please enter a number\n",
      " please enter radius of the cirlce\n",
      "5\n",
      "Area if the circle 78.50\n"
     ]
    }
   ],
   "source": [
    "PI = 3.14\n",
    "while True:\n",
    "    print(\" please enter radius of the cirlce\")\n",
    "    r = input()\n",
    "    try:\n",
    "        r = float(r)\n",
    "    except:\n",
    "        print(\"invalid input, please enter a number\")\n",
    "        continue\n",
    "    break\n",
    "area = PI * r * r\n",
    "print(\"Area if the circle %.2f\" %area)"
   ]
  },
  {
   "cell_type": "markdown",
   "id": "35d00b43",
   "metadata": {},
   "source": [
    "## 5. take two lists X & Y as input and it will return a list having all the odd numbers present in the two lists"
   ]
  },
  {
   "cell_type": "code",
   "execution_count": 17,
   "id": "635c8216",
   "metadata": {},
   "outputs": [],
   "source": [
    "X=[1,2,3,4,5] \n",
    "Y=[5,6,7,8,9]\n",
    "    "
   ]
  },
  {
   "cell_type": "code",
   "execution_count": 18,
   "id": "412b375f",
   "metadata": {},
   "outputs": [
    {
     "data": {
      "text/plain": [
       "[1, 2, 3, 4, 5]"
      ]
     },
     "execution_count": 18,
     "metadata": {},
     "output_type": "execute_result"
    }
   ],
   "source": [
    "X"
   ]
  },
  {
   "cell_type": "code",
   "execution_count": 19,
   "id": "078d4e25",
   "metadata": {},
   "outputs": [
    {
     "data": {
      "text/plain": [
       "[5, 6, 7, 8, 9]"
      ]
     },
     "execution_count": 19,
     "metadata": {},
     "output_type": "execute_result"
    }
   ],
   "source": [
    "Y"
   ]
  },
  {
   "cell_type": "code",
   "execution_count": 20,
   "id": "2dfbb133",
   "metadata": {},
   "outputs": [
    {
     "name": "stdout",
     "output_type": "stream",
     "text": [
      "[1, 2, 3, 4, 5, 5, 6, 7, 8, 9]\n"
     ]
    }
   ],
   "source": [
    "X.extend(Y)\n",
    "print(X)"
   ]
  },
  {
   "cell_type": "code",
   "execution_count": 21,
   "id": "bbf411fc",
   "metadata": {},
   "outputs": [
    {
     "name": "stdout",
     "output_type": "stream",
     "text": [
      "1\n",
      "3\n",
      "5\n",
      "7\n",
      "9\n"
     ]
    }
   ],
   "source": [
    "for i in range (len(X)):\n",
    "    if i%2 != 0:\n",
    "        print(i)"
   ]
  },
  {
   "cell_type": "markdown",
   "id": "2bf7d05c",
   "metadata": {},
   "source": [
    "## 6. take two lists X & Y as input and it will return a list having all the odd numbers present in the two lists"
   ]
  },
  {
   "cell_type": "code",
   "execution_count": 22,
   "id": "71bfba61",
   "metadata": {},
   "outputs": [
    {
     "name": "stdout",
     "output_type": "stream",
     "text": [
      "1\n",
      "2\n",
      "Great\n",
      "4\n",
      "Learning\n",
      "Great\n",
      "7\n",
      "8\n",
      "Great\n",
      "Learning\n",
      "11\n",
      "Great\n",
      "13\n",
      "14\n",
      "GreatLearning\n"
     ]
    }
   ],
   "source": [
    "for i in range(1,16):\n",
    "    if i %3  == 0 and i %5 != 0:\n",
    "        print(\"Great\")\n",
    "    elif i % 5 == 0 and i % 3!=0:\n",
    "        print(\"Learning\")\n",
    "    elif i % 3 == 0 and i % 5 == 0:\n",
    "        print(\"GreatLearning\")\n",
    "    else:\n",
    "        print(i)"
   ]
  },
  {
   "cell_type": "code",
   "execution_count": null,
   "id": "32614726",
   "metadata": {},
   "outputs": [],
   "source": []
  }
 ],
 "metadata": {
  "kernelspec": {
   "display_name": "Python 3 (ipykernel)",
   "language": "python",
   "name": "python3"
  },
  "language_info": {
   "codemirror_mode": {
    "name": "ipython",
    "version": 3
   },
   "file_extension": ".py",
   "mimetype": "text/x-python",
   "name": "python",
   "nbconvert_exporter": "python",
   "pygments_lexer": "ipython3",
   "version": "3.9.12"
  }
 },
 "nbformat": 4,
 "nbformat_minor": 5
}
